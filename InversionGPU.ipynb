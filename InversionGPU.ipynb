{
 "cells": [
  {
   "cell_type": "code",
   "execution_count": 1,
   "id": "9b38cf41-d7ef-4b19-9f87-19725ab0fcd6",
   "metadata": {},
   "outputs": [],
   "source": [
    "import datetime; import time\n",
    "import matplotlib.pyplot as plt\n",
    "import numpy as np\n",
    "import cupy as cp\n",
    "from dateutil.relativedelta import relativedelta\n",
    "import netCDF4 as nc\n",
    "from Utils.readData  import *\n",
    "from Utils.filter_query import *\n",
    "from tqdm import tqdm\n",
    "from joblib import Parallel, delayed\n",
    "from scipy.sparse import csr_matrix, coo_matrix, csc_matrix\n",
    "from scipy import sparse\n",
    "from scipy.sparse.linalg import inv\n",
    "import cupyx.scipy.sparse.linalg\n",
    "import torch, time\n",
    "from tqdm import tqdm"
   ]
  },
  {
   "cell_type": "code",
   "execution_count": 2,
   "id": "f8772f14-de6a-4e9a-b5bb-f3fd3421e6eb",
   "metadata": {},
   "outputs": [],
   "source": [
    "### Different grids to use\n",
    "# Full grid used for footprints\n",
    "full_xLim = [ -125.0, -120.0 ]\n",
    "full_yLim = [   36.0,   40.0 ]\n",
    "big_xLim,big_yLim = full_xLim,full_yLim\n",
    "# Medium sized grid\n",
    "medium_xLim = [-123.60,-121.60]\n",
    "medium_yLim = [  36.80,  38.60]\n",
    "med_xLim,med_yLim = medium_xLim,medium_yLim\n",
    "# Bay Area domain (smallest grid)\n",
    "BayArea_xLim = [-123.10,-121.80]\n",
    "BayArea_yLim = [  37.35,  38.40]\n",
    "small_xLim,small_yLim = BayArea_xLim,BayArea_yLim\n",
    "# Inversion grid to use\n",
    "Inv_lonLim = small_xLim\n",
    "Inv_latLim = small_yLim"
   ]
  },
  {
   "cell_type": "code",
   "execution_count": 3,
   "id": "7557725d-2b00-48a9-b51f-091820343cca",
   "metadata": {},
   "outputs": [],
   "source": [
    "start_time = datetime.datetime(2018, 1, 1, 0, 0)\n",
    "end_time = datetime.datetime(2018, 1, 3, 0, 0)"
   ]
  },
  {
   "cell_type": "code",
   "execution_count": 4,
   "id": "9f1905d2-41b5-42b6-ab75-c8d14a4d49d3",
   "metadata": {},
   "outputs": [],
   "source": [
    "lats = np.linspace(36, 40, 481)\n",
    "lons = np.linspace(-125, -120, 601)"
   ]
  },
  {
   "cell_type": "code",
   "execution_count": 5,
   "id": "dca2df31-4daa-4852-a78d-69cad254d535",
   "metadata": {},
   "outputs": [
    {
     "name": "stdout",
     "output_type": "stream",
     "text": [
      "490646 27049\n"
     ]
    }
   ],
   "source": [
    "footprint_directory = \"/home/disk/hermes/data/footprints/BEACO2N/obs/\"\n",
    "emission_directory = \"/home/disk/hermes/data/emissions/BEACO2N/\"\n",
    "\n",
    "footprint_files = get_files(footprint_directory)\n",
    "emission_files = get_files(emission_directory)\n",
    "emission_files.sort()\n",
    "footprint_files.sort()\n",
    "print(len(footprint_files), len(emission_files))"
   ]
  },
  {
   "cell_type": "code",
   "execution_count": 6,
   "id": "c3f5bfe5-28ab-483e-80e2-2bbe69bcfd7c",
   "metadata": {},
   "outputs": [
    {
     "data": {
      "text/plain": [
       "1.0"
      ]
     },
     "execution_count": 6,
     "metadata": {},
     "output_type": "execute_result"
    }
   ],
   "source": [
    "np.float32(1.0)"
   ]
  },
  {
   "cell_type": "code",
   "execution_count": 7,
   "id": "3596b67d-1dbc-4687-9fcf-52de2da1f1c7",
   "metadata": {},
   "outputs": [],
   "source": [
    "emission_filtered_files, emission_files_df = filter_emissions(emission_files, [start_time, end_time])\n",
    "foot_filtered_files, foot_files_df = filter_obs(footprint_files, Inv_lonLim, Inv_latLim, agl_domain='')"
   ]
  },
  {
   "cell_type": "code",
   "execution_count": 8,
   "id": "be204614-c689-4a85-b9ce-e01e4654f057",
   "metadata": {},
   "outputs": [],
   "source": [
    "# filtering footprint_files\n",
    "domain_foot_files = list(foot_files_df[(foot_files_df['time']>=start_time)&(foot_files_df['time']<end_time)]['file'])"
   ]
  },
  {
   "cell_type": "code",
   "execution_count": 9,
   "id": "148a8c94-2a85-4045-ad2b-d6e632774f18",
   "metadata": {},
   "outputs": [],
   "source": [
    "nrow = 481\n",
    "ncol = 601\n",
    "m = nrow*ncol\n",
    "\n",
    "m_start = start_time-datetime.timedelta(hours=71)\n",
    "m_end = end_time-datetime.timedelta(hours=1)\n",
    "date_range_integrated = pd.date_range(start=start_time, end=m_end, freq='1h')\n",
    "# time_dict = {}\n",
    "# for idx, value in enumerate(date_range):\n",
    "#     time_dict[value] = idx\n",
    "# m_start, m_end"
   ]
  },
  {
   "cell_type": "code",
   "execution_count": 10,
   "id": "da78b592-4ac2-47f3-a155-7e5897ba06e9",
   "metadata": {},
   "outputs": [],
   "source": [
    "model_error = {\n",
    "    0:3,\n",
    "    1:3,\n",
    "    2:3,\n",
    "    3:3,\n",
    "    4:3,\n",
    "    5:3,\n",
    "    6:4,\n",
    "    7:5,\n",
    "    8:8,\n",
    "    9:6,\n",
    "    10:4,\n",
    "    11:2,\n",
    "    12:1,\n",
    "    13:1,\n",
    "    14:1,\n",
    "    15:1,\n",
    "    16:2,\n",
    "    17:4,\n",
    "    18:6,\n",
    "    19:8,\n",
    "    20:6,\n",
    "    21:4,\n",
    "    22:3,\n",
    "    23:3,\n",
    "}"
   ]
  },
  {
   "cell_type": "code",
   "execution_count": 11,
   "id": "5904b09a-6010-493c-ad62-e2b4f4237c32",
   "metadata": {},
   "outputs": [],
   "source": [
    "# # global H, Y, So_d\n",
    "# # H = np.zeros((len(domain_foot_files), date_range_integrated.shape[0]*m))\n",
    "# # Y = np.zeros((len(domain_foot_files), 1))\n",
    "# # So_d = np.zeros((len(domain_foot_files), 1))\n",
    "\n",
    "def flatten_2d_column(foot):\n",
    "    sub_foot = np.zeros((foot.shape[0]*foot.shape[1]))\n",
    "    for idx in range(foot.shape[1]):\n",
    "        sub_foot[idx*foot.shape[0]:(idx+1)*foot.shape[0]] = foot[:, idx]\n",
    "    return sub_foot\n",
    "\n",
    "# # def fill_h(idx, foot_file):\n",
    "# #     global H, Y, So_d\n",
    "# #     [__, timestamp, receptor_lon, receptor_lat, receptor_agl] = foot_file.replace('.nc', '').split(\"_\")\n",
    "# #     year = int(timestamp[0:4])\n",
    "# #     month = int(timestamp[4:6])\n",
    "# #     day = int(timestamp[6:8])\n",
    "# #     hour = int(timestamp[8:])\n",
    "# #     time_foot = datetime.datetime(year, month, day, hour)\n",
    "# #     index = time_dict[time_foot]\n",
    "# #     # print(H[idx, index*m:(index+1)*m].shape, 481*601)\n",
    "    \n",
    "# #     foot_data = nc.Dataset(foot_file)\n",
    "# #     foot = np.array(foot_data['foot'])\n",
    "# #     Y[idx, 0] = np.array(foot_data['co2'])[0] - np.array(foot_data['bkg_co2_NOAA'])[0]\n",
    "# #     obs_error = np.array(foot_data['co2_err'])[0]\n",
    "# #     bkg_error = np.array(foot_data['bkg_err_NOAA'])[0]\n",
    "# #     mod_error = model_error[time_foot.hour]\n",
    "# #     So_d[idx, 0] = obs_error**2+bkg_error**2+mod_error**2\n",
    "# #     # return_foot = np.zeros((1, date_range.shape[0]*m))\n",
    "# #     resolved_time_list = date_range[date_range<=time_foot][-foot.shape[0]:]\n",
    "# #     for jdx, time_hour in enumerate(resolved_time_list):\n",
    "# #         m_index = time_dict[time_hour]\n",
    "# #         # print(m_index, time_hour, jdx)\n",
    "# #         H[idx, m_index*m:(m_index+1)*m] = flatten_2d_column(foot[jdx, :, :])\n",
    "# #     return\n",
    "\n",
    "# # def fill_h_parallel():\n",
    "# #     # print(\"filling H ...\")\n",
    "# #     # H = np.zeros((len(domain_foot_files), date_range.shape[0]*m))\n",
    "# #     OUTPUT = Parallel(n_jobs=-1, verbose=10, backend='threading')(delayed(fill_h)(idx, foot_file) for idx, foot_file in enumerate(domain_foot_files))\n",
    "# #     # for value in OUTPUT:\n",
    "# #     #     index = value[1]\n",
    "# #     #     data = value[0]\n",
    "# #     #     H[index, :] = data\n",
    "# #     # return H\n",
    "# # fill_h_parallel()\n",
    "\n",
    "# count = 0\n",
    "# for idx in range(H.shape[0]):\n",
    "#     for val in H[250, :]:\n",
    "#         if val!=0:\n",
    "#             count += 1\n",
    "#     break\n",
    "# count\n",
    "\n",
    "# X = np.zeros((date_range.shape[0]*m, 1))\n",
    "# for ems_file in tqdm(emission_filtered_files):\n",
    "#     trimmed_file = ems_file.split(\"/\")[-1].replace(\"_\", \"x\")\n",
    "#     [_, year, month, day, hour] = trimmed_file.replace('.ncdf', '').split(\"x\")\n",
    "#     year = int(year)\n",
    "#     month = int(month)\n",
    "#     day = int(day)\n",
    "#     hour = int(hour)\n",
    "#     timestamp = datetime.datetime(year, month, day, hour)\n",
    "#     ems_data = np.array(nc.Dataset(ems_file)['flx_total'])\n",
    "#     ems_flattened = flatten_2d_column(ems_data)\n",
    "#     index = time_dict[timestamp]\n",
    "#     X[index*m:(index+1)*m, 0] = ems_flattened"
   ]
  },
  {
   "cell_type": "code",
   "execution_count": 12,
   "id": "5e9a5fe9-97ef-4c8a-a113-f0d28b19da78",
   "metadata": {},
   "outputs": [],
   "source": [
    "def get_background_error(data, bkg_conc_noaa, bkg_conc_nasa, bkg_conc_ameriflux, bkg_err_noaa, bkg_err_nasa, bkg_err_ameriflux):\n",
    "    source = ''\n",
    "    bkg_conc = bkg_conc_noaa\n",
    "    bkg_err = max(bkg_err_nasa, bkg_err_noaa)\n",
    "    if bkg_err_nasa > bkg_err_noaa:\n",
    "        source = 'nasa'\n",
    "    else:\n",
    "        source = 'noaa'\n",
    "    if bkg_err == -999.0: #nan value auto fill in netcdf file\n",
    "        if bkg_err_nasa == -999.0 and bkg_err_noaa == -999.0:\n",
    "            bkg_err = np.nan\n",
    "        elif bkg_err_nasa == -999.0:\n",
    "            source = 'noaa'\n",
    "            bkg_err = bkg_err_noaa\n",
    "        elif big_err_noaa == -999.0:\n",
    "            source = 'nasa'\n",
    "            bkg_err = bkg_err_nasa\n",
    "    \n",
    "    ameriflux_lon = -121.8\n",
    "    ameriflux_lat =   38.2\n",
    "    maxDist       =   25.0 # maximum allowable distance from the AmeriFlux site\n",
    "    end_lon = np.array(data['end_lon'])[0]\n",
    "    end_lat = np.array(data['end_lat'])[0]\n",
    "    end_agl = np.array(data['end_agl'])[0]\n",
    "    amf_lon = np.array(data['ameriflux_lon'])[0]\n",
    "    amf_lat = np.array(data['ameriflux_lat'])[0]\n",
    "    amf_agl = np.array(data['ameriflux_agl'])[0]\n",
    "    amf_time = np.array(data['ameriflux_julian'])[0]\n",
    "    amf_dist = 110*np.sqrt((amf_lon-ameriflux_lon)**2 + (amf_lat-ameriflux_lat)**2)\n",
    "    # amfUSE  = amfDist .< maxDist\n",
    "    if amf_dist < maxDist:\n",
    "        source = 'ameriflux'\n",
    "        bkg_conc = bkg_conc_ameriflux\n",
    "        bkg_err = max(bkg_err, bkg_err_ameriflux)\n",
    "    return bkg_conc, bkg_err, source"
   ]
  },
  {
   "cell_type": "markdown",
   "id": "7267d72e-0abb-44be-84ab-1b1abb934b72",
   "metadata": {},
   "source": [
    "# Time integrated"
   ]
  },
  {
   "cell_type": "code",
   "execution_count": 24,
   "id": "df53196c-fe2f-4345-a669-330981bb9c4b",
   "metadata": {},
   "outputs": [],
   "source": [
    "date_range_integrated = pd.date_range(start=start_time, end=m_end, freq='1h')\n",
    "time_dict_integrated = {}\n",
    "for idx, timestamp in enumerate(date_range_integrated):\n",
    "    time_dict_integrated[timestamp] = idx"
   ]
  },
  {
   "cell_type": "code",
   "execution_count": 25,
   "id": "c053357b-00d0-4503-a413-6f34545628b3",
   "metadata": {
    "scrolled": true,
    "tags": []
   },
   "outputs": [
    {
     "name": "stderr",
     "output_type": "stream",
     "text": [
      "  3%|███▏                                                                                                            | 13/453 [00:00<00:06, 63.60it/s]"
     ]
    },
    {
     "name": "stdout",
     "output_type": "stream",
     "text": [
      "/home/disk/hermes/data/footprints/BEACO2N/obs/obs_2018010400_-122.155_37.754_3.nc 410.5341 1.7871917 noaa\n",
      "/home/disk/hermes/data/footprints/BEACO2N/obs/obs_2018010400_-122.175_37.737_3.nc 410.50128 1.7051164 noaa\n",
      "/home/disk/hermes/data/footprints/BEACO2N/obs/obs_2018010400_-122.181_37.819_9.nc 410.57358 1.7891294 noaa\n",
      "/home/disk/hermes/data/footprints/BEACO2N/obs/obs_2018010400_-122.196_37.736_7.8232.nc 410.36023 1.7625825 noaa\n",
      "/home/disk/hermes/data/footprints/BEACO2N/obs/obs_2018010400_-122.205_37.809_7.nc 410.49258 1.830374 noaa\n",
      "/home/disk/hermes/data/footprints/BEACO2N/obs/obs_2018010400_-122.237_37.804_9.528.nc 410.43845 1.789604 noaa\n",
      "/home/disk/hermes/data/footprints/BEACO2N/obs/obs_2018010400_-122.24_37.848_24.nc 410.6054 1.8002934 noaa\n",
      "/home/disk/hermes/data/footprints/BEACO2N/obs/obs_2018010400_-122.252_37.876_10.3.nc 410.58 1.7984264 noaa\n",
      "/home/disk/hermes/data/footprints/BEACO2N/obs/obs_2018010400_-122.277_37.833_3.nc 410.5224 1.8018881 noaa\n",
      "/home/disk/hermes/data/footprints/BEACO2N/obs/obs_2018010400_-122.282_37.815_3.nc 410.45892 1.7850163 noaa\n",
      "/home/disk/hermes/data/footprints/BEACO2N/obs/obs_2018010400_-122.289_38.002_3.nc 410.30197 1.8181831 noaa\n",
      "/home/disk/hermes/data/footprints/BEACO2N/obs/obs_2018010400_-122.292_37.896_3.nc 410.49948 1.781461 noaa\n",
      "/home/disk/hermes/data/footprints/BEACO2N/obs/obs_2018010400_-122.298_37.967_3.nc 410.3521 1.842447 noaa\n",
      "/home/disk/hermes/data/footprints/BEACO2N/obs/obs_2018010400_-122.306_37.92_5.371.nc 410.44928 1.7518584 noaa\n"
     ]
    },
    {
     "name": "stderr",
     "output_type": "stream",
     "text": [
      "  4%|████▉                                                                                                           | 20/453 [00:00<00:07, 59.96it/s]"
     ]
    },
    {
     "name": "stdout",
     "output_type": "stream",
     "text": [
      "/home/disk/hermes/data/footprints/BEACO2N/obs/obs_2018010400_-122.335_37.995_5.033.nc 410.50668 1.7551851 noaa\n",
      "/home/disk/hermes/data/footprints/BEACO2N/obs/obs_2018010400_-122.336_37.913_4.9.nc 410.43988 1.8275659 noaa\n",
      "/home/disk/hermes/data/footprints/BEACO2N/obs/obs_2018010400_-122.365_37.94_3.nc 410.53412 1.8223201 noaa\n",
      "/home/disk/hermes/data/footprints/BEACO2N/obs/obs_2018010400_-122.399_37.801_13.nc 410.46466 1.8153661 noaa\n",
      "/home/disk/hermes/data/footprints/BEACO2N/obs/obs_2018010400_-122.404_37.775_3.nc 410.6536 1.7552634 noaa\n",
      "/home/disk/hermes/data/footprints/BEACO2N/obs/obs_2018010401_-122.155_37.754_3.nc 410.3913 1.7180855 noaa\n",
      "/home/disk/hermes/data/footprints/BEACO2N/obs/obs_2018010401_-122.175_37.737_3.nc 410.45898 1.6803197 noaa\n",
      "/home/disk/hermes/data/footprints/BEACO2N/obs/obs_2018010401_-122.181_37.819_9.nc 410.42465 1.7905962 noaa\n",
      "/home/disk/hermes/data/footprints/BEACO2N/obs/obs_2018010401_-122.196_37.736_7.8232.nc 410.45737 1.7575858 noaa\n",
      "/home/disk/hermes/data/footprints/BEACO2N/obs/obs_2018010401_-122.205_37.809_7.nc 410.4457 1.7658609 noaa\n",
      "/home/disk/hermes/data/footprints/BEACO2N/obs/obs_2018010401_-122.237_37.804_9.528.nc 410.4531 1.808311 noaa\n",
      "/home/disk/hermes/data/footprints/BEACO2N/obs/obs_2018010401_-122.24_37.848_24.nc 410.4297 1.7922658 noaa\n"
     ]
    },
    {
     "name": "stderr",
     "output_type": "stream",
     "text": [
      "  8%|████████▋                                                                                                       | 35/453 [00:00<00:06, 66.68it/s]"
     ]
    },
    {
     "name": "stdout",
     "output_type": "stream",
     "text": [
      "/home/disk/hermes/data/footprints/BEACO2N/obs/obs_2018010401_-122.252_37.876_10.3.nc 410.50183 1.754405 noaa\n",
      "/home/disk/hermes/data/footprints/BEACO2N/obs/obs_2018010401_-122.277_37.833_3.nc 410.402 1.8214474 noaa\n",
      "/home/disk/hermes/data/footprints/BEACO2N/obs/obs_2018010401_-122.282_37.815_3.nc 410.42795 1.7615845 noaa\n",
      "/home/disk/hermes/data/footprints/BEACO2N/obs/obs_2018010401_-122.292_37.896_3.nc 410.46118 1.7692842 noaa\n",
      "/home/disk/hermes/data/footprints/BEACO2N/obs/obs_2018010401_-122.298_37.967_3.nc 410.38324 1.7510561 noaa\n",
      "/home/disk/hermes/data/footprints/BEACO2N/obs/obs_2018010401_-122.306_37.92_5.371.nc 410.50766 1.7525011 noaa\n",
      "/home/disk/hermes/data/footprints/BEACO2N/obs/obs_2018010401_-122.335_37.995_5.033.nc 466.28918 15.36057 ameriflux\n",
      "/home/disk/hermes/data/footprints/BEACO2N/obs/obs_2018010401_-122.336_37.913_4.9.nc 410.46863 1.7857038 noaa\n",
      "/home/disk/hermes/data/footprints/BEACO2N/obs/obs_2018010401_-122.365_37.94_3.nc 410.26947 1.8245962 noaa\n",
      "/home/disk/hermes/data/footprints/BEACO2N/obs/obs_2018010401_-122.392_37.788_3.nc 410.71442 1.7239753 noaa\n",
      "/home/disk/hermes/data/footprints/BEACO2N/obs/obs_2018010401_-122.399_37.801_13.nc 410.54187 1.8079396 noaa\n",
      "/home/disk/hermes/data/footprints/BEACO2N/obs/obs_2018010401_-122.404_37.775_3.nc 410.75366 1.7314608 noaa\n",
      "/home/disk/hermes/data/footprints/BEACO2N/obs/obs_2018010402_-122.155_37.754_3.nc 410.10724 1.7454752 noaa\n",
      "/home/disk/hermes/data/footprints/BEACO2N/obs/obs_2018010402_-122.175_37.737_3.nc 410.31403 1.7475466 noaa\n",
      "/home/disk/hermes/data/footprints/BEACO2N/obs/obs_2018010402_-122.181_37.819_9.nc 410.27264 1.7322294 noaa\n",
      "/home/disk/hermes/data/footprints/BEACO2N/obs/obs_2018010402_-122.196_37.736_7.8232.nc 410.4659 1.7573858 noaa\n"
     ]
    },
    {
     "name": "stderr",
     "output_type": "stream",
     "text": [
      " 11%|████████████▎                                                                                                   | 50/453 [00:00<00:06, 67.09it/s]"
     ]
    },
    {
     "name": "stdout",
     "output_type": "stream",
     "text": [
      "/home/disk/hermes/data/footprints/BEACO2N/obs/obs_2018010402_-122.205_37.809_7.nc 410.33752 1.7403866 noaa\n",
      "/home/disk/hermes/data/footprints/BEACO2N/obs/obs_2018010402_-122.237_37.804_9.528.nc 410.39865 1.7691141 noaa\n",
      "/home/disk/hermes/data/footprints/BEACO2N/obs/obs_2018010402_-122.24_37.848_24.nc 410.32724 1.7245175 noaa\n",
      "/home/disk/hermes/data/footprints/BEACO2N/obs/obs_2018010402_-122.252_37.876_10.3.nc 410.37164 1.7185742 noaa\n",
      "/home/disk/hermes/data/footprints/BEACO2N/obs/obs_2018010402_-122.277_37.833_3.nc 410.51358 1.734498 noaa\n",
      "/home/disk/hermes/data/footprints/BEACO2N/obs/obs_2018010402_-122.282_37.815_3.nc 410.53134 1.7816517 noaa\n",
      "/home/disk/hermes/data/footprints/BEACO2N/obs/obs_2018010402_-122.292_37.896_3.nc 410.41226 1.7530237 noaa\n",
      "/home/disk/hermes/data/footprints/BEACO2N/obs/obs_2018010402_-122.298_37.967_3.nc 410.38208 1.7211735 noaa\n",
      "/home/disk/hermes/data/footprints/BEACO2N/obs/obs_2018010402_-122.306_37.92_5.371.nc 410.34357 1.748848 noaa\n",
      "/home/disk/hermes/data/footprints/BEACO2N/obs/obs_2018010402_-122.335_37.995_5.033.nc 410.1752 1.7220615 noaa\n",
      "/home/disk/hermes/data/footprints/BEACO2N/obs/obs_2018010402_-122.336_37.913_4.9.nc 410.3628 1.7562987 noaa\n",
      "/home/disk/hermes/data/footprints/BEACO2N/obs/obs_2018010402_-122.365_37.94_3.nc 410.4546 1.7579669 noaa\n",
      "/home/disk/hermes/data/footprints/BEACO2N/obs/obs_2018010402_-122.392_37.788_3.nc 410.58722 1.7484204 noaa\n",
      "/home/disk/hermes/data/footprints/BEACO2N/obs/obs_2018010402_-122.399_37.801_13.nc 410.631 1.7373362 noaa\n"
     ]
    },
    {
     "name": "stderr",
     "output_type": "stream",
     "text": [
      " 14%|███████████████▊                                                                                                | 64/453 [00:00<00:05, 66.74it/s]"
     ]
    },
    {
     "name": "stdout",
     "output_type": "stream",
     "text": [
      "/home/disk/hermes/data/footprints/BEACO2N/obs/obs_2018010402_-122.404_37.775_3.nc 410.5777 1.7610286 noaa\n",
      "/home/disk/hermes/data/footprints/BEACO2N/obs/obs_2018010403_-122.155_37.754_3.nc 410.15796 1.7544192 noaa\n",
      "/home/disk/hermes/data/footprints/BEACO2N/obs/obs_2018010403_-122.175_37.737_3.nc 410.20398 1.7510705 noaa\n",
      "/home/disk/hermes/data/footprints/BEACO2N/obs/obs_2018010403_-122.181_37.819_9.nc 410.0886 1.7287773 noaa\n",
      "/home/disk/hermes/data/footprints/BEACO2N/obs/obs_2018010403_-122.196_37.736_7.8232.nc 410.4456 1.7292581 noaa\n",
      "/home/disk/hermes/data/footprints/BEACO2N/obs/obs_2018010403_-122.205_37.809_7.nc 410.00632 1.7501893 noaa\n",
      "/home/disk/hermes/data/footprints/BEACO2N/obs/obs_2018010403_-122.237_37.804_9.528.nc 410.4692 1.6995939 noaa\n",
      "/home/disk/hermes/data/footprints/BEACO2N/obs/obs_2018010403_-122.24_37.848_24.nc 409.93723 1.7450621 noaa\n",
      "/home/disk/hermes/data/footprints/BEACO2N/obs/obs_2018010403_-122.252_37.876_10.3.nc 409.9434 1.743341 noaa\n",
      "/home/disk/hermes/data/footprints/BEACO2N/obs/obs_2018010403_-122.282_37.815_3.nc 410.39767 1.7955554 noaa\n",
      "/home/disk/hermes/data/footprints/BEACO2N/obs/obs_2018010403_-122.289_38.002_3.nc 478.74628 29.671041 ameriflux\n",
      "/home/disk/hermes/data/footprints/BEACO2N/obs/obs_2018010403_-122.292_37.896_3.nc 410.35556 1.7264652 noaa\n",
      "/home/disk/hermes/data/footprints/BEACO2N/obs/obs_2018010403_-122.298_37.967_3.nc 410.26028 1.7259555 noaa\n",
      "/home/disk/hermes/data/footprints/BEACO2N/obs/obs_2018010403_-122.306_37.92_5.371.nc 410.3169 1.7250177 noaa\n"
     ]
    },
    {
     "name": "stderr",
     "output_type": "stream",
     "text": [
      " 17%|███████████████████▎                                                                                            | 78/453 [00:01<00:05, 63.71it/s]"
     ]
    },
    {
     "name": "stdout",
     "output_type": "stream",
     "text": [
      "/home/disk/hermes/data/footprints/BEACO2N/obs/obs_2018010403_-122.335_37.995_5.033.nc 470.34357 27.090017 ameriflux\n",
      "/home/disk/hermes/data/footprints/BEACO2N/obs/obs_2018010403_-122.336_37.913_4.9.nc 410.2966 1.7020277 noaa\n",
      "/home/disk/hermes/data/footprints/BEACO2N/obs/obs_2018010403_-122.365_37.94_3.nc 410.35925 1.6952862 noaa\n",
      "/home/disk/hermes/data/footprints/BEACO2N/obs/obs_2018010403_-122.392_37.788_3.nc 410.4899 1.7857507 noaa\n",
      "/home/disk/hermes/data/footprints/BEACO2N/obs/obs_2018010403_-122.399_37.801_13.nc 410.43134 1.7594672 noaa\n",
      "/home/disk/hermes/data/footprints/BEACO2N/obs/obs_2018010403_-122.404_37.775_3.nc 410.54437 1.7726082 noaa\n",
      "/home/disk/hermes/data/footprints/BEACO2N/obs/obs_2018010404_-122.155_37.754_3.nc 410.0588 1.6647159 noaa\n",
      "/home/disk/hermes/data/footprints/BEACO2N/obs/obs_2018010404_-122.175_37.737_3.nc 410.09067 1.6022367 noaa\n",
      "/home/disk/hermes/data/footprints/BEACO2N/obs/obs_2018010404_-122.181_37.819_9.nc 410.23767 1.6550347 noaa\n",
      "/home/disk/hermes/data/footprints/BEACO2N/obs/obs_2018010404_-122.196_37.736_7.8232.nc 410.37216 1.7335864 noaa\n",
      "/home/disk/hermes/data/footprints/BEACO2N/obs/obs_2018010404_-122.205_37.809_7.nc 410.10037 1.6830802 noaa\n"
     ]
    },
    {
     "name": "stderr",
     "output_type": "stream",
     "text": [
      " 21%|██████████████████████▉                                                                                         | 93/453 [00:01<00:05, 61.40it/s]"
     ]
    },
    {
     "name": "stdout",
     "output_type": "stream",
     "text": [
      "/home/disk/hermes/data/footprints/BEACO2N/obs/obs_2018010404_-122.237_37.804_9.528.nc 410.1174 1.682623 noaa\n",
      "/home/disk/hermes/data/footprints/BEACO2N/obs/obs_2018010404_-122.24_37.848_24.nc 410.16483 1.6291903 noaa\n",
      "/home/disk/hermes/data/footprints/BEACO2N/obs/obs_2018010404_-122.252_37.876_10.3.nc 410.0493 1.5992879 noaa\n",
      "/home/disk/hermes/data/footprints/BEACO2N/obs/obs_2018010404_-122.282_37.815_3.nc 410.34973 1.7802355 noaa\n",
      "/home/disk/hermes/data/footprints/BEACO2N/obs/obs_2018010404_-122.289_38.002_3.nc 410.0072 1.7208483 noaa\n",
      "/home/disk/hermes/data/footprints/BEACO2N/obs/obs_2018010404_-122.292_37.896_3.nc 410.08838 1.7190833 noaa\n",
      "/home/disk/hermes/data/footprints/BEACO2N/obs/obs_2018010404_-122.298_37.967_3.nc 410.16113 1.7325677 noaa\n",
      "/home/disk/hermes/data/footprints/BEACO2N/obs/obs_2018010404_-122.306_37.92_5.371.nc 410.18466 1.7446262 noaa\n",
      "/home/disk/hermes/data/footprints/BEACO2N/obs/obs_2018010404_-122.335_37.995_5.033.nc 410.0858 1.7257658 noaa\n",
      "/home/disk/hermes/data/footprints/BEACO2N/obs/obs_2018010404_-122.336_37.913_4.9.nc 410.41266 1.6967107 noaa\n",
      "/home/disk/hermes/data/footprints/BEACO2N/obs/obs_2018010404_-122.365_37.94_3.nc 410.23505 1.7239436 noaa\n",
      "/home/disk/hermes/data/footprints/BEACO2N/obs/obs_2018010404_-122.392_37.788_3.nc 410.42017 1.7758046 noaa\n",
      "/home/disk/hermes/data/footprints/BEACO2N/obs/obs_2018010404_-122.399_37.801_13.nc 410.54657 1.7717766 noaa\n"
     ]
    },
    {
     "name": "stderr",
     "output_type": "stream",
     "text": [
      " 22%|████████████████████████▌                                                                                      | 100/453 [00:01<00:06, 57.75it/s]"
     ]
    },
    {
     "name": "stdout",
     "output_type": "stream",
     "text": [
      "/home/disk/hermes/data/footprints/BEACO2N/obs/obs_2018010404_-122.404_37.775_3.nc 410.3529 1.7736535 noaa\n",
      "/home/disk/hermes/data/footprints/BEACO2N/obs/obs_2018010405_-122.155_37.754_3.nc 410.14087 1.6633481 noaa\n",
      "/home/disk/hermes/data/footprints/BEACO2N/obs/obs_2018010405_-122.175_37.737_3.nc 410.10193 1.6641612 noaa\n",
      "/home/disk/hermes/data/footprints/BEACO2N/obs/obs_2018010405_-122.181_37.819_9.nc 410.16644 1.6631482 noaa\n",
      "/home/disk/hermes/data/footprints/BEACO2N/obs/obs_2018010405_-122.196_37.736_7.8232.nc 410.0636 1.6526823 noaa\n",
      "/home/disk/hermes/data/footprints/BEACO2N/obs/obs_2018010405_-122.205_37.809_7.nc 410.1172 1.6039156 noaa\n",
      "/home/disk/hermes/data/footprints/BEACO2N/obs/obs_2018010405_-122.237_37.804_9.528.nc 410.11072 1.5972328 noaa\n",
      "/home/disk/hermes/data/footprints/BEACO2N/obs/obs_2018010405_-122.24_37.848_24.nc 410.2514 1.5521574 noaa\n",
      "/home/disk/hermes/data/footprints/BEACO2N/obs/obs_2018010405_-122.252_37.876_10.3.nc 410.10587 1.6097152 noaa\n",
      "/home/disk/hermes/data/footprints/BEACO2N/obs/obs_2018010405_-122.282_37.815_3.nc 410.12802 1.5696944 noaa\n",
      "/home/disk/hermes/data/footprints/BEACO2N/obs/obs_2018010405_-122.289_38.002_3.nc 410.21713 1.3836858 noaa\n",
      "/home/disk/hermes/data/footprints/BEACO2N/obs/obs_2018010405_-122.292_37.896_3.nc 410.15918 1.4995946 noaa\n"
     ]
    },
    {
     "name": "stderr",
     "output_type": "stream",
     "text": [
      " 25%|███████████████████████████▉                                                                                   | 114/453 [00:01<00:05, 59.05it/s]"
     ]
    },
    {
     "name": "stdout",
     "output_type": "stream",
     "text": [
      "/home/disk/hermes/data/footprints/BEACO2N/obs/obs_2018010405_-122.298_37.967_3.nc 410.1616 1.5190606 noaa\n",
      "/home/disk/hermes/data/footprints/BEACO2N/obs/obs_2018010405_-122.306_37.92_5.371.nc 410.1014 1.5228995 noaa\n",
      "/home/disk/hermes/data/footprints/BEACO2N/obs/obs_2018010405_-122.335_37.995_5.033.nc 410.15506 1.4897388 noaa\n",
      "/home/disk/hermes/data/footprints/BEACO2N/obs/obs_2018010405_-122.336_37.913_4.9.nc 410.1655 1.485898 noaa\n",
      "/home/disk/hermes/data/footprints/BEACO2N/obs/obs_2018010405_-122.365_37.94_3.nc 410.04553 1.6354269 noaa\n",
      "/home/disk/hermes/data/footprints/BEACO2N/obs/obs_2018010405_-122.399_37.801_13.nc 410.33945 1.7423556 noaa\n",
      "/home/disk/hermes/data/footprints/BEACO2N/obs/obs_2018010405_-122.404_37.775_3.nc 410.4327 1.7640022 noaa\n",
      "/home/disk/hermes/data/footprints/BEACO2N/obs/obs_2018010406_-122.155_37.754_3.nc 410.12952 1.6469043 noaa\n",
      "/home/disk/hermes/data/footprints/BEACO2N/obs/obs_2018010406_-122.175_37.737_3.nc 410.21887 1.5795107 noaa\n",
      "/home/disk/hermes/data/footprints/BEACO2N/obs/obs_2018010406_-122.181_37.819_9.nc 410.10577 1.6893755 noaa\n",
      "/home/disk/hermes/data/footprints/BEACO2N/obs/obs_2018010406_-122.196_37.736_7.8232.nc 410.1351 1.5798348 noaa\n",
      "/home/disk/hermes/data/footprints/BEACO2N/obs/obs_2018010406_-122.205_37.809_7.nc 410.325 1.6024573 noaa\n"
     ]
    },
    {
     "name": "stderr",
     "output_type": "stream",
     "text": [
      " 28%|███████████████████████████████▎                                                                               | 128/453 [00:02<00:05, 62.82it/s]"
     ]
    },
    {
     "name": "stdout",
     "output_type": "stream",
     "text": [
      "/home/disk/hermes/data/footprints/BEACO2N/obs/obs_2018010406_-122.237_37.804_9.528.nc 410.24893 1.512015 noaa\n",
      "/home/disk/hermes/data/footprints/BEACO2N/obs/obs_2018010406_-122.24_37.848_24.nc 410.29135 1.5416461 noaa\n",
      "/home/disk/hermes/data/footprints/BEACO2N/obs/obs_2018010406_-122.282_37.815_3.nc 410.4208 1.447187 noaa\n",
      "/home/disk/hermes/data/footprints/BEACO2N/obs/obs_2018010406_-122.289_38.002_3.nc 410.18698 1.488297 noaa\n",
      "/home/disk/hermes/data/footprints/BEACO2N/obs/obs_2018010406_-122.292_37.896_3.nc 410.4448 1.4432435 noaa\n",
      "/home/disk/hermes/data/footprints/BEACO2N/obs/obs_2018010406_-122.298_37.967_3.nc 410.341 1.4309999 noaa\n",
      "/home/disk/hermes/data/footprints/BEACO2N/obs/obs_2018010406_-122.306_37.92_5.371.nc 410.375 1.3650767 noaa\n",
      "/home/disk/hermes/data/footprints/BEACO2N/obs/obs_2018010406_-122.335_37.995_5.033.nc 410.20645 1.4906726 noaa\n",
      "/home/disk/hermes/data/footprints/BEACO2N/obs/obs_2018010406_-122.336_37.913_4.9.nc 410.4139 1.3998013 noaa\n",
      "/home/disk/hermes/data/footprints/BEACO2N/obs/obs_2018010406_-122.365_37.94_3.nc 410.34897 1.4302859 noaa\n",
      "/home/disk/hermes/data/footprints/BEACO2N/obs/obs_2018010406_-122.392_37.788_3.nc 410.2281 1.67582 noaa\n",
      "/home/disk/hermes/data/footprints/BEACO2N/obs/obs_2018010406_-122.399_37.801_13.nc 410.3311 1.5205412 noaa\n",
      "/home/disk/hermes/data/footprints/BEACO2N/obs/obs_2018010406_-122.404_37.775_3.nc 410.41122 1.4976541 noaa\n",
      "/home/disk/hermes/data/footprints/BEACO2N/obs/obs_2018010407_-122.155_37.754_3.nc 410.11856 1.6515563 noaa\n",
      "/home/disk/hermes/data/footprints/BEACO2N/obs/obs_2018010407_-122.175_37.737_3.nc 410.09964 1.7050189 noaa\n"
     ]
    },
    {
     "name": "stderr",
     "output_type": "stream",
     "text": [
      " 32%|███████████████████████████████████                                                                            | 143/453 [00:02<00:04, 66.68it/s]"
     ]
    },
    {
     "name": "stdout",
     "output_type": "stream",
     "text": [
      "/home/disk/hermes/data/footprints/BEACO2N/obs/obs_2018010407_-122.181_37.819_9.nc 410.2303 1.6873815 noaa\n",
      "/home/disk/hermes/data/footprints/BEACO2N/obs/obs_2018010407_-122.196_37.736_7.8232.nc 410.21225 1.6386566 noaa\n",
      "/home/disk/hermes/data/footprints/BEACO2N/obs/obs_2018010407_-122.205_37.809_7.nc 410.2012 1.7042243 noaa\n",
      "/home/disk/hermes/data/footprints/BEACO2N/obs/obs_2018010407_-122.237_37.804_9.528.nc 410.25085 1.6499419 noaa\n",
      "/home/disk/hermes/data/footprints/BEACO2N/obs/obs_2018010407_-122.24_37.848_24.nc 410.15356 1.6676621 noaa\n",
      "/home/disk/hermes/data/footprints/BEACO2N/obs/obs_2018010407_-122.252_37.876_10.3.nc 410.0625 1.6338984 noaa\n",
      "/home/disk/hermes/data/footprints/BEACO2N/obs/obs_2018010407_-122.282_37.815_3.nc 410.32135 1.4889772 noaa\n",
      "/home/disk/hermes/data/footprints/BEACO2N/obs/obs_2018010407_-122.289_38.002_3.nc 410.3334 1.476897 noaa\n",
      "/home/disk/hermes/data/footprints/BEACO2N/obs/obs_2018010407_-122.292_37.896_3.nc 410.3066 1.5122051 noaa\n",
      "/home/disk/hermes/data/footprints/BEACO2N/obs/obs_2018010407_-122.298_37.967_3.nc 410.31796 1.5352775 noaa\n",
      "/home/disk/hermes/data/footprints/BEACO2N/obs/obs_2018010407_-122.306_37.92_5.371.nc 410.48053 1.4674114 noaa\n",
      "/home/disk/hermes/data/footprints/BEACO2N/obs/obs_2018010407_-122.335_37.995_5.033.nc 410.3805 1.4466927 noaa\n",
      "/home/disk/hermes/data/footprints/BEACO2N/obs/obs_2018010407_-122.336_37.913_4.9.nc 410.55838 1.414988 noaa\n",
      "/home/disk/hermes/data/footprints/BEACO2N/obs/obs_2018010407_-122.365_37.94_3.nc 410.39212 1.4315435 noaa\n",
      "/home/disk/hermes/data/footprints/BEACO2N/obs/obs_2018010407_-122.399_37.801_13.nc 410.64066 1.4408579 noaa\n"
     ]
    },
    {
     "name": "stderr",
     "output_type": "stream",
     "text": [
      " 35%|██████████████████████████████████████▍                                                                        | 157/453 [00:02<00:04, 64.10it/s]"
     ]
    },
    {
     "name": "stdout",
     "output_type": "stream",
     "text": [
      "/home/disk/hermes/data/footprints/BEACO2N/obs/obs_2018010407_-122.404_37.775_3.nc 410.7288 1.2937238 noaa\n",
      "/home/disk/hermes/data/footprints/BEACO2N/obs/obs_2018010408_-122.155_37.754_3.nc 410.21368 1.5920645 noaa\n",
      "/home/disk/hermes/data/footprints/BEACO2N/obs/obs_2018010408_-122.175_37.737_3.nc 410.23038 1.5309037 noaa\n",
      "/home/disk/hermes/data/footprints/BEACO2N/obs/obs_2018010408_-122.181_37.819_9.nc 410.2483 1.5239844 noaa\n",
      "/home/disk/hermes/data/footprints/BEACO2N/obs/obs_2018010408_-122.196_37.736_7.8232.nc 410.18512 1.5938046 noaa\n",
      "/home/disk/hermes/data/footprints/BEACO2N/obs/obs_2018010408_-122.205_37.809_7.nc 410.13577 1.6282716 noaa\n",
      "/home/disk/hermes/data/footprints/BEACO2N/obs/obs_2018010408_-122.237_37.804_9.528.nc 410.2603 1.5569898 noaa\n",
      "/home/disk/hermes/data/footprints/BEACO2N/obs/obs_2018010408_-122.24_37.848_24.nc 410.13794 1.5848285 noaa\n",
      "/home/disk/hermes/data/footprints/BEACO2N/obs/obs_2018010408_-122.282_37.815_3.nc 410.13486 1.6452391 noaa\n",
      "/home/disk/hermes/data/footprints/BEACO2N/obs/obs_2018010408_-122.292_37.896_3.nc 410.00906 1.6189164 noaa\n",
      "/home/disk/hermes/data/footprints/BEACO2N/obs/obs_2018010408_-122.298_37.967_3.nc 410.1984 1.6050206 noaa\n",
      "/home/disk/hermes/data/footprints/BEACO2N/obs/obs_2018010408_-122.306_37.92_5.371.nc 410.13937 1.6099974 noaa\n",
      "/home/disk/hermes/data/footprints/BEACO2N/obs/obs_2018010408_-122.335_37.995_5.033.nc 410.21463 1.561316 noaa\n"
     ]
    },
    {
     "name": "stderr",
     "output_type": "stream",
     "text": [
      " 38%|█████████████████████████████████████████▉                                                                     | 171/453 [00:02<00:04, 56.59it/s]"
     ]
    },
    {
     "name": "stdout",
     "output_type": "stream",
     "text": [
      "/home/disk/hermes/data/footprints/BEACO2N/obs/obs_2018010408_-122.336_37.913_4.9.nc 410.41992 1.5066056 noaa\n",
      "/home/disk/hermes/data/footprints/BEACO2N/obs/obs_2018010408_-122.365_37.94_3.nc 410.40067 1.4380629 noaa\n",
      "/home/disk/hermes/data/footprints/BEACO2N/obs/obs_2018010408_-122.392_37.788_3.nc 410.46805 1.4556538 noaa\n",
      "/home/disk/hermes/data/footprints/BEACO2N/obs/obs_2018010408_-122.399_37.801_13.nc 410.49982 1.4703956 noaa\n",
      "/home/disk/hermes/data/footprints/BEACO2N/obs/obs_2018010408_-122.404_37.775_3.nc 410.55908 1.4242158 noaa\n",
      "/home/disk/hermes/data/footprints/BEACO2N/obs/obs_2018010409_-122.155_37.754_3.nc 410.687 1.4127548 noaa\n",
      "/home/disk/hermes/data/footprints/BEACO2N/obs/obs_2018010409_-122.175_37.737_3.nc 410.7317 1.3884362 noaa\n",
      "/home/disk/hermes/data/footprints/BEACO2N/obs/obs_2018010409_-122.181_37.819_9.nc 410.65607 1.4149158 noaa\n",
      "/home/disk/hermes/data/footprints/BEACO2N/obs/obs_2018010409_-122.196_37.736_7.8232.nc 410.63446 1.4003041 noaa\n",
      "/home/disk/hermes/data/footprints/BEACO2N/obs/obs_2018010409_-122.205_37.809_7.nc 410.64578 1.4019505 noaa\n",
      "/home/disk/hermes/data/footprints/BEACO2N/obs/obs_2018010409_-122.237_37.804_9.528.nc 410.67062 1.4011817 noaa\n",
      "/home/disk/hermes/data/footprints/BEACO2N/obs/obs_2018010409_-122.24_37.848_24.nc 410.76187 1.3339751 noaa\n"
     ]
    },
    {
     "name": "stderr",
     "output_type": "stream",
     "text": [
      " 41%|█████████████████████████████████████████████                                                                  | 184/453 [00:02<00:04, 59.55it/s]"
     ]
    },
    {
     "name": "stdout",
     "output_type": "stream",
     "text": [
      "/home/disk/hermes/data/footprints/BEACO2N/obs/obs_2018010409_-122.252_37.876_10.3.nc 410.7406 1.3635614 noaa\n",
      "/home/disk/hermes/data/footprints/BEACO2N/obs/obs_2018010409_-122.282_37.815_3.nc 410.71115 1.3575689 noaa\n",
      "/home/disk/hermes/data/footprints/BEACO2N/obs/obs_2018010409_-122.289_38.002_3.nc 410.65543 1.3494947 noaa\n",
      "/home/disk/hermes/data/footprints/BEACO2N/obs/obs_2018010409_-122.292_37.896_3.nc 410.84482 1.2324215 noaa\n",
      "/home/disk/hermes/data/footprints/BEACO2N/obs/obs_2018010409_-122.298_37.967_3.nc 410.65735 1.3907961 noaa\n",
      "/home/disk/hermes/data/footprints/BEACO2N/obs/obs_2018010409_-122.306_37.92_5.371.nc 410.86246 1.2176425 noaa\n",
      "/home/disk/hermes/data/footprints/BEACO2N/obs/obs_2018010409_-122.335_37.995_5.033.nc 410.62653 1.3791953 noaa\n",
      "/home/disk/hermes/data/footprints/BEACO2N/obs/obs_2018010409_-122.336_37.913_4.9.nc 410.78748 1.2688773 noaa\n",
      "/home/disk/hermes/data/footprints/BEACO2N/obs/obs_2018010409_-122.365_37.94_3.nc 410.60437 1.4128488 noaa\n",
      "/home/disk/hermes/data/footprints/BEACO2N/obs/obs_2018010409_-122.392_37.788_3.nc 410.52255 1.3811667 noaa\n",
      "/home/disk/hermes/data/footprints/BEACO2N/obs/obs_2018010409_-122.399_37.801_13.nc 410.50616 1.4002656 noaa\n",
      "/home/disk/hermes/data/footprints/BEACO2N/obs/obs_2018010409_-122.404_37.775_3.nc 410.80746 1.3748941 noaa\n",
      "/home/disk/hermes/data/footprints/BEACO2N/obs/obs_2018010410_-122.155_37.754_3.nc 410.88696 1.273532 noaa\n",
      "/home/disk/hermes/data/footprints/BEACO2N/obs/obs_2018010410_-122.175_37.737_3.nc 410.94736 1.2200168 noaa\n"
     ]
    },
    {
     "name": "stderr",
     "output_type": "stream",
     "text": [
      " 44%|████████████████████████████████████████████████▊                                                              | 199/453 [00:03<00:04, 63.20it/s]"
     ]
    },
    {
     "name": "stdout",
     "output_type": "stream",
     "text": [
      "/home/disk/hermes/data/footprints/BEACO2N/obs/obs_2018010410_-122.181_37.819_9.nc 410.83014 1.3663425 noaa\n",
      "/home/disk/hermes/data/footprints/BEACO2N/obs/obs_2018010410_-122.196_37.736_7.8232.nc 410.9112 1.2628778 noaa\n",
      "/home/disk/hermes/data/footprints/BEACO2N/obs/obs_2018010410_-122.205_37.809_7.nc 410.94992 1.2395624 noaa\n",
      "/home/disk/hermes/data/footprints/BEACO2N/obs/obs_2018010410_-122.237_37.804_9.528.nc 410.87234 1.2979422 noaa\n",
      "/home/disk/hermes/data/footprints/BEACO2N/obs/obs_2018010410_-122.24_37.848_24.nc 410.93182 1.2553395 noaa\n",
      "/home/disk/hermes/data/footprints/BEACO2N/obs/obs_2018010410_-122.252_37.876_10.3.nc 410.9012 1.2878839 noaa\n",
      "/home/disk/hermes/data/footprints/BEACO2N/obs/obs_2018010410_-122.282_37.815_3.nc 410.9141 1.2590883 noaa\n",
      "/home/disk/hermes/data/footprints/BEACO2N/obs/obs_2018010410_-122.289_38.002_3.nc 410.5291 1.4214975 noaa\n",
      "/home/disk/hermes/data/footprints/BEACO2N/obs/obs_2018010410_-122.292_37.896_3.nc 410.9878 1.2355856 noaa\n",
      "/home/disk/hermes/data/footprints/BEACO2N/obs/obs_2018010410_-122.298_37.967_3.nc 410.7517 1.338503 noaa\n",
      "/home/disk/hermes/data/footprints/BEACO2N/obs/obs_2018010410_-122.306_37.92_5.371.nc 410.93314 1.2756485 noaa\n",
      "/home/disk/hermes/data/footprints/BEACO2N/obs/obs_2018010410_-122.335_37.995_5.033.nc 410.7207 1.3613409 noaa\n",
      "/home/disk/hermes/data/footprints/BEACO2N/obs/obs_2018010410_-122.336_37.913_4.9.nc 410.9943 1.2192329 noaa\n",
      "/home/disk/hermes/data/footprints/BEACO2N/obs/obs_2018010410_-122.365_37.94_3.nc 410.90378 1.2397925 noaa\n"
     ]
    },
    {
     "name": "stderr",
     "output_type": "stream",
     "text": [
      " 47%|███████████████████████████████████████████████████▉                                                           | 212/453 [00:03<00:04, 54.18it/s]"
     ]
    },
    {
     "name": "stdout",
     "output_type": "stream",
     "text": [
      "/home/disk/hermes/data/footprints/BEACO2N/obs/obs_2018010410_-122.392_37.788_3.nc 410.7448 1.320429 noaa\n",
      "/home/disk/hermes/data/footprints/BEACO2N/obs/obs_2018010410_-122.399_37.801_13.nc 410.7369 1.3073835 noaa\n",
      "/home/disk/hermes/data/footprints/BEACO2N/obs/obs_2018010410_-122.404_37.775_3.nc 410.65143 1.3042897 noaa\n",
      "/home/disk/hermes/data/footprints/BEACO2N/obs/obs_2018010411_-122.155_37.754_3.nc 410.93475 1.2519609 noaa\n",
      "/home/disk/hermes/data/footprints/BEACO2N/obs/obs_2018010411_-122.175_37.737_3.nc 410.93176 1.208261 noaa\n",
      "/home/disk/hermes/data/footprints/BEACO2N/obs/obs_2018010411_-122.181_37.819_9.nc 410.94043 1.1753694 noaa\n",
      "/home/disk/hermes/data/footprints/BEACO2N/obs/obs_2018010411_-122.196_37.736_7.8232.nc 410.90683 1.2630103 noaa\n",
      "/home/disk/hermes/data/footprints/BEACO2N/obs/obs_2018010411_-122.205_37.809_7.nc 410.94653 1.2214298 noaa\n",
      "/home/disk/hermes/data/footprints/BEACO2N/obs/obs_2018010411_-122.237_37.804_9.528.nc 410.91345 1.2308533 noaa\n",
      "/home/disk/hermes/data/footprints/BEACO2N/obs/obs_2018010411_-122.24_37.848_24.nc 410.94162 1.2398717 noaa\n",
      "/home/disk/hermes/data/footprints/BEACO2N/obs/obs_2018010411_-122.282_37.815_3.nc 410.8806 1.2547195 noaa\n"
     ]
    },
    {
     "name": "stderr",
     "output_type": "stream",
     "text": [
      " 50%|███████████████████████████████████████████████████████▌                                                       | 227/453 [00:03<00:03, 61.41it/s]"
     ]
    },
    {
     "name": "stdout",
     "output_type": "stream",
     "text": [
      "/home/disk/hermes/data/footprints/BEACO2N/obs/obs_2018010411_-122.289_38.002_3.nc 410.59 1.555492 noaa\n",
      "/home/disk/hermes/data/footprints/BEACO2N/obs/obs_2018010411_-122.292_37.896_3.nc 410.94733 1.2113796 noaa\n",
      "/home/disk/hermes/data/footprints/BEACO2N/obs/obs_2018010411_-122.298_37.967_3.nc 410.85776 1.3221097 noaa\n",
      "/home/disk/hermes/data/footprints/BEACO2N/obs/obs_2018010411_-122.306_37.92_5.371.nc 410.98874 1.136941 noaa\n",
      "/home/disk/hermes/data/footprints/BEACO2N/obs/obs_2018010411_-122.335_37.995_5.033.nc 410.89926 1.297428 noaa\n",
      "/home/disk/hermes/data/footprints/BEACO2N/obs/obs_2018010411_-122.336_37.913_4.9.nc 411.01868 1.1880727 noaa\n",
      "/home/disk/hermes/data/footprints/BEACO2N/obs/obs_2018010411_-122.365_37.94_3.nc 410.95963 1.2476324 noaa\n",
      "/home/disk/hermes/data/footprints/BEACO2N/obs/obs_2018010411_-122.392_37.788_3.nc 410.8159 1.3446743 noaa\n",
      "/home/disk/hermes/data/footprints/BEACO2N/obs/obs_2018010411_-122.399_37.801_13.nc 410.80148 1.3574777 noaa\n",
      "/home/disk/hermes/data/footprints/BEACO2N/obs/obs_2018010411_-122.404_37.775_3.nc 410.85196 1.318026 noaa\n",
      "/home/disk/hermes/data/footprints/BEACO2N/obs/obs_2018010412_-122.155_37.754_3.nc 411.24084 0.9976162 noaa\n",
      "/home/disk/hermes/data/footprints/BEACO2N/obs/obs_2018010412_-122.175_37.737_3.nc 411.22354 0.9929754 noaa\n",
      "/home/disk/hermes/data/footprints/BEACO2N/obs/obs_2018010412_-122.181_37.819_9.nc 411.162 1.104506 noaa\n",
      "/home/disk/hermes/data/footprints/BEACO2N/obs/obs_2018010412_-122.196_37.736_7.8232.nc 411.09863 1.1375523 noaa\n",
      "/home/disk/hermes/data/footprints/BEACO2N/obs/obs_2018010412_-122.205_37.809_7.nc 411.20892 1.031581 noaa\n",
      "/home/disk/hermes/data/footprints/BEACO2N/obs/obs_2018010412_-122.237_37.804_9.528.nc 411.18622 1.0736032 noaa\n"
     ]
    },
    {
     "name": "stderr",
     "output_type": "stream",
     "text": [
      " 52%|█████████████████████████████████████████████████████████▊                                                     | 236/453 [00:03<00:03, 64.88it/s]"
     ]
    },
    {
     "name": "stdout",
     "output_type": "stream",
     "text": [
      "/home/disk/hermes/data/footprints/BEACO2N/obs/obs_2018010412_-122.24_37.848_24.nc 411.11826 1.1490016 noaa\n",
      "/home/disk/hermes/data/footprints/BEACO2N/obs/obs_2018010412_-122.282_37.815_3.nc 410.99387 1.2081115 noaa\n",
      "/home/disk/hermes/data/footprints/BEACO2N/obs/obs_2018010412_-122.289_38.002_3.nc 410.62863 1.4891372 noaa\n",
      "/home/disk/hermes/data/footprints/BEACO2N/obs/obs_2018010412_-122.292_37.896_3.nc 411.06882 1.174212 noaa\n",
      "/home/disk/hermes/data/footprints/BEACO2N/obs/obs_2018010412_-122.298_37.967_3.nc 410.79285 1.3630038 noaa\n",
      "/home/disk/hermes/data/footprints/BEACO2N/obs/obs_2018010412_-122.306_37.92_5.371.nc 411.02203 1.1781727 noaa\n",
      "/home/disk/hermes/data/footprints/BEACO2N/obs/obs_2018010412_-122.335_37.995_5.033.nc 410.86194 1.3162777 noaa\n",
      "/home/disk/hermes/data/footprints/BEACO2N/obs/obs_2018010412_-122.336_37.913_4.9.nc 410.978 1.2232323 noaa\n",
      "/home/disk/hermes/data/footprints/BEACO2N/obs/obs_2018010412_-122.365_37.94_3.nc 411.02136 1.1851139 noaa\n",
      "/home/disk/hermes/data/footprints/BEACO2N/obs/obs_2018010412_-122.399_37.801_13.nc 410.95203 1.2810549 noaa\n",
      "/home/disk/hermes/data/footprints/BEACO2N/obs/obs_2018010412_-122.404_37.775_3.nc 410.84283 1.3154516 noaa\n",
      "/home/disk/hermes/data/footprints/BEACO2N/obs/obs_2018010413_-122.155_37.754_3.nc 411.3444 0.84505177 noaa\n",
      "/home/disk/hermes/data/footprints/BEACO2N/obs/obs_2018010413_-122.175_37.737_3.nc 411.26117 0.9274461 noaa\n"
     ]
    },
    {
     "name": "stderr",
     "output_type": "stream",
     "text": [
      " 55%|█████████████████████████████████████████████████████████████▎                                                 | 250/453 [00:04<00:03, 60.37it/s]"
     ]
    },
    {
     "name": "stdout",
     "output_type": "stream",
     "text": [
      "/home/disk/hermes/data/footprints/BEACO2N/obs/obs_2018010413_-122.181_37.819_9.nc 411.22778 1.0088022 noaa\n",
      "/home/disk/hermes/data/footprints/BEACO2N/obs/obs_2018010413_-122.196_37.736_7.8232.nc 411.28864 0.94659775 noaa\n",
      "/home/disk/hermes/data/footprints/BEACO2N/obs/obs_2018010413_-122.205_37.809_7.nc 411.21924 0.9948131 noaa\n",
      "/home/disk/hermes/data/footprints/BEACO2N/obs/obs_2018010413_-122.237_37.804_9.528.nc 411.33182 0.9087937 noaa\n",
      "/home/disk/hermes/data/footprints/BEACO2N/obs/obs_2018010413_-122.24_37.848_24.nc 411.28464 0.9324386 noaa\n",
      "/home/disk/hermes/data/footprints/BEACO2N/obs/obs_2018010413_-122.252_37.876_10.3.nc 411.26157 0.9875319 noaa\n",
      "/home/disk/hermes/data/footprints/BEACO2N/obs/obs_2018010413_-122.282_37.815_3.nc 411.18314 1.102774 noaa\n",
      "/home/disk/hermes/data/footprints/BEACO2N/obs/obs_2018010413_-122.292_37.896_3.nc 411.19336 1.0510997 noaa\n",
      "/home/disk/hermes/data/footprints/BEACO2N/obs/obs_2018010413_-122.298_37.967_3.nc 410.9016 1.3332798 noaa\n",
      "/home/disk/hermes/data/footprints/BEACO2N/obs/obs_2018010413_-122.306_37.92_5.371.nc 411.2078 1.0370939 noaa\n",
      "/home/disk/hermes/data/footprints/BEACO2N/obs/obs_2018010413_-122.335_37.995_5.033.nc 411.04605 1.1847262 noaa\n",
      "/home/disk/hermes/data/footprints/BEACO2N/obs/obs_2018010413_-122.336_37.913_4.9.nc 411.24554 1.0273191 noaa\n",
      "/home/disk/hermes/data/footprints/BEACO2N/obs/obs_2018010413_-122.365_37.94_3.nc 411.09457 1.1836364 noaa\n",
      "/home/disk/hermes/data/footprints/BEACO2N/obs/obs_2018010413_-122.392_37.788_3.nc 410.92862 1.282173 noaa\n"
     ]
    },
    {
     "name": "stderr",
     "output_type": "stream",
     "text": [
      " 58%|████████████████████████████████████████████████████████████████▋                                              | 264/453 [00:04<00:03, 58.32it/s]"
     ]
    },
    {
     "name": "stdout",
     "output_type": "stream",
     "text": [
      "/home/disk/hermes/data/footprints/BEACO2N/obs/obs_2018010413_-122.399_37.801_13.nc 410.9771 1.2214798 noaa\n",
      "/home/disk/hermes/data/footprints/BEACO2N/obs/obs_2018010413_-122.404_37.775_3.nc 411.01282 1.2033901 noaa\n",
      "/home/disk/hermes/data/footprints/BEACO2N/obs/obs_2018010414_-122.155_37.754_3.nc 411.2785 0.9336659 noaa\n",
      "/home/disk/hermes/data/footprints/BEACO2N/obs/obs_2018010414_-122.175_37.737_3.nc 411.38382 0.80406535 noaa\n",
      "/home/disk/hermes/data/footprints/BEACO2N/obs/obs_2018010414_-122.181_37.819_9.nc 411.11996 1.0972465 noaa\n",
      "/home/disk/hermes/data/footprints/BEACO2N/obs/obs_2018010414_-122.196_37.736_7.8232.nc 411.3436 0.87612826 noaa\n",
      "/home/disk/hermes/data/footprints/BEACO2N/obs/obs_2018010414_-122.205_37.809_7.nc 411.22534 1.0179209 noaa\n",
      "/home/disk/hermes/data/footprints/BEACO2N/obs/obs_2018010414_-122.237_37.804_9.528.nc 411.32343 0.89648044 noaa\n",
      "/home/disk/hermes/data/footprints/BEACO2N/obs/obs_2018010414_-122.24_37.848_24.nc 411.22888 0.9567723 noaa\n",
      "/home/disk/hermes/data/footprints/BEACO2N/obs/obs_2018010414_-122.252_37.876_10.3.nc 411.24014 0.9972379 noaa\n",
      "/home/disk/hermes/data/footprints/BEACO2N/obs/obs_2018010414_-122.282_37.815_3.nc 411.30975 0.92119527 noaa\n",
      "/home/disk/hermes/data/footprints/BEACO2N/obs/obs_2018010414_-122.289_38.002_3.nc 411.08502 1.169175 noaa\n",
      "/home/disk/hermes/data/footprints/BEACO2N/obs/obs_2018010414_-122.292_37.896_3.nc 411.29074 0.9154574 noaa\n",
      "/home/disk/hermes/data/footprints/BEACO2N/obs/obs_2018010414_-122.298_37.967_3.nc 411.07294 1.1526682 noaa\n"
     ]
    },
    {
     "name": "stderr",
     "output_type": "stream",
     "text": [
      " 62%|████████████████████████████████████████████████████████████████████▎                                          | 279/453 [00:04<00:02, 61.58it/s]"
     ]
    },
    {
     "name": "stdout",
     "output_type": "stream",
     "text": [
      "/home/disk/hermes/data/footprints/BEACO2N/obs/obs_2018010414_-122.306_37.92_5.371.nc 411.30914 0.9124421 noaa\n",
      "/home/disk/hermes/data/footprints/BEACO2N/obs/obs_2018010414_-122.335_37.995_5.033.nc 411.222 1.0174874 noaa\n",
      "/home/disk/hermes/data/footprints/BEACO2N/obs/obs_2018010414_-122.336_37.913_4.9.nc 411.24136 0.967267 noaa\n",
      "/home/disk/hermes/data/footprints/BEACO2N/obs/obs_2018010414_-122.365_37.94_3.nc 411.2765 0.9145734 noaa\n",
      "/home/disk/hermes/data/footprints/BEACO2N/obs/obs_2018010414_-122.392_37.788_3.nc 411.09177 1.157412 noaa\n",
      "/home/disk/hermes/data/footprints/BEACO2N/obs/obs_2018010414_-122.399_37.801_13.nc 411.12137 1.1206062 noaa\n",
      "/home/disk/hermes/data/footprints/BEACO2N/obs/obs_2018010414_-122.404_37.775_3.nc 411.0094 1.2168577 noaa\n",
      "/home/disk/hermes/data/footprints/BEACO2N/obs/obs_2018010415_-122.155_37.754_3.nc 411.40347 0.7583625 noaa\n",
      "/home/disk/hermes/data/footprints/BEACO2N/obs/obs_2018010415_-122.175_37.737_3.nc 411.35416 0.8613512 noaa\n",
      "/home/disk/hermes/data/footprints/BEACO2N/obs/obs_2018010415_-122.181_37.819_9.nc 411.14902 1.0892668 noaa\n",
      "/home/disk/hermes/data/footprints/BEACO2N/obs/obs_2018010415_-122.196_37.736_7.8232.nc 411.38425 0.8424562 noaa\n",
      "/home/disk/hermes/data/footprints/BEACO2N/obs/obs_2018010415_-122.205_37.809_7.nc 411.22955 1.0026565 noaa\n",
      "/home/disk/hermes/data/footprints/BEACO2N/obs/obs_2018010415_-122.237_37.804_9.528.nc 411.35162 0.8510689 noaa\n"
     ]
    },
    {
     "name": "stderr",
     "output_type": "stream",
     "text": [
      " 65%|████████████████████████████████████████████████████████████████████████▎                                      | 295/453 [00:04<00:02, 68.41it/s]"
     ]
    },
    {
     "name": "stdout",
     "output_type": "stream",
     "text": [
      "/home/disk/hermes/data/footprints/BEACO2N/obs/obs_2018010415_-122.24_37.848_24.nc 411.33252 0.86074364 noaa\n",
      "/home/disk/hermes/data/footprints/BEACO2N/obs/obs_2018010415_-122.252_37.876_10.3.nc 411.36792 0.8606503 noaa\n",
      "/home/disk/hermes/data/footprints/BEACO2N/obs/obs_2018010415_-122.277_37.833_3.nc 411.32037 0.8973462 noaa\n",
      "/home/disk/hermes/data/footprints/BEACO2N/obs/obs_2018010415_-122.282_37.815_3.nc 411.3248 0.87990946 noaa\n",
      "/home/disk/hermes/data/footprints/BEACO2N/obs/obs_2018010415_-122.289_38.002_3.nc 411.17618 1.1034766 noaa\n",
      "/home/disk/hermes/data/footprints/BEACO2N/obs/obs_2018010415_-122.292_37.896_3.nc 411.34164 0.8435521 noaa\n",
      "/home/disk/hermes/data/footprints/BEACO2N/obs/obs_2018010415_-122.298_37.967_3.nc 411.07645 1.1737299 noaa\n",
      "/home/disk/hermes/data/footprints/BEACO2N/obs/obs_2018010415_-122.306_37.92_5.371.nc 411.27567 0.9656625 noaa\n",
      "/home/disk/hermes/data/footprints/BEACO2N/obs/obs_2018010415_-122.335_37.995_5.033.nc 411.23502 0.971476 noaa\n",
      "/home/disk/hermes/data/footprints/BEACO2N/obs/obs_2018010415_-122.336_37.913_4.9.nc 411.25995 0.942324 noaa\n",
      "/home/disk/hermes/data/footprints/BEACO2N/obs/obs_2018010415_-122.365_37.94_3.nc 411.25635 0.93633705 noaa\n",
      "/home/disk/hermes/data/footprints/BEACO2N/obs/obs_2018010415_-122.392_37.788_3.nc 411.16302 1.0859301 noaa\n",
      "/home/disk/hermes/data/footprints/BEACO2N/obs/obs_2018010415_-122.399_37.801_13.nc 411.2334 1.0073593 noaa\n",
      "/home/disk/hermes/data/footprints/BEACO2N/obs/obs_2018010415_-122.404_37.775_3.nc 411.23788 0.9583985 noaa\n"
     ]
    },
    {
     "name": "stderr",
     "output_type": "stream",
     "text": [
      " 68%|███████████████████████████████████████████████████████████████████████████▋                                   | 309/453 [00:05<00:02, 59.68it/s]"
     ]
    },
    {
     "name": "stdout",
     "output_type": "stream",
     "text": [
      "/home/disk/hermes/data/footprints/BEACO2N/obs/obs_2018010416_-122.155_37.754_3.nc 411.43335 0.7224978 noaa\n",
      "/home/disk/hermes/data/footprints/BEACO2N/obs/obs_2018010416_-122.175_37.737_3.nc 411.38785 0.82749945 noaa\n",
      "/home/disk/hermes/data/footprints/BEACO2N/obs/obs_2018010416_-122.181_37.819_9.nc 411.39502 0.7638124 noaa\n",
      "/home/disk/hermes/data/footprints/BEACO2N/obs/obs_2018010416_-122.196_37.736_7.8232.nc 411.34494 0.8552135 noaa\n",
      "/home/disk/hermes/data/footprints/BEACO2N/obs/obs_2018010416_-122.205_37.809_7.nc 411.39325 0.8091272 noaa\n",
      "/home/disk/hermes/data/footprints/BEACO2N/obs/obs_2018010416_-122.237_37.804_9.528.nc 411.33658 0.8322456 noaa\n",
      "/home/disk/hermes/data/footprints/BEACO2N/obs/obs_2018010416_-122.24_37.848_24.nc 411.3959 0.7965501 noaa\n",
      "/home/disk/hermes/data/footprints/BEACO2N/obs/obs_2018010416_-122.277_37.833_3.nc 411.3768 0.7873671 noaa\n",
      "/home/disk/hermes/data/footprints/BEACO2N/obs/obs_2018010416_-122.282_37.815_3.nc 411.32187 0.88532394 noaa\n",
      "/home/disk/hermes/data/footprints/BEACO2N/obs/obs_2018010416_-122.289_38.002_3.nc 411.30997 0.91253906 noaa\n",
      "/home/disk/hermes/data/footprints/BEACO2N/obs/obs_2018010416_-122.292_37.896_3.nc 411.37387 0.8000914 noaa\n",
      "/home/disk/hermes/data/footprints/BEACO2N/obs/obs_2018010416_-122.298_37.967_3.nc 411.06805 1.1721767 noaa\n",
      "/home/disk/hermes/data/footprints/BEACO2N/obs/obs_2018010416_-122.306_37.92_5.371.nc 411.32315 0.88531303 noaa\n"
     ]
    },
    {
     "name": "stderr",
     "output_type": "stream",
     "text": [
      " 70%|█████████████████████████████████████████████████████████████████████████████▍                                 | 316/453 [00:05<00:02, 55.17it/s]"
     ]
    },
    {
     "name": "stdout",
     "output_type": "stream",
     "text": [
      "/home/disk/hermes/data/footprints/BEACO2N/obs/obs_2018010416_-122.335_37.995_5.033.nc 411.2263 1.0084646 noaa\n",
      "/home/disk/hermes/data/footprints/BEACO2N/obs/obs_2018010416_-122.336_37.913_4.9.nc 411.2536 0.9638556 noaa\n",
      "/home/disk/hermes/data/footprints/BEACO2N/obs/obs_2018010416_-122.365_37.94_3.nc 411.22675 1.0114298 noaa\n",
      "/home/disk/hermes/data/footprints/BEACO2N/obs/obs_2018010416_-122.392_37.788_3.nc 411.3638 0.778443 noaa\n",
      "/home/disk/hermes/data/footprints/BEACO2N/obs/obs_2018010416_-122.399_37.801_13.nc 411.2816 0.8818006 noaa\n",
      "/home/disk/hermes/data/footprints/BEACO2N/obs/obs_2018010416_-122.404_37.775_3.nc 411.28845 0.8227984 noaa\n",
      "/home/disk/hermes/data/footprints/BEACO2N/obs/obs_2018010417_-122.155_37.754_3.nc 411.32224 0.79882705 noaa\n",
      "/home/disk/hermes/data/footprints/BEACO2N/obs/obs_2018010417_-122.175_37.737_3.nc 411.34653 0.794751 noaa\n",
      "/home/disk/hermes/data/footprints/BEACO2N/obs/obs_2018010417_-122.181_37.819_9.nc 411.36072 0.79748094 noaa\n",
      "/home/disk/hermes/data/footprints/BEACO2N/obs/obs_2018010417_-122.196_37.736_7.8232.nc 411.3538 0.82556194 noaa\n",
      "/home/disk/hermes/data/footprints/BEACO2N/obs/obs_2018010417_-122.205_37.809_7.nc 411.35098 0.81714714 noaa\n",
      "/home/disk/hermes/data/footprints/BEACO2N/obs/obs_2018010417_-122.237_37.804_9.528.nc 411.39462 0.77252704 noaa\n"
     ]
    },
    {
     "name": "stderr",
     "output_type": "stream",
     "text": [
      " 73%|████████████████████████████████████████████████████████████████████████████████▊                              | 330/453 [00:05<00:02, 60.69it/s]"
     ]
    },
    {
     "name": "stdout",
     "output_type": "stream",
     "text": [
      "/home/disk/hermes/data/footprints/BEACO2N/obs/obs_2018010417_-122.24_37.848_24.nc 411.31717 0.8561018 noaa\n",
      "/home/disk/hermes/data/footprints/BEACO2N/obs/obs_2018010417_-122.252_37.876_10.3.nc 411.3538 0.8054592 noaa\n",
      "/home/disk/hermes/data/footprints/BEACO2N/obs/obs_2018010417_-122.277_37.833_3.nc 411.34192 0.83885086 noaa\n",
      "/home/disk/hermes/data/footprints/BEACO2N/obs/obs_2018010417_-122.282_37.815_3.nc 411.39105 0.7698728 noaa\n",
      "/home/disk/hermes/data/footprints/BEACO2N/obs/obs_2018010417_-122.289_38.002_3.nc 411.31314 0.90149635 noaa\n",
      "/home/disk/hermes/data/footprints/BEACO2N/obs/obs_2018010417_-122.292_37.896_3.nc 411.39215 0.75021166 noaa\n",
      "/home/disk/hermes/data/footprints/BEACO2N/obs/obs_2018010417_-122.298_37.967_3.nc 411.0773 1.1592916 noaa\n",
      "/home/disk/hermes/data/footprints/BEACO2N/obs/obs_2018010417_-122.306_37.92_5.371.nc 411.34036 0.81730175 noaa\n",
      "/home/disk/hermes/data/footprints/BEACO2N/obs/obs_2018010417_-122.335_37.995_5.033.nc 411.31702 0.86351615 noaa\n",
      "/home/disk/hermes/data/footprints/BEACO2N/obs/obs_2018010417_-122.336_37.913_4.9.nc 411.30307 0.85807747 noaa\n",
      "/home/disk/hermes/data/footprints/BEACO2N/obs/obs_2018010417_-122.365_37.94_3.nc 411.24472 0.968885 noaa\n",
      "/home/disk/hermes/data/footprints/BEACO2N/obs/obs_2018010417_-122.392_37.788_3.nc 411.41785 0.6963636 noaa\n",
      "/home/disk/hermes/data/footprints/BEACO2N/obs/obs_2018010417_-122.399_37.801_13.nc 411.36353 0.7646654 noaa\n"
     ]
    },
    {
     "name": "stderr",
     "output_type": "stream",
     "text": [
      " 76%|████████████████████████████████████████████████████████████████████████████████████▌                          | 345/453 [00:05<00:01, 63.08it/s]"
     ]
    },
    {
     "name": "stdout",
     "output_type": "stream",
     "text": [
      "/home/disk/hermes/data/footprints/BEACO2N/obs/obs_2018010417_-122.404_37.775_3.nc 411.36612 0.759989 noaa\n",
      "/home/disk/hermes/data/footprints/BEACO2N/obs/obs_2018010418_-122.155_37.754_3.nc 411.3386 0.789078 noaa\n",
      "/home/disk/hermes/data/footprints/BEACO2N/obs/obs_2018010418_-122.175_37.737_3.nc 411.3585 0.76340824 noaa\n",
      "/home/disk/hermes/data/footprints/BEACO2N/obs/obs_2018010418_-122.181_37.819_9.nc 411.32782 0.82985914 noaa\n",
      "/home/disk/hermes/data/footprints/BEACO2N/obs/obs_2018010418_-122.196_37.736_7.8232.nc 411.39178 0.76587296 noaa\n",
      "/home/disk/hermes/data/footprints/BEACO2N/obs/obs_2018010418_-122.205_37.809_7.nc 411.32928 0.8104289 noaa\n",
      "/home/disk/hermes/data/footprints/BEACO2N/obs/obs_2018010418_-122.237_37.804_9.528.nc 411.343 0.79478943 noaa\n",
      "/home/disk/hermes/data/footprints/BEACO2N/obs/obs_2018010418_-122.24_37.848_24.nc 411.36594 0.80100006 noaa\n",
      "/home/disk/hermes/data/footprints/BEACO2N/obs/obs_2018010418_-122.252_37.876_10.3.nc 411.33826 0.7744803 noaa\n",
      "/home/disk/hermes/data/footprints/BEACO2N/obs/obs_2018010418_-122.277_37.833_3.nc 411.38486 0.74546015 noaa\n",
      "/home/disk/hermes/data/footprints/BEACO2N/obs/obs_2018010418_-122.282_37.815_3.nc 411.3781 0.78203636 noaa\n",
      "/home/disk/hermes/data/footprints/BEACO2N/obs/obs_2018010418_-122.289_38.002_3.nc 411.32913 0.78966624 noaa\n",
      "/home/disk/hermes/data/footprints/BEACO2N/obs/obs_2018010418_-122.292_37.896_3.nc 411.41974 0.71418685 noaa\n",
      "/home/disk/hermes/data/footprints/BEACO2N/obs/obs_2018010418_-122.298_37.967_3.nc 411.38437 0.7601113 noaa\n",
      "/home/disk/hermes/data/footprints/BEACO2N/obs/obs_2018010418_-122.306_37.92_5.371.nc 411.41647 0.72775817 noaa\n"
     ]
    },
    {
     "name": "stderr",
     "output_type": "stream",
     "text": [
      " 79%|███████████████████████████████████████████████████████████████████████████████████████▉                       | 359/453 [00:05<00:01, 60.48it/s]"
     ]
    },
    {
     "name": "stdout",
     "output_type": "stream",
     "text": [
      "/home/disk/hermes/data/footprints/BEACO2N/obs/obs_2018010418_-122.335_37.995_5.033.nc 411.3669 0.7807058 noaa\n",
      "/home/disk/hermes/data/footprints/BEACO2N/obs/obs_2018010418_-122.336_37.913_4.9.nc 411.4101 0.74160254 noaa\n",
      "/home/disk/hermes/data/footprints/BEACO2N/obs/obs_2018010418_-122.365_37.94_3.nc 411.356 0.7802778 noaa\n",
      "/home/disk/hermes/data/footprints/BEACO2N/obs/obs_2018010418_-122.392_37.788_3.nc 411.4467 0.6870944 noaa\n",
      "/home/disk/hermes/data/footprints/BEACO2N/obs/obs_2018010418_-122.399_37.801_13.nc 411.43527 0.6808763 noaa\n",
      "/home/disk/hermes/data/footprints/BEACO2N/obs/obs_2018010418_-122.404_37.775_3.nc 411.39825 0.7540038 noaa\n",
      "/home/disk/hermes/data/footprints/BEACO2N/obs/obs_2018010419_-122.155_37.754_3.nc 411.33948 0.7484456 noaa\n",
      "/home/disk/hermes/data/footprints/BEACO2N/obs/obs_2018010419_-122.175_37.737_3.nc 411.38654 0.7286564 noaa\n",
      "/home/disk/hermes/data/footprints/BEACO2N/obs/obs_2018010419_-122.181_37.819_9.nc 411.32373 0.7810549 noaa\n",
      "/home/disk/hermes/data/footprints/BEACO2N/obs/obs_2018010419_-122.196_37.736_7.8232.nc 411.3138 0.8224029 noaa\n",
      "/home/disk/hermes/data/footprints/BEACO2N/obs/obs_2018010419_-122.205_37.809_7.nc 411.32916 0.80214334 noaa\n",
      "/home/disk/hermes/data/footprints/BEACO2N/obs/obs_2018010419_-122.237_37.804_9.528.nc 411.38623 0.75470704 noaa\n",
      "/home/disk/hermes/data/footprints/BEACO2N/obs/obs_2018010419_-122.24_37.848_24.nc 411.33438 0.8075001 noaa\n"
     ]
    },
    {
     "name": "stderr",
     "output_type": "stream",
     "text": [
      " 82%|███████████████████████████████████████████████████████████████████████████████████████████▍                   | 373/453 [00:06<00:01, 57.84it/s]"
     ]
    },
    {
     "name": "stdout",
     "output_type": "stream",
     "text": [
      "/home/disk/hermes/data/footprints/BEACO2N/obs/obs_2018010419_-122.277_37.833_3.nc 411.34137 0.7755203 noaa\n",
      "/home/disk/hermes/data/footprints/BEACO2N/obs/obs_2018010419_-122.282_37.815_3.nc 411.36047 0.7723472 noaa\n",
      "/home/disk/hermes/data/footprints/BEACO2N/obs/obs_2018010419_-122.289_38.002_3.nc 411.35483 0.8102904 noaa\n",
      "/home/disk/hermes/data/footprints/BEACO2N/obs/obs_2018010419_-122.292_37.896_3.nc 411.3941 0.6939553 noaa\n",
      "/home/disk/hermes/data/footprints/BEACO2N/obs/obs_2018010419_-122.298_37.967_3.nc 411.42422 0.6948717 noaa\n",
      "/home/disk/hermes/data/footprints/BEACO2N/obs/obs_2018010419_-122.306_37.92_5.371.nc 411.38562 0.7333892 noaa\n",
      "/home/disk/hermes/data/footprints/BEACO2N/obs/obs_2018010419_-122.335_37.995_5.033.nc 411.32364 0.86203897 noaa\n",
      "/home/disk/hermes/data/footprints/BEACO2N/obs/obs_2018010419_-122.336_37.913_4.9.nc 411.37488 0.76544863 noaa\n",
      "/home/disk/hermes/data/footprints/BEACO2N/obs/obs_2018010419_-122.365_37.94_3.nc 411.395 0.7190231 noaa\n",
      "/home/disk/hermes/data/footprints/BEACO2N/obs/obs_2018010419_-122.392_37.788_3.nc 411.4332 0.73961663 noaa\n",
      "/home/disk/hermes/data/footprints/BEACO2N/obs/obs_2018010419_-122.399_37.801_13.nc 411.39502 0.75271255 noaa\n",
      "/home/disk/hermes/data/footprints/BEACO2N/obs/obs_2018010419_-122.404_37.775_3.nc 411.41837 0.67859036 noaa\n"
     ]
    },
    {
     "name": "stderr",
     "output_type": "stream",
     "text": [
      " 85%|██████████████████████████████████████████████████████████████████████████████████████████████▌                | 386/453 [00:06<00:01, 59.00it/s]"
     ]
    },
    {
     "name": "stdout",
     "output_type": "stream",
     "text": [
      "/home/disk/hermes/data/footprints/BEACO2N/obs/obs_2018010420_-122.155_37.754_3.nc 411.26758 0.78087777 noaa\n",
      "/home/disk/hermes/data/footprints/BEACO2N/obs/obs_2018010420_-122.175_37.737_3.nc 411.20926 0.8396449 noaa\n",
      "/home/disk/hermes/data/footprints/BEACO2N/obs/obs_2018010420_-122.181_37.819_9.nc 411.33994 0.7300803 noaa\n",
      "/home/disk/hermes/data/footprints/BEACO2N/obs/obs_2018010420_-122.196_37.736_7.8232.nc 411.28796 0.7490379 noaa\n",
      "/home/disk/hermes/data/footprints/BEACO2N/obs/obs_2018010420_-122.205_37.809_7.nc 410.9279 0.97815734 noaa\n",
      "/home/disk/hermes/data/footprints/BEACO2N/obs/obs_2018010420_-122.237_37.804_9.528.nc 410.64288 1.0564283 noaa\n",
      "/home/disk/hermes/data/footprints/BEACO2N/obs/obs_2018010420_-122.24_37.848_24.nc 410.91147 0.9924828 noaa\n",
      "/home/disk/hermes/data/footprints/BEACO2N/obs/obs_2018010420_-122.252_37.876_10.3.nc 411.0289 0.9416047 noaa\n",
      "/home/disk/hermes/data/footprints/BEACO2N/obs/obs_2018010420_-122.277_37.833_3.nc 411.345 0.73268616 noaa\n",
      "/home/disk/hermes/data/footprints/BEACO2N/obs/obs_2018010420_-122.282_37.815_3.nc 411.29816 0.7714201 noaa\n",
      "/home/disk/hermes/data/footprints/BEACO2N/obs/obs_2018010420_-122.292_37.896_3.nc 411.2046 0.8231191 noaa\n",
      "/home/disk/hermes/data/footprints/BEACO2N/obs/obs_2018010420_-122.298_37.967_3.nc 411.27658 0.8164815 noaa\n",
      "/home/disk/hermes/data/footprints/BEACO2N/obs/obs_2018010420_-122.306_37.92_5.371.nc 411.22327 0.84445125 noaa\n"
     ]
    },
    {
     "name": "stderr",
     "output_type": "stream",
     "text": [
      " 89%|██████████████████████████████████████████████████████████████████████████████████████████████████▌            | 402/453 [00:06<00:00, 66.56it/s]"
     ]
    },
    {
     "name": "stdout",
     "output_type": "stream",
     "text": [
      "/home/disk/hermes/data/footprints/BEACO2N/obs/obs_2018010420_-122.335_37.995_5.033.nc 411.3353 0.786524 noaa\n",
      "/home/disk/hermes/data/footprints/BEACO2N/obs/obs_2018010420_-122.336_37.913_4.9.nc 411.33084 0.7727033 noaa\n",
      "/home/disk/hermes/data/footprints/BEACO2N/obs/obs_2018010420_-122.365_37.94_3.nc 411.40674 0.6843312 noaa\n",
      "/home/disk/hermes/data/footprints/BEACO2N/obs/obs_2018010420_-122.392_37.788_3.nc 411.41144 0.6955632 noaa\n",
      "/home/disk/hermes/data/footprints/BEACO2N/obs/obs_2018010420_-122.399_37.801_13.nc 411.36746 0.77289534 noaa\n",
      "/home/disk/hermes/data/footprints/BEACO2N/obs/obs_2018010420_-122.404_37.775_3.nc 411.40253 0.74211925 noaa\n",
      "/home/disk/hermes/data/footprints/BEACO2N/obs/obs_2018010421_-122.155_37.754_3.nc 411.2435 0.7759655 noaa\n",
      "/home/disk/hermes/data/footprints/BEACO2N/obs/obs_2018010421_-122.175_37.737_3.nc 411.2603 0.8031281 noaa\n",
      "/home/disk/hermes/data/footprints/BEACO2N/obs/obs_2018010421_-122.181_37.819_9.nc 411.27795 0.7671482 noaa\n",
      "/home/disk/hermes/data/footprints/BEACO2N/obs/obs_2018010421_-122.196_37.736_7.8232.nc 411.29224 0.7289238 noaa\n",
      "/home/disk/hermes/data/footprints/BEACO2N/obs/obs_2018010421_-122.205_37.809_7.nc 410.9311 1.0990422 noaa\n",
      "/home/disk/hermes/data/footprints/BEACO2N/obs/obs_2018010421_-122.237_37.804_9.528.nc 410.78738 1.1459595 noaa\n",
      "/home/disk/hermes/data/footprints/BEACO2N/obs/obs_2018010421_-122.24_37.848_24.nc 410.7164 1.1653093 noaa\n",
      "/home/disk/hermes/data/footprints/BEACO2N/obs/obs_2018010421_-122.252_37.876_10.3.nc 410.63535 1.1789535 noaa\n",
      "/home/disk/hermes/data/footprints/BEACO2N/obs/obs_2018010421_-122.277_37.833_3.nc 411.23886 0.8797635 noaa\n",
      "/home/disk/hermes/data/footprints/BEACO2N/obs/obs_2018010421_-122.282_37.815_3.nc 411.22827 0.88031846 noaa\n"
     ]
    },
    {
     "name": "stderr",
     "output_type": "stream",
     "text": [
      " 90%|████████████████████████████████████████████████████████████████████████████████████████████████████▏          | 409/453 [00:06<00:00, 60.29it/s]"
     ]
    },
    {
     "name": "stdout",
     "output_type": "stream",
     "text": [
      "/home/disk/hermes/data/footprints/BEACO2N/obs/obs_2018010421_-122.289_38.002_3.nc 410.90057 1.0264257 noaa\n",
      "/home/disk/hermes/data/footprints/BEACO2N/obs/obs_2018010421_-122.292_37.896_3.nc 410.94946 1.0678649 noaa\n",
      "/home/disk/hermes/data/footprints/BEACO2N/obs/obs_2018010421_-122.298_37.967_3.nc 410.58713 1.1163019 noaa\n",
      "/home/disk/hermes/data/footprints/BEACO2N/obs/obs_2018010421_-122.306_37.92_5.371.nc 411.195 0.86585927 noaa\n",
      "/home/disk/hermes/data/footprints/BEACO2N/obs/obs_2018010421_-122.335_37.995_5.033.nc 411.33658 0.78755087 noaa\n",
      "/home/disk/hermes/data/footprints/BEACO2N/obs/obs_2018010421_-122.336_37.913_4.9.nc 411.23117 0.9083485 noaa\n",
      "/home/disk/hermes/data/footprints/BEACO2N/obs/obs_2018010421_-122.365_37.94_3.nc 411.29803 0.8255088 noaa\n",
      "/home/disk/hermes/data/footprints/BEACO2N/obs/obs_2018010421_-122.392_37.788_3.nc 411.36517 0.6876044 noaa\n",
      "/home/disk/hermes/data/footprints/BEACO2N/obs/obs_2018010421_-122.399_37.801_13.nc 411.36893 0.71409386 noaa\n",
      "/home/disk/hermes/data/footprints/BEACO2N/obs/obs_2018010421_-122.404_37.775_3.nc 411.11456 0.9654288 noaa\n",
      "/home/disk/hermes/data/footprints/BEACO2N/obs/obs_2018010422_-122.155_37.754_3.nc 411.22174 0.781755 noaa\n"
     ]
    },
    {
     "name": "stderr",
     "output_type": "stream",
     "text": [
      " 93%|███████████████████████████████████████████████████████████████████████████████████████████████████████▍       | 422/453 [00:06<00:00, 55.16it/s]"
     ]
    },
    {
     "name": "stdout",
     "output_type": "stream",
     "text": [
      "/home/disk/hermes/data/footprints/BEACO2N/obs/obs_2018010422_-122.175_37.737_3.nc 411.26846 0.76973945 noaa\n",
      "/home/disk/hermes/data/footprints/BEACO2N/obs/obs_2018010422_-122.181_37.819_9.nc 411.1566 0.8952409 noaa\n",
      "/home/disk/hermes/data/footprints/BEACO2N/obs/obs_2018010422_-122.196_37.736_7.8232.nc 411.24796 0.8143902 noaa\n",
      "/home/disk/hermes/data/footprints/BEACO2N/obs/obs_2018010422_-122.205_37.809_7.nc 411.18454 0.8824853 noaa\n",
      "/home/disk/hermes/data/footprints/BEACO2N/obs/obs_2018010422_-122.237_37.804_9.528.nc 411.03024 1.0368838 noaa\n",
      "/home/disk/hermes/data/footprints/BEACO2N/obs/obs_2018010422_-122.24_37.848_24.nc 411.10025 0.9424951 noaa\n",
      "/home/disk/hermes/data/footprints/BEACO2N/obs/obs_2018010422_-122.252_37.876_10.3.nc 410.93884 1.0939714 noaa\n",
      "/home/disk/hermes/data/footprints/BEACO2N/obs/obs_2018010422_-122.277_37.833_3.nc 411.18887 0.86801195 noaa\n",
      "/home/disk/hermes/data/footprints/BEACO2N/obs/obs_2018010422_-122.282_37.815_3.nc 411.17905 0.8722806 noaa\n",
      "/home/disk/hermes/data/footprints/BEACO2N/obs/obs_2018010422_-122.289_38.002_3.nc 410.6977 1.1706706 noaa\n",
      "/home/disk/hermes/data/footprints/BEACO2N/obs/obs_2018010422_-122.292_37.896_3.nc 410.96863 1.0073931 noaa\n",
      "/home/disk/hermes/data/footprints/BEACO2N/obs/obs_2018010422_-122.298_37.967_3.nc 411.0861 0.99101365 noaa\n"
     ]
    },
    {
     "name": "stderr",
     "output_type": "stream",
     "text": [
      " 96%|██████████████████████████████████████████████████████████████████████████████████████████████████████████▊    | 436/453 [00:07<00:00, 57.15it/s]"
     ]
    },
    {
     "name": "stdout",
     "output_type": "stream",
     "text": [
      "/home/disk/hermes/data/footprints/BEACO2N/obs/obs_2018010422_-122.306_37.92_5.371.nc 411.19623 0.88790184 noaa\n",
      "/home/disk/hermes/data/footprints/BEACO2N/obs/obs_2018010422_-122.335_37.995_5.033.nc 410.80673 1.0680429 noaa\n",
      "/home/disk/hermes/data/footprints/BEACO2N/obs/obs_2018010422_-122.336_37.913_4.9.nc 411.34912 0.7588934 noaa\n",
      "/home/disk/hermes/data/footprints/BEACO2N/obs/obs_2018010422_-122.365_37.94_3.nc 411.3616 0.72565246 noaa\n",
      "/home/disk/hermes/data/footprints/BEACO2N/obs/obs_2018010422_-122.392_37.788_3.nc 411.26132 0.8139639 noaa\n",
      "/home/disk/hermes/data/footprints/BEACO2N/obs/obs_2018010422_-122.399_37.801_13.nc 411.07788 1.0328788 noaa\n",
      "/home/disk/hermes/data/footprints/BEACO2N/obs/obs_2018010422_-122.404_37.775_3.nc 411.0399 1.0400765 noaa\n",
      "/home/disk/hermes/data/footprints/BEACO2N/obs/obs_2018010423_-122.155_37.754_3.nc 411.22607 0.77326834 noaa\n",
      "/home/disk/hermes/data/footprints/BEACO2N/obs/obs_2018010423_-122.175_37.737_3.nc 411.27118 0.7779992 noaa\n",
      "/home/disk/hermes/data/footprints/BEACO2N/obs/obs_2018010423_-122.181_37.819_9.nc 411.19614 0.7981993 noaa\n",
      "/home/disk/hermes/data/footprints/BEACO2N/obs/obs_2018010423_-122.196_37.736_7.8232.nc 411.06796 1.0009692 noaa\n",
      "/home/disk/hermes/data/footprints/BEACO2N/obs/obs_2018010423_-122.205_37.809_7.nc 411.24606 0.7731142 noaa\n"
     ]
    },
    {
     "name": "stderr",
     "output_type": "stream",
     "text": [
      " 99%|█████████████████████████████████████████████████████████████████████████████████████████████████████████████▊ | 448/453 [00:07<00:00, 55.32it/s]"
     ]
    },
    {
     "name": "stdout",
     "output_type": "stream",
     "text": [
      "/home/disk/hermes/data/footprints/BEACO2N/obs/obs_2018010423_-122.237_37.804_9.528.nc 411.1498 0.8891071 noaa\n",
      "/home/disk/hermes/data/footprints/BEACO2N/obs/obs_2018010423_-122.24_37.848_24.nc 411.18826 0.8596104 noaa\n",
      "/home/disk/hermes/data/footprints/BEACO2N/obs/obs_2018010423_-122.252_37.876_10.3.nc 411.08704 0.9389443 noaa\n",
      "/home/disk/hermes/data/footprints/BEACO2N/obs/obs_2018010423_-122.277_37.833_3.nc 411.1858 0.87144595 noaa\n",
      "/home/disk/hermes/data/footprints/BEACO2N/obs/obs_2018010423_-122.282_37.815_3.nc 411.12537 0.9430779 noaa\n",
      "/home/disk/hermes/data/footprints/BEACO2N/obs/obs_2018010423_-122.289_38.002_3.nc 410.82468 1.1231425 noaa\n",
      "/home/disk/hermes/data/footprints/BEACO2N/obs/obs_2018010423_-122.292_37.896_3.nc 411.05182 1.0497615 noaa\n",
      "/home/disk/hermes/data/footprints/BEACO2N/obs/obs_2018010423_-122.298_37.967_3.nc 410.86703 1.127728 noaa\n",
      "/home/disk/hermes/data/footprints/BEACO2N/obs/obs_2018010423_-122.306_37.92_5.371.nc 411.09924 0.95085853 noaa\n",
      "/home/disk/hermes/data/footprints/BEACO2N/obs/obs_2018010423_-122.335_37.995_5.033.nc 410.6866 1.1835835 noaa\n",
      "/home/disk/hermes/data/footprints/BEACO2N/obs/obs_2018010423_-122.336_37.913_4.9.nc 411.27878 0.84527886 noaa\n"
     ]
    },
    {
     "name": "stderr",
     "output_type": "stream",
     "text": [
      "100%|███████████████████████████████████████████████████████████████████████████████████████████████████████████████| 453/453 [00:07<00:00, 60.32it/s]"
     ]
    },
    {
     "name": "stdout",
     "output_type": "stream",
     "text": [
      "/home/disk/hermes/data/footprints/BEACO2N/obs/obs_2018010423_-122.365_37.94_3.nc 411.32382 0.7926269 noaa\n",
      "/home/disk/hermes/data/footprints/BEACO2N/obs/obs_2018010423_-122.392_37.788_3.nc 411.21365 0.8943413 noaa\n",
      "/home/disk/hermes/data/footprints/BEACO2N/obs/obs_2018010423_-122.399_37.801_13.nc 410.8797 1.1170951 noaa\n",
      "/home/disk/hermes/data/footprints/BEACO2N/obs/obs_2018010423_-122.404_37.775_3.nc 411.05695 0.98508537 noaa\n"
     ]
    },
    {
     "name": "stderr",
     "output_type": "stream",
     "text": [
      "\n"
     ]
    }
   ],
   "source": [
    "source_list = []\n",
    "for foot_file in tqdm(domain_foot_files):\n",
    "    # print(foot_file)\n",
    "    data = nc.Dataset(foot_file)\n",
    "    bkg_conc_noaa = np.array(data['bkg_co2_NOAA'])[0]\n",
    "    bkg_conc_nasa = np.array(data['bkg_co2_NASA'])[0]\n",
    "    bkg_conc_ameriflux = np.array(data['ameriflux_co2'])[0]\n",
    "    bkg_err_noaa = np.array(data['bkg_err_NOAA'])[0]\n",
    "    bkg_err_nasa = np.array(data['bkg_err_NASA'])[0]\n",
    "    bkg_err_ameriflux = np.array(data['ameriflux_err'])[0]\n",
    "    bkg_conc, bkg_err, source = get_background_error(data, bkg_conc_noaa, bkg_conc_nasa, bkg_conc_ameriflux, bkg_err_noaa, bkg_err_nasa, bkg_err_ameriflux)\n",
    "    source_list.append(source)\n",
    "    print(foot_file, bkg_conc, bkg_err, source)"
   ]
  },
  {
   "cell_type": "code",
   "execution_count": 26,
   "id": "e0ad5a54-d823-4e70-8103-ed0d48360364",
   "metadata": {},
   "outputs": [
    {
     "data": {
      "text/plain": [
       "dict_keys(['info', 'co2', 'co2_err', 'bkg_co2_NOAA', 'bkg_err_NOAA', 'bkg_co2_NASA', 'bkg_err_NASA', 'yr', 'mon', 'day', 'hr', 'jul', 'obs_lat', 'obs_lon', 'obs_agl', 'end_lon', 'end_lat', 'end_agl', 'ameriflux_lon', 'ameriflux_lat', 'ameriflux_agl', 'ameriflux_julian', 'ameriflux_co2', 'ameriflux_err', 'lon', 'lat', 'time', 'foot'])"
      ]
     },
     "execution_count": 26,
     "metadata": {},
     "output_type": "execute_result"
    }
   ],
   "source": [
    "data.variables.keys()"
   ]
  },
  {
   "cell_type": "code",
   "execution_count": 27,
   "id": "127bbc15-bf84-4690-bcda-0e00d7ab3bc9",
   "metadata": {
    "scrolled": true,
    "tags": []
   },
   "outputs": [
    {
     "name": "stderr",
     "output_type": "stream",
     "text": [
      "[Parallel(n_jobs=-1)]: Using backend ThreadingBackend with 8 concurrent workers.\n",
      "[Parallel(n_jobs=-1)]: Done   2 tasks      | elapsed:    3.5s\n",
      "[Parallel(n_jobs=-1)]: Done   9 tasks      | elapsed:    7.3s\n",
      "[Parallel(n_jobs=-1)]: Done  16 tasks      | elapsed:    8.2s\n",
      "[Parallel(n_jobs=-1)]: Done  25 tasks      | elapsed:   14.6s\n",
      "[Parallel(n_jobs=-1)]: Done  34 tasks      | elapsed:   17.9s\n",
      "[Parallel(n_jobs=-1)]: Done  45 tasks      | elapsed:   21.9s\n",
      "[Parallel(n_jobs=-1)]: Done  56 tasks      | elapsed:   27.2s\n",
      "[Parallel(n_jobs=-1)]: Done  69 tasks      | elapsed:   32.2s\n",
      "[Parallel(n_jobs=-1)]: Done  82 tasks      | elapsed:   38.0s\n",
      "[Parallel(n_jobs=-1)]: Done  97 tasks      | elapsed:   42.6s\n",
      "[Parallel(n_jobs=-1)]: Done 112 tasks      | elapsed:   46.9s\n",
      "[Parallel(n_jobs=-1)]: Done 129 tasks      | elapsed:   50.8s\n",
      "[Parallel(n_jobs=-1)]: Done 146 tasks      | elapsed:   54.8s\n",
      "[Parallel(n_jobs=-1)]: Done 165 tasks      | elapsed:   59.3s\n",
      "[Parallel(n_jobs=-1)]: Done 184 tasks      | elapsed:  1.1min\n",
      "[Parallel(n_jobs=-1)]: Done 205 tasks      | elapsed:  1.1min\n",
      "[Parallel(n_jobs=-1)]: Done 226 tasks      | elapsed:  1.2min\n",
      "[Parallel(n_jobs=-1)]: Done 249 tasks      | elapsed:  1.2min\n",
      "[Parallel(n_jobs=-1)]: Done 272 tasks      | elapsed:  1.3min\n",
      "[Parallel(n_jobs=-1)]: Done 297 tasks      | elapsed:  1.4min\n",
      "[Parallel(n_jobs=-1)]: Done 322 tasks      | elapsed:  1.4min\n",
      "[Parallel(n_jobs=-1)]: Done 349 tasks      | elapsed:  1.5min\n",
      "[Parallel(n_jobs=-1)]: Done 376 tasks      | elapsed:  1.5min\n",
      "[Parallel(n_jobs=-1)]: Done 405 tasks      | elapsed:  1.6min\n",
      "[Parallel(n_jobs=-1)]: Done 434 tasks      | elapsed:  1.7min\n",
      "[Parallel(n_jobs=-1)]: Done 453 out of 453 | elapsed:  1.7min finished\n"
     ]
    },
    {
     "data": {
      "text/plain": [
       "34150"
      ]
     },
     "execution_count": 27,
     "metadata": {},
     "output_type": "execute_result"
    }
   ],
   "source": [
    "global H_integrated, Y_integrated, So_d_integrated\n",
    "\n",
    "H_integrated = np.zeros((len(domain_foot_files), date_range_integrated.shape[0]*m))\n",
    "Y_integrated = np.zeros((len(domain_foot_files), 1))\n",
    "So_d_integrated = np.zeros((len(domain_foot_files), 1))\n",
    "\n",
    "def fill_h_integrated(idx, foot_file):\n",
    "    global H_integrated, Y_integrated, So_d_integrated\n",
    "    [__, timestamp, receptor_lon, receptor_lat, receptor_agl] = foot_file.replace('.nc', '').split(\"_\")\n",
    "    year = int(timestamp[0:4])\n",
    "    month = int(timestamp[4:6])\n",
    "    day = int(timestamp[6:8])\n",
    "    hour = int(timestamp[8:])\n",
    "    time_foot = datetime.datetime(year, month, day, hour)\n",
    "    index = time_dict_integrated[time_foot]\n",
    "    # print(H[idx, index*m:(index+1)*m].shape, 481*601)\n",
    "    \n",
    "    foot_data = nc.Dataset(foot_file)\n",
    "    foot = np.nansum(np.array(foot_data['foot']), axis=0)\n",
    "    bkg_conc_noaa = np.array(foot_data['bkg_co2_NOAA'])[0]\n",
    "    bkg_conc_nasa = np.array(foot_data['bkg_co2_NASA'])[0]\n",
    "    bkg_conc_ameriflux = np.array(foot_data['ameriflux_co2'])[0]\n",
    "    bkg_err_noaa = np.array(foot_data['bkg_err_NOAA'])[0]\n",
    "    bkg_err_nasa = np.array(foot_data['bkg_err_NASA'])[0]\n",
    "    bkg_err_ameriflux = np.array(foot_data['ameriflux_err'])[0]\n",
    "    \n",
    "    bkg_conc, bkg_error, source = get_background_error(foot_data, bkg_conc_noaa, bkg_conc_nasa, bkg_conc_ameriflux, bkg_err_noaa, bkg_err_nasa, bkg_err_ameriflux)\n",
    "    \n",
    "    Y_integrated[idx, 0] = np.array(foot_data['co2'])[0] - bkg_conc\n",
    "    obs_error = np.array(foot_data['co2_err'])[0]\n",
    "    # bkg_error = np.array(foot_data['bkg_err_NOAA'])[0]\n",
    "    mod_error = model_error[time_foot.hour]\n",
    "    So_d_integrated[idx, 0] = obs_error**2+bkg_error**2+mod_error**2\n",
    "    H_integrated[idx, index*m:(index+1)*m] = flatten_2d_column(foot)\n",
    "\n",
    "def fill_h_integrated_parallel():\n",
    "    # print(\"filling H ...\")\n",
    "    # H = np.zeros((len(domain_foot_files), date_range.shape[0]*m))\n",
    "    OUTPUT = Parallel(n_jobs=-1, verbose=10, backend='threading')(delayed(fill_h_integrated)(idx, foot_file) for idx, foot_file in enumerate(domain_foot_files))\n",
    "fill_h_integrated_parallel()\n",
    "\n",
    "count = 0\n",
    "for idx in range(H_integrated.shape[0]):\n",
    "    for val in H_integrated[299, :]:\n",
    "        if val!=0:\n",
    "            count += 1\n",
    "    break\n",
    "count"
   ]
  },
  {
   "cell_type": "code",
   "execution_count": 19,
   "id": "95ab3ba2-ea81-4c61-9698-1fc0146e75ee",
   "metadata": {},
   "outputs": [
    {
     "name": "stderr",
     "output_type": "stream",
     "text": [
      "100%|█████████████████████████████████████████████████████████████████████████████████████████████████████████████████| 48/48 [00:18<00:00,  2.57it/s]\n"
     ]
    }
   ],
   "source": [
    "X_integrated = np.zeros((date_range_integrated.shape[0]*m, 1))\n",
    "for ems_file in tqdm(emission_filtered_files):\n",
    "    trimmed_file = ems_file.split(\"/\")[-1].replace(\"_\", \"x\")\n",
    "    [_, year, month, day, hour] = trimmed_file.replace('.ncdf', '').split(\"x\")\n",
    "    year = int(year)\n",
    "    month = int(month)\n",
    "    day = int(day)\n",
    "    hour = int(hour)\n",
    "    timestamp = datetime.datetime(year, month, day, hour)\n",
    "    ems_data = np.array(nc.Dataset(ems_file)['flx_total'])\n",
    "    ems_flattened = flatten_2d_column(ems_data)\n",
    "    index = time_dict_integrated[timestamp]\n",
    "    X_integrated[index*m:(index+1)*m, 0] = ems_flattened"
   ]
  },
  {
   "cell_type": "code",
   "execution_count": 20,
   "id": "d55e2894-3dd9-4ff3-80a1-456ae16e5bf7",
   "metadata": {},
   "outputs": [],
   "source": [
    "diag_prior = True\n",
    "ems_uncert = 50/100\n",
    "minUncert = 1.0\n",
    "x_pri_integrated = X_integrated\n",
    "Sa_d_integrated = (ems_uncert*x_pri_integrated)**2\n",
    "Sa_d_integrated[Sa_d_integrated<minUncert**2]=minUncert**2 #diagonal of Sa matrix\n",
    "\n",
    "row_integrated = np.array([i for i in range(X_integrated.shape[0])])\n",
    "Sa_integrated = coo_matrix((Sa_d_integrated[:, 0], (row_integrated, row_integrated)), \n",
    "                          shape = (X_integrated.shape[0], X_integrated.shape[0]))\n",
    "\n",
    "H_integrated_sparse = coo_matrix(H_integrated)\n",
    "Y_integrated_sparse = coo_matrix(Y_integrated)\n",
    "X_integrated_sparse = coo_matrix(X_integrated)\n",
    "\n",
    "So_row_integrated = np.array([i for i in range(Y_integrated.shape[0])])\n",
    "So_integrated = coo_matrix((So_d_integrated[:, 0], (So_row_integrated, So_row_integrated)), \n",
    "                          shape = (Y_integrated.shape[0], Y_integrated.shape[0]))"
   ]
  },
  {
   "cell_type": "markdown",
   "id": "07ca100a-f00a-4833-be51-1900d6aa46c4",
   "metadata": {
    "tags": []
   },
   "source": [
    "# Transfer to Device"
   ]
  },
  {
   "cell_type": "code",
   "execution_count": 43,
   "id": "f4f10f7d-550f-4d4d-b1b8-892e079d96c5",
   "metadata": {},
   "outputs": [],
   "source": [
    "def transfer_to_torch(a, device):\n",
    "    values = a.data\n",
    "    indices = np.vstack((a.row, a.col))\n",
    "    i = torch.LongTensor(indices)\n",
    "    v = torch.FloatTensor(values)\n",
    "    shape = a.shape\n",
    "\n",
    "    a = torch.sparse.FloatTensor(i, v, torch.Size(shape)).to(device, dtype=torch.float16)\n",
    "    # torch.sparse_csr_tensor(a.row, a.col, values, dtype=torch.float32)\n",
    "    return a"
   ]
  },
  {
   "cell_type": "code",
   "execution_count": 44,
   "id": "dabeac5b-7250-4049-999d-be255c945b8d",
   "metadata": {},
   "outputs": [],
   "source": [
    "device='cuda'\n",
    "H_integrated_sparse_D = transfer_to_torch(H_integrated_sparse, device)\n",
    "Y_integrated_sparse_D = transfer_to_torch(Y_integrated_sparse, device)\n",
    "X_integrated_sparse_D = transfer_to_torch(X_integrated_sparse, device)\n",
    "So_integrated_D = transfer_to_torch(So_integrated, device)\n",
    "Sa_integrated_D = transfer_to_torch(Sa_integrated, device)"
   ]
  },
  {
   "cell_type": "code",
   "execution_count": 71,
   "id": "46eb365a-923a-4449-9950-164fe16789cd",
   "metadata": {},
   "outputs": [
    {
     "name": "stdout",
     "output_type": "stream",
     "text": [
      "time taken: 15.81088638305664 torch.Size([750, 750]) torch.Size([750, 13875888])\n",
      "time taken: 16.50327730178833\n"
     ]
    }
   ],
   "source": [
    "start = time.time()\n",
    "mismatch_integrated_D = Y_integrated_sparse_D - torch.sparse.mm(H_integrated_sparse_D, X_integrated_sparse_D)\n",
    "KSa_integrated_D = torch.sparse.mm(H_integrated_sparse_D, Sa_integrated_D)\n",
    "G_integrated_D = torch.sparse.mm(KSa_integrated_D, torch.t(H_integrated_sparse_D)) + So_integrated_D\n",
    "print(\"time taken:\", (time.time()-start), G_integrated_D.shape, KSa_integrated_D.shape)\n",
    "G_integrated_D = G_integrated_D.to_dense()\n",
    "mismatch1_integrated_D = torch.mm(torch.inverse(G_integrated_D), mismatch_integrated_D.to_dense()).to_sparse()\n",
    "X_integrated_dif_D = torch.sparse.mm(torch.t(KSa_integrated_D), mismatch1_integrated_D)\n",
    "X_hat_integrated_D = X_integrated_sparse_D + X_integrated_dif_D\n",
    "print(\"time taken:\", (time.time()-start))"
   ]
  },
  {
   "cell_type": "code",
   "execution_count": 72,
   "id": "b6e83109-6546-43b0-a65e-dcd0336e648e",
   "metadata": {},
   "outputs": [],
   "source": [
    "X_hat_integrated_cpu = X_hat_integrated_D.to_dense().cpu().detach().numpy()"
   ]
  },
  {
   "cell_type": "code",
   "execution_count": 74,
   "id": "c6ba8655-8421-4f8b-a0a9-455e8db4246d",
   "metadata": {
    "scrolled": true,
    "tags": []
   },
   "outputs": [],
   "source": [
    "H_integrated_sparse_D = cp.sparse.csr_matrix(H_integrated_sparse)\n",
    "Y_integrated_sparse_D = cp.sparse.csr_matrix(Y_integrated_sparse)\n",
    "X_integrated_sparse_D = cp.sparse.csr_matrix(X_integrated_sparse)\n",
    "So_integrated_D = cp.sparse.csr_matrix(So_integrated)\n",
    "Sa_integrated_D = cp.sparse.csr_matrix(Sa_integrated)"
   ]
  },
  {
   "cell_type": "code",
   "execution_count": 31,
   "id": "d7c5fc9a-bcc5-4741-9429-a02bf85a39ab",
   "metadata": {},
   "outputs": [
    {
     "name": "stdout",
     "output_type": "stream",
     "text": [
      "time taken: 14.245888471603394\n",
      "time taken: 15.051660537719727\n"
     ]
    }
   ],
   "source": [
    "start = time.time()\n",
    "mismatch_integrated_D = Y_integrated_sparse_D - cp.sparse.csr_matrix.dot(H_integrated_sparse_D, X_integrated_sparse_D)\n",
    "KSa_integrated_D = cp.sparse.csr_matrix.dot(H_integrated_sparse_D, Sa_integrated_D)\n",
    "G_integrated_D = cp.sparse.csr_matrix.dot(KSa_integrated_D, H_integrated_sparse_D.T) + So_integrated_D\n",
    "print(\"time taken:\", (time.time()-start))\n",
    "G_integrated_D = cupyx.scipy.sparse.csc_matrix.toarray(G_integrated_D)\n",
    "mismatch_integrated_D = cupyx.scipy.sparse.csc_matrix.toarray(mismatch_integrated_D)\n",
    "\n",
    "mismatch1_integrated_D = cp.dot(cp.linalg.inv(G_integrated_D), mismatch_integrated_D)\n",
    "mismatch1_integrated_D = cp.sparse.csr_matrix(mismatch1_integrated_D)\n",
    "x_integrated_dif_D = cp.sparse.csr_matrix.dot(KSa_integrated_D.T, mismatch1_integrated_D)\n",
    "X_hat_integrated_D = X_integrated_sparse_D + x_integrated_dif_D\n",
    "print(\"time taken:\", (time.time()-start))"
   ]
  },
  {
   "cell_type": "code",
   "execution_count": 74,
   "id": "90ad1291-94a0-41f6-b3b4-3dabcb605570",
   "metadata": {},
   "outputs": [],
   "source": [
    "X_hat_integrated_D = cupyx.scipy.sparse.csc_matrix.toarray(X_hat_integrated_D)\n",
    "X_hat_integrated_cpu = cp.asnumpy(X_hat_integrated_D)"
   ]
  },
  {
   "cell_type": "code",
   "execution_count": 77,
   "id": "d2d58eeb-a3f3-4e17-a619-0ee8fad5e13b",
   "metadata": {},
   "outputs": [],
   "source": [
    "def make_grid_2d_column(X, nrow, ncol):\n",
    "    X1 = np.zeros((nrow, ncol))\n",
    "    # import pdb; pdb.set_trace()\n",
    "    for idx in range(ncol):\n",
    "        X1[:, idx] = X[idx*nrow:(idx+1)*nrow, 0]\n",
    "    return X1"
   ]
  },
  {
   "cell_type": "code",
   "execution_count": 83,
   "id": "282c8058-5e20-4395-8e7c-8b15f18f1772",
   "metadata": {},
   "outputs": [
    {
     "data": {
      "text/plain": [
       "((48, 481, 601), (48, 481, 601))"
      ]
     },
     "execution_count": 83,
     "metadata": {},
     "output_type": "execute_result"
    }
   ],
   "source": [
    "X_hat_integrated_grid = np.zeros((int(X_integrated.shape[0]/m), nrow, ncol))\n",
    "X_prior_integated = np.zeros((int(X_integrated.shape[0]/m), nrow, ncol))\n",
    "X_prior_integated.shape, X_hat_integrated_grid.shape"
   ]
  },
  {
   "cell_type": "code",
   "execution_count": 84,
   "id": "b1fb681c-ee13-4900-b49b-81e1fbf8fa05",
   "metadata": {},
   "outputs": [],
   "source": [
    "for idx in range(X_hat_integrated_grid.shape[0]):\n",
    "    X_hat_integrated_grid[idx, :, :] = make_grid_2d_column(X_hat_integrated_cpu[idx*m:(idx+1)*m], nrow, ncol)\n",
    "    X_prior_integated[idx, :, :] = make_grid_2d_column(X_integrated[idx*m:(idx+1)*m], nrow, ncol)"
   ]
  },
  {
   "cell_type": "code",
   "execution_count": 86,
   "id": "766c19b3-b677-474f-bf27-5dc40a6a7403",
   "metadata": {},
   "outputs": [
    {
     "data": {
      "text/plain": [
       "<matplotlib.collections.PolyCollection at 0x150f958081f0>"
      ]
     },
     "execution_count": 86,
     "metadata": {},
     "output_type": "execute_result"
    },
    {
     "data": {
      "image/png": "[encoded data removed]",
      "text/plain": [
       "<Figure size 432x288 with 1 Axes>"
      ]
     },
     "metadata": {
      "needs_background": "light"
     },
     "output_type": "display_data"
    }
   ],
   "source": [
    "plt.pcolor(lons, lats, X_hat_integrated_grid[10], vmin=0, vmax=10)"
   ]
  },
  {
   "cell_type": "code",
   "execution_count": 91,
   "id": "44ce737f-1bf5-4423-8a51-0b0bf15b7f16",
   "metadata": {},
   "outputs": [
    {
     "data": {
      "text/plain": [
       "<matplotlib.colorbar.Colorbar at 0x150ea974c9d0>"
      ]
     },
     "execution_count": 91,
     "metadata": {},
     "output_type": "execute_result"
    },
    {
     "data": {
      "image/png": "[encoded data removed]",
      "text/plain": [
       "<Figure size 432x288 with 2 Axes>"
      ]
     },
     "metadata": {
      "needs_background": "light"
     },
     "output_type": "display_data"
    }
   ],
   "source": [
    "index = 10\n",
    "h = plt.pcolor(lons, lats, X_hat_integrated_grid[index]-X_prior_integated[index], vmin=-0.0001, vmax=0.0001)\n",
    "plt.colorbar(h)"
   ]
  },
  {
   "cell_type": "markdown",
   "id": "c47ed9e7-973c-497a-b492-4cdb9a76e287",
   "metadata": {},
   "source": [
    "# Python Module testing"
   ]
  },
  {
   "cell_type": "code",
   "execution_count": 2,
   "id": "7e03353a-9ac2-48fb-a63a-e89784966b7c",
   "metadata": {
    "tags": []
   },
   "outputs": [
    {
     "name": "stdout",
     "output_type": "stream",
     "text": [
      "Mode: resolved\n",
      "Device: cpu\n",
      "Start date: 2018-01-04 00:00:00\n",
      "End date: 2018-01-05 00:00:00\n",
      "Inversion grid: ([-123.1, -121.8], [37.35, 38.4])\n",
      "490646 27049\n",
      "Reading observation data ....\n"
     ]
    },
    {
     "name": "stderr",
     "output_type": "stream",
     "text": [
      "453it [02:53,  2.62it/s]\n"
     ]
    },
    {
     "name": "stdout",
     "output_type": "stream",
     "text": [
      "Loading emission data ....\n"
     ]
    },
    {
     "name": "stderr",
     "output_type": "stream",
     "text": [
      "100%|█████████████████████████████████████████████████████████████████████████████████████████████████████████████████| 95/95 [00:05<00:00, 16.31it/s]\n"
     ]
    }
   ],
   "source": [
    "from diagPrior.time_resolved_diag_prior import InversionDiagPrior\n",
    "from Utils.getData import *\n",
    "from config import *"
   ]
  },
  {
   "cell_type": "code",
   "execution_count": 3,
   "id": "04894abd-1bda-4b9c-8a07-994b59a31fa8",
   "metadata": {},
   "outputs": [],
   "source": [
    "invert = InversionDiagPrior(H, X, Y, So_d)\n",
    "X_hat = invert.invert()\n",
    "X_hat = X_hat.toarray()"
   ]
  },
  {
   "cell_type": "code",
   "execution_count": 11,
   "id": "21839d76-aaf5-4b04-9485-077035485f6a",
   "metadata": {},
   "outputs": [],
   "source": [
    "X_hat_integrated_grid = np.zeros((int(invert.X_pri.shape[0]/m), nrow, ncol))\n",
    "X_prior_integated = np.zeros((int(invert.X_pri.shape[0]/m), nrow, ncol))\n",
    "\n",
    "for idx in range(X_hat_integrated_grid.shape[0]):\n",
    "    X_hat_integrated_grid[idx, :, :] = make_grid_2d_column(X_hat[idx*m:(idx+1)*m], nrow, ncol)\n",
    "    X_prior_integated[idx, :, :] = make_grid_2d_column(invert.X_pri_array[idx*m:(idx+1)*m], nrow, ncol)\n",
    "    \n"
   ]
  },
  {
   "cell_type": "code",
   "execution_count": 13,
   "id": "d62b6e9c-3b86-4b89-93d4-bad552f141d8",
   "metadata": {},
   "outputs": [
    {
     "data": {
      "text/plain": [
       "<matplotlib.collections.PolyCollection at 0x1506027eb970>"
      ]
     },
     "execution_count": 13,
     "metadata": {},
     "output_type": "execute_result"
    },
    {
     "data": {
      "image/png": "[encoded data removed]",
      "text/plain": [
       "<Figure size 432x288 with 1 Axes>"
      ]
     },
     "metadata": {
      "needs_background": "light"
     },
     "output_type": "display_data"
    }
   ],
   "source": [
    "plt.pcolor(lons, lats, X_hat_integrated_grid[10], vmin=0, vmax=10)"
   ]
  },
  {
   "cell_type": "code",
   "execution_count": 14,
   "id": "53e9ba38-3ec0-48c6-a3f3-247dcdd0c5ae",
   "metadata": {},
   "outputs": [
    {
     "data": {
      "text/plain": [
       "<matplotlib.collections.PolyCollection at 0x1502d1677310>"
      ]
     },
     "execution_count": 14,
     "metadata": {},
     "output_type": "execute_result"
    },
    {
     "data": {
      "image/png": "[encoded data removed]",
      "text/plain": [
       "<Figure size 432x288 with 1 Axes>"
      ]
     },
     "metadata": {
      "needs_background": "light"
     },
     "output_type": "display_data"
    }
   ],
   "source": [
    "plt.pcolor(lons, lats, X_prior_integated[10], vmin=0, vmax=10)"
   ]
  },
  {
   "cell_type": "code",
   "execution_count": 19,
   "id": "9d1feaef-3e24-4753-b7d6-9471cf9a5ccd",
   "metadata": {},
   "outputs": [
    {
     "data": {
      "text/plain": [
       "<matplotlib.colorbar.Colorbar at 0x1501f5d30ee0>"
      ]
     },
     "execution_count": 19,
     "metadata": {},
     "output_type": "execute_result"
    },
    {
     "data": {
      "image/png": "[encoded data removed]",
      "text/plain": [
       "<Figure size 432x288 with 2 Axes>"
      ]
     },
     "metadata": {
      "needs_background": "light"
     },
     "output_type": "display_data"
    }
   ],
   "source": [
    "index = 10\n",
    "h = plt.pcolor(lons, lats, X_hat_integrated_grid[index]-X_prior_integated[index], vmin=-0.00001, vmax=0.00001)\n",
    "plt.colorbar(h)"
   ]
  },
  {
   "cell_type": "code",
   "execution_count": null,
   "id": "9d67edf8-ffdf-4307-a06d-5af11c55d7a1",
   "metadata": {},
   "outputs": [],
   "source": []
  }
 ],
 "metadata": {
  "kernelspec": {
   "display_name": "Python 3 (ipykernel)",
   "language": "python",
   "name": "python3"
  },
  "language_info": {
   "codemirror_mode": {
    "name": "ipython",
    "version": 3
   },
   "file_extension": ".py",
   "mimetype": "text/x-python",
   "name": "python",
   "nbconvert_exporter": "python",
   "pygments_lexer": "ipython3",
   "version": "3.8.12"
  }
 },
 "nbformat": 4,
 "nbformat_minor": 5
}
