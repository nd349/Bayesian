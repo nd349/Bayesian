{
 "cells": [
  {
   "cell_type": "code",
   "execution_count": 2,
   "id": "bbac2c4e-4ee5-4898-8a96-e2bb1a7779b1",
   "metadata": {},
   "outputs": [],
   "source": [
    "import datetime; import time\n",
    "import matplotlib.pyplot as plt\n",
    "from dateutil.relativedelta import relativedelta\n",
    "import netCDF4 as nc\n",
    "from Utils.readData  import *\n",
    "from Utils.filter_query import *\n",
    "from tqdm import tqdm\n",
    "from joblib import Parallel, delayed\n",
    "from scipy.sparse import csr_matrix, coo_matrix, csc_matrix\n",
    "from scipy import sparse\n",
    "from scipy.sparse.linalg import inv\n",
    "import geopy.distance\n",
    "import pickle"
   ]
  },
  {
   "cell_type": "markdown",
   "id": "098ea72b-e9af-4ecf-824c-705d7c79df11",
   "metadata": {},
   "source": [
    "spatial and time domains"
   ]
  },
  {
   "cell_type": "code",
   "execution_count": 3,
   "id": "28190106-2331-4e3c-a75d-759c7d39c37c",
   "metadata": {},
   "outputs": [],
   "source": [
    "### Different grids to use\n",
    "# Full grid used for footprints\n",
    "full_xLim = [ -125.0, -120.0 ]\n",
    "full_yLim = [   36.0,   40.0 ]\n",
    "big_xLim,big_yLim = full_xLim,full_yLim\n",
    "# Medium sized grid\n",
    "medium_xLim = [-123.60,-121.60]\n",
    "medium_yLim = [  36.80,  38.60]\n",
    "med_xLim,med_yLim = medium_xLim,medium_yLim\n",
    "# Bay Area domain (smallest grid)\n",
    "BayArea_xLim = [-123.10,-121.80]\n",
    "BayArea_yLim = [  37.35,  38.40]\n",
    "small_xLim,small_yLim = BayArea_xLim,BayArea_yLim\n",
    "# Inversion grid to use\n",
    "Inv_lonLim = small_xLim\n",
    "Inv_latLim = small_yLim"
   ]
  },
  {
   "cell_type": "code",
   "execution_count": 4,
   "id": "367d8415-7f09-455d-ae7f-781bc1ffe1b4",
   "metadata": {},
   "outputs": [],
   "source": [
    "start_date = datetime.datetime(2018, 1, 4, 0)\n",
    "end_date = datetime.datetime(2018, 1, 5, 0)\n",
    "time_domain = [start_date, end_date]"
   ]
  },
  {
   "cell_type": "code",
   "execution_count": 5,
   "id": "9dddbe78-5a23-4df0-bf32-f08442b7af4a",
   "metadata": {},
   "outputs": [],
   "source": [
    "lats = np.linspace(36, 40, 481)\n",
    "lons = np.linspace(-125, -120, 601)"
   ]
  },
  {
   "cell_type": "code",
   "execution_count": 6,
   "id": "68c8f8c8-8b6d-4a7f-9596-fb3e32e330b2",
   "metadata": {},
   "outputs": [
    {
     "data": {
      "text/plain": [
       "[datetime.datetime(2018, 1, 4, 0, 0), datetime.datetime(2018, 1, 5, 0, 0)]"
      ]
     },
     "execution_count": 6,
     "metadata": {},
     "output_type": "execute_result"
    }
   ],
   "source": [
    "time_domain"
   ]
  },
  {
   "cell_type": "markdown",
   "id": "34de3cc3-c1c4-4b7a-87d6-28d769e9566c",
   "metadata": {},
   "source": [
    "directories and files"
   ]
  },
  {
   "cell_type": "code",
   "execution_count": 7,
   "id": "97da4164-534f-43eb-bbd2-46e4e613505f",
   "metadata": {},
   "outputs": [],
   "source": [
    "footprint_directory = \"/home/disk/hermes/data/footprints/BEACO2N/obs/\"\n",
    "emission_directory = \"/home/disk/hermes/data/emissions/BEACO2N/\""
   ]
  },
  {
   "cell_type": "code",
   "execution_count": 8,
   "id": "bf3fd5b4-189d-4c7e-9027-5357b1616554",
   "metadata": {},
   "outputs": [
    {
     "name": "stdout",
     "output_type": "stream",
     "text": [
      "490646 27049\n"
     ]
    }
   ],
   "source": [
    "footprint_files = get_files(footprint_directory)\n",
    "emission_files = get_files(emission_directory)\n",
    "emission_files.sort()\n",
    "footprint_files.sort()\n",
    "print(len(footprint_files), len(emission_files))"
   ]
  },
  {
   "cell_type": "markdown",
   "id": "51843585-7f79-489e-a4c5-0233e572592d",
   "metadata": {},
   "source": [
    "Get filtered footprints and emissions"
   ]
  },
  {
   "cell_type": "code",
   "execution_count": 8,
   "id": "6c44e6f6-311e-489a-9b94-c655ede096d9",
   "metadata": {},
   "outputs": [],
   "source": [
    "emission_df = get_emission_domain_df(emission_files)\n",
    "foot_df = get_footprint_domain_df(footprint_files)"
   ]
  },
  {
   "cell_type": "code",
   "execution_count": 9,
   "id": "b814c0dd-7c99-4e97-8697-2d42758cdbca",
   "metadata": {},
   "outputs": [],
   "source": [
    "emission_filtered_files, emission_files_df = filter_emissions(emission_files, time_domain)"
   ]
  },
  {
   "cell_type": "code",
   "execution_count": 10,
   "id": "c8aebb9e-e5e7-4625-869a-4ec2a334b3c3",
   "metadata": {},
   "outputs": [],
   "source": [
    "foot_filtered_files, foot_files_df = filter_obs(footprint_files, Inv_lonLim, Inv_latLim, agl_domain='')"
   ]
  },
  {
   "cell_type": "code",
   "execution_count": 11,
   "id": "ca79f645-cf47-46af-886a-a66242437eea",
   "metadata": {},
   "outputs": [
    {
     "data": {
      "text/html": [
       "<div>\n",
       "<style scoped>\n",
       "    .dataframe tbody tr th:only-of-type {\n",
       "        vertical-align: middle;\n",
       "    }\n",
       "\n",
       "    .dataframe tbody tr th {\n",
       "        vertical-align: top;\n",
       "    }\n",
       "\n",
       "    .dataframe thead th {\n",
       "        text-align: right;\n",
       "    }\n",
       "</style>\n",
       "<table border=\"1\" class=\"dataframe\">\n",
       "  <thead>\n",
       "    <tr style=\"text-align: right;\">\n",
       "      <th></th>\n",
       "      <th>file</th>\n",
       "      <th>time</th>\n",
       "    </tr>\n",
       "  </thead>\n",
       "  <tbody>\n",
       "    <tr>\n",
       "      <th>88</th>\n",
       "      <td>/home/disk/hermes/data/emissions/BEACO2N/BEACO...</td>\n",
       "      <td>2018-01-04 00:00:00</td>\n",
       "    </tr>\n",
       "    <tr>\n",
       "      <th>89</th>\n",
       "      <td>/home/disk/hermes/data/emissions/BEACO2N/BEACO...</td>\n",
       "      <td>2018-01-04 01:00:00</td>\n",
       "    </tr>\n",
       "    <tr>\n",
       "      <th>90</th>\n",
       "      <td>/home/disk/hermes/data/emissions/BEACO2N/BEACO...</td>\n",
       "      <td>2018-01-04 02:00:00</td>\n",
       "    </tr>\n",
       "    <tr>\n",
       "      <th>91</th>\n",
       "      <td>/home/disk/hermes/data/emissions/BEACO2N/BEACO...</td>\n",
       "      <td>2018-01-04 03:00:00</td>\n",
       "    </tr>\n",
       "    <tr>\n",
       "      <th>92</th>\n",
       "      <td>/home/disk/hermes/data/emissions/BEACO2N/BEACO...</td>\n",
       "      <td>2018-01-04 04:00:00</td>\n",
       "    </tr>\n",
       "  </tbody>\n",
       "</table>\n",
       "</div>"
      ],
      "text/plain": [
       "                                                 file                time\n",
       "88  /home/disk/hermes/data/emissions/BEACO2N/BEACO... 2018-01-04 00:00:00\n",
       "89  /home/disk/hermes/data/emissions/BEACO2N/BEACO... 2018-01-04 01:00:00\n",
       "90  /home/disk/hermes/data/emissions/BEACO2N/BEACO... 2018-01-04 02:00:00\n",
       "91  /home/disk/hermes/data/emissions/BEACO2N/BEACO... 2018-01-04 03:00:00\n",
       "92  /home/disk/hermes/data/emissions/BEACO2N/BEACO... 2018-01-04 04:00:00"
      ]
     },
     "execution_count": 11,
     "metadata": {},
     "output_type": "execute_result"
    }
   ],
   "source": [
    "emission_files_df.head()"
   ]
  },
  {
   "cell_type": "code",
   "execution_count": 12,
   "id": "4aad0c73-4c31-4811-b012-ea3b188ee0d8",
   "metadata": {},
   "outputs": [
    {
     "data": {
      "text/html": [
       "<div>\n",
       "<style scoped>\n",
       "    .dataframe tbody tr th:only-of-type {\n",
       "        vertical-align: middle;\n",
       "    }\n",
       "\n",
       "    .dataframe tbody tr th {\n",
       "        vertical-align: top;\n",
       "    }\n",
       "\n",
       "    .dataframe thead th {\n",
       "        text-align: right;\n",
       "    }\n",
       "</style>\n",
       "<table border=\"1\" class=\"dataframe\">\n",
       "  <thead>\n",
       "    <tr style=\"text-align: right;\">\n",
       "      <th></th>\n",
       "      <th>file</th>\n",
       "      <th>time</th>\n",
       "      <th>lon</th>\n",
       "      <th>lat</th>\n",
       "      <th>agl</th>\n",
       "    </tr>\n",
       "  </thead>\n",
       "  <tbody>\n",
       "    <tr>\n",
       "      <th>0</th>\n",
       "      <td>/home/disk/hermes/data/footprints/BEACO2N/obs/...</td>\n",
       "      <td>2018-01-01 08:00:00</td>\n",
       "      <td>-122.155</td>\n",
       "      <td>37.754</td>\n",
       "      <td>3.0000</td>\n",
       "    </tr>\n",
       "    <tr>\n",
       "      <th>1</th>\n",
       "      <td>/home/disk/hermes/data/footprints/BEACO2N/obs/...</td>\n",
       "      <td>2018-01-01 08:00:00</td>\n",
       "      <td>-122.175</td>\n",
       "      <td>37.737</td>\n",
       "      <td>3.0000</td>\n",
       "    </tr>\n",
       "    <tr>\n",
       "      <th>2</th>\n",
       "      <td>/home/disk/hermes/data/footprints/BEACO2N/obs/...</td>\n",
       "      <td>2018-01-01 08:00:00</td>\n",
       "      <td>-122.181</td>\n",
       "      <td>37.819</td>\n",
       "      <td>9.0000</td>\n",
       "    </tr>\n",
       "    <tr>\n",
       "      <th>3</th>\n",
       "      <td>/home/disk/hermes/data/footprints/BEACO2N/obs/...</td>\n",
       "      <td>2018-01-01 08:00:00</td>\n",
       "      <td>-122.196</td>\n",
       "      <td>37.736</td>\n",
       "      <td>7.8232</td>\n",
       "    </tr>\n",
       "    <tr>\n",
       "      <th>4</th>\n",
       "      <td>/home/disk/hermes/data/footprints/BEACO2N/obs/...</td>\n",
       "      <td>2018-01-01 08:00:00</td>\n",
       "      <td>-122.205</td>\n",
       "      <td>37.809</td>\n",
       "      <td>7.0000</td>\n",
       "    </tr>\n",
       "  </tbody>\n",
       "</table>\n",
       "</div>"
      ],
      "text/plain": [
       "                                                file                time  \\\n",
       "0  /home/disk/hermes/data/footprints/BEACO2N/obs/... 2018-01-01 08:00:00   \n",
       "1  /home/disk/hermes/data/footprints/BEACO2N/obs/... 2018-01-01 08:00:00   \n",
       "2  /home/disk/hermes/data/footprints/BEACO2N/obs/... 2018-01-01 08:00:00   \n",
       "3  /home/disk/hermes/data/footprints/BEACO2N/obs/... 2018-01-01 08:00:00   \n",
       "4  /home/disk/hermes/data/footprints/BEACO2N/obs/... 2018-01-01 08:00:00   \n",
       "\n",
       "       lon     lat     agl  \n",
       "0 -122.155  37.754  3.0000  \n",
       "1 -122.175  37.737  3.0000  \n",
       "2 -122.181  37.819  9.0000  \n",
       "3 -122.196  37.736  7.8232  \n",
       "4 -122.205  37.809  7.0000  "
      ]
     },
     "execution_count": 12,
     "metadata": {},
     "output_type": "execute_result"
    }
   ],
   "source": [
    "foot_files_df.head()"
   ]
  },
  {
   "cell_type": "code",
   "execution_count": 13,
   "id": "68d95916-d517-4d1c-8fd9-03dfac4bbf90",
   "metadata": {},
   "outputs": [],
   "source": [
    "def get_previous_emissions(timestamp, ems_file, current_emission, nlats=481, nlons=601, time_window=71, emission_files=emission_files):\n",
    "    # time_window: hours\n",
    "    index = emission_files.index(ems_file)\n",
    "    previous_ems_files = emission_files[max(0, index-time_window):index]\n",
    "    previous_emissions = np.zeros((time_window+1, nlats, nlons))\n",
    "    for idx, file in enumerate(previous_ems_files):\n",
    "        prev_ems = np.array(nc.Dataset(file)['flx_total'])\n",
    "        previous_emissions[idx, :, :] = prev_ems\n",
    "    previous_emissions[-1, :, :] = current_emission\n",
    "    return previous_emissions"
   ]
  },
  {
   "cell_type": "markdown",
   "id": "928e4e8e-c78c-4ba8-bc28-7b3631b574d2",
   "metadata": {},
   "source": [
    "Looping over"
   ]
  },
  {
   "cell_type": "code",
   "execution_count": 14,
   "id": "6222f7e2-3cff-4f6f-bf31-cf1d00e261ea",
   "metadata": {},
   "outputs": [],
   "source": [
    "def case_a_time_integrated_y(H, X, actual_y):\n",
    "    # X are emissions of given time only\n",
    "    H_compressed = np.nansum(np.array(H), axis=0)\n",
    "    # X = np.nansum(X, axis=0)/X.shape[0]\n",
    "    y_pred = np.sum(np.multiply(H_compressed, X))\n",
    "    # y_pred2 = np.matmul(H_compressed.reshape(1, -1), X.reshape(-1, 1))\n",
    "    return y_pred\n",
    "    # print(y_pred, actual_y)"
   ]
  },
  {
   "cell_type": "code",
   "execution_count": 15,
   "id": "79b02472-9433-47e7-a0cc-4cf6ffa4cf3c",
   "metadata": {},
   "outputs": [],
   "source": [
    "def case_b_time_resolved_y(H, X, actual_y):\n",
    "    y_pred = np.sum(np.multiply(H, X))\n",
    "    # y_pred2 = 0\n",
    "    # for i in range(H.shape[0]):\n",
    "    #     y_pred2 += np.sum(np.multiply(H[i,:,:], X[i,:,:]))\n",
    "    return y_pred\n",
    "    # print(y_pred, actual_y)"
   ]
  },
  {
   "cell_type": "code",
   "execution_count": 16,
   "id": "196c2619-33b2-4e46-95d3-342aac85f088",
   "metadata": {},
   "outputs": [],
   "source": [
    "def get_predictions_y(ems_file):\n",
    "    final_list = []\n",
    "    # for ems_file in tqdm(emission_filtered_files[8:]):\n",
    "    trimmed_file = ems_file.split(\"/\")[-1].replace(\"_\", \"x\")\n",
    "    [_, year, month, day, hour] = trimmed_file.replace('.ncdf', '').split(\"x\")\n",
    "    year = int(year)\n",
    "    month = int(month)\n",
    "    day = int(day)\n",
    "    hour = int(hour)\n",
    "    timestamp = datetime.datetime(year, month, day, hour)\n",
    "    ems_data = nc.Dataset(ems_file)\n",
    "    current_emissions = np.array(ems_data['flx_total'])\n",
    "    previous_emissions = get_previous_emissions(timestamp, ems_file, current_emissions)\n",
    "    # print(timestamp)\n",
    "    # Footprints\n",
    "    foot_files_single_time = list(foot_files_df[foot_files_df['time']==timestamp]['file'])\n",
    "    for foot_file in foot_files_single_time:\n",
    "        foot_data = nc.Dataset(foot_file)\n",
    "        yi = np.array(foot_data['co2'])[0] - np.array(foot_data['bkg_co2_NOAA'])[0]\n",
    "        hi = np.array(foot_data['foot'])\n",
    "        casea = case_a_time_integrated_y(hi, current_emissions, yi)\n",
    "        if hi.shape[0] != previous_emissions.shape[0]:\n",
    "            if hi.shape[0] < previous_emissions.shape[0]:\n",
    "                previous_emission = previous_emissions[-hi.shape[0]:,:,:]\n",
    "                caseb = case_b_time_resolved_y(hi, previous_emission, yi)\n",
    "                previous_emission = np.nansum(previous_emission, axis=0)/previous_emission.shape[0]\n",
    "                casec = case_a_time_integrated_y(hi, previous_emission, yi)\n",
    "        else:\n",
    "            caseb = case_b_time_resolved_y(hi, previous_emissions, yi)\n",
    "            previous_emission = np.nansum(previous_emissions, axis=0)/previous_emissions.shape[0]\n",
    "            casec = case_a_time_integrated_y(hi, previous_emission, yi)\n",
    "        final_list.append([foot_file, ems_file, casea, caseb, casec, yi])\n",
    "    return final_list"
   ]
  },
  {
   "cell_type": "code",
   "execution_count": 17,
   "id": "1625e2b9-f8b0-496c-a8d9-875162a73efb",
   "metadata": {},
   "outputs": [],
   "source": [
    "def main():\n",
    "    OUTPUT = Parallel(n_jobs=-1, verbose=0, backend='multiprocessing')(delayed(get_predictions_y)(ems_file) for ems_file in tqdm(emission_filtered_files))\n",
    "    final_result = []\n",
    "    for idx, val in enumerate(OUTPUT):\n",
    "        final_result += val\n",
    "    return pd.DataFrame(final_result, columns=['foot_file', 'ems_file', 'time_integrated_current_ems', 'time_resolved', 'time_integrated_average_ems', 'actual_observation'])"
   ]
  },
  {
   "cell_type": "code",
   "execution_count": null,
   "id": "1be887fa-eb06-4da4-a1de-5a1ea03add81",
   "metadata": {
    "scrolled": true,
    "tags": []
   },
   "outputs": [],
   "source": [
    "results_df = main()"
   ]
  },
  {
   "cell_type": "code",
   "execution_count": null,
   "id": "840296b9-f13d-41e3-9edc-5c961d6d0dc4",
   "metadata": {},
   "outputs": [],
   "source": [
    "results_df.head()"
   ]
  },
  {
   "cell_type": "markdown",
   "id": "ee027651-1f2a-494a-baf8-2dc836d2f2d8",
   "metadata": {},
   "source": [
    "Visualization"
   ]
  },
  {
   "cell_type": "code",
   "execution_count": 20,
   "id": "31252845-f629-4d3c-a66a-6455f8ac5906",
   "metadata": {},
   "outputs": [
    {
     "data": {
      "image/png": "[encoded data removed]",
      "text/plain": [
       "<Figure size 720x720 with 3 Axes>"
      ]
     },
     "metadata": {
      "needs_background": "light"
     },
     "output_type": "display_data"
    }
   ],
   "source": [
    "fig, axs = plt.subplots(3, 1, figsize=(10,10))\n",
    "axs[0].scatter(results_df['actual_observation'], results_df['time_integrated_current_ems'], cmap='pink')\n",
    "axs[0].set_title(\"Time integrated with current emissions\")\n",
    "axs[0].set_xlim(0, 500)\n",
    "axs[0].set_ylim(0, 500)\n",
    "axs[1].scatter(results_df['actual_observation'], results_df['time_integrated_average_ems'])\n",
    "axs[1].set_title(\"Time integrated emissions with average over time domain\")\n",
    "axs[1].set_xlim(0, 500)\n",
    "axs[1].set_ylim(0, 500)\n",
    "axs[2].scatter(results_df['actual_observation'], results_df['time_resolved'])\n",
    "axs[2].set_title(\"Time resolved emissions\")\n",
    "axs[2].set_xlim(0, 500)\n",
    "axs[2].set_ylim(0, 500)\n",
    "plt.show()"
   ]
  },
  {
   "cell_type": "code",
   "execution_count": 21,
   "id": "829a5ad7-beef-4089-99ae-82a70436c1dd",
   "metadata": {},
   "outputs": [
    {
     "data": {
      "text/plain": [
       "<matplotlib.collections.PathCollection at 0x14f0643d2d60>"
      ]
     },
     "execution_count": 21,
     "metadata": {},
     "output_type": "execute_result"
    },
    {
     "data": {
      "image/png": "[encoded data removed]",
      "text/plain": [
       "<Figure size 432x288 with 1 Axes>"
      ]
     },
     "metadata": {
      "needs_background": "light"
     },
     "output_type": "display_data"
    }
   ],
   "source": [
    "plt.scatter(results_df['time_integrated_average_ems'], results_df['time_integrated_current_ems'])"
   ]
  },
  {
   "cell_type": "code",
   "execution_count": 22,
   "id": "307ac65c-33bf-4eb9-b432-77e024e34b89",
   "metadata": {},
   "outputs": [
    {
     "data": {
      "image/png": "[encoded data removed]",
      "text/plain": [
       "<Figure size 2160x720 with 1 Axes>"
      ]
     },
     "metadata": {
      "needs_background": "light"
     },
     "output_type": "display_data"
    }
   ],
   "source": [
    "plt.figure(figsize=(30, 10))\n",
    "plt.scatter(results_df.index, results_df['time_integrated_current_ems'], label='time integrated pred')\n",
    "plt.scatter(results_df.index, results_df['time_integrated_average_ems'], label='time average pred')\n",
    "plt.scatter(results_df.index, results_df['time_resolved'], label='time resolved pred')\n",
    "plt.scatter(results_df.index, results_df['actual_observation'], label='actual measurement')\n",
    "plt.xlim(0, 100)\n",
    "plt.ylim(-100, 100)\n",
    "plt.legend()\n",
    "# plt.figlegend()\n",
    "plt.show()\n"
   ]
  },
  {
   "cell_type": "code",
   "execution_count": 23,
   "id": "01f9fd55-a2a8-4a2f-8fcd-da2d3f9e4f49",
   "metadata": {},
   "outputs": [],
   "source": [
    "results_df['off_factor_time_resolved'] = results_df['actual_observation']/results_df['time_resolved']"
   ]
  },
  {
   "cell_type": "code",
   "execution_count": null,
   "id": "f743d095-e5cc-4614-9f25-02b942afb8fd",
   "metadata": {},
   "outputs": [],
   "source": [
    "h = np.array(foot_data['foot'])\n",
    "y = np.array(foot_data['co2'])-np.array(foot_data['bkg_co2_NOAA'])\n",
    "x = np.array(ems_data['flx_total'])\n",
    "h.shape, y, x.shape"
   ]
  },
  {
   "cell_type": "code",
   "execution_count": null,
   "id": "58d442c5-5041-4368-9394-8cb46d298618",
   "metadata": {},
   "outputs": [],
   "source": [
    "y_pred = np.sum(np.multiply(np.nansum(np.array(h), axis=0), x))\n",
    "y_pred, case_a_time_integrated_y(h, x, y), y"
   ]
  },
  {
   "cell_type": "code",
   "execution_count": null,
   "id": "be940747-e367-4cce-9551-52577d0847c3",
   "metadata": {},
   "outputs": [],
   "source": [
    "ems_data = nc.Dataset(emission_filtered_files[500])"
   ]
  },
  {
   "cell_type": "code",
   "execution_count": null,
   "id": "e4fdbbe0-6008-45be-bf53-1a5195648361",
   "metadata": {},
   "outputs": [],
   "source": [
    "ems_data['flx_total']"
   ]
  },
  {
   "cell_type": "markdown",
   "id": "17b2d071-d6f0-4d72-a1e7-726b727f48c0",
   "metadata": {},
   "source": [
    "Covariance Matrix"
   ]
  },
  {
   "cell_type": "markdown",
   "id": "e7546606-7706-4abc-a610-c3215112f5b3",
   "metadata": {},
   "source": [
    "diag_prior = True"
   ]
  },
  {
   "cell_type": "markdown",
   "id": "9e41978c-a4ed-401f-ba8c-824b81dfc971",
   "metadata": {},
   "source": [
    "# Time resolved"
   ]
  },
  {
   "cell_type": "code",
   "execution_count": 18,
   "id": "f57daacc-b803-48df-9d38-c76424dd523a",
   "metadata": {},
   "outputs": [],
   "source": [
    "start_time = datetime.datetime(2018, 1, 4, 0, 0)\n",
    "end_time = datetime.datetime(2018, 1, 5, 0, 0)"
   ]
  },
  {
   "cell_type": "code",
   "execution_count": 19,
   "id": "b042ee31-7c03-4d8b-b2a7-fa886466db30",
   "metadata": {},
   "outputs": [],
   "source": [
    "emission_filtered_files, emission_files_df = filter_emissions(emission_files, [start_time-datetime.timedelta(hours=71), end_time])\n",
    "foot_filtered_files, foot_files_df = filter_obs(footprint_files, Inv_lonLim, Inv_latLim, agl_domain='')"
   ]
  },
  {
   "cell_type": "code",
   "execution_count": 20,
   "id": "e0e6d767-0d01-42de-b780-c2123017a9a6",
   "metadata": {},
   "outputs": [
    {
     "data": {
      "text/plain": [
       "(95, 2)"
      ]
     },
     "execution_count": 20,
     "metadata": {},
     "output_type": "execute_result"
    }
   ],
   "source": [
    "emission_files_df.shape"
   ]
  },
  {
   "cell_type": "code",
   "execution_count": 21,
   "id": "9d0022b0-6174-47cf-8c26-d6b00fa0c23f",
   "metadata": {},
   "outputs": [],
   "source": [
    "# filtering footprint_files\n",
    "domain_foot_files = list(foot_files_df[(foot_files_df['time']>=start_time)&(foot_files_df['time']<end_time)]['file'])"
   ]
  },
  {
   "cell_type": "code",
   "execution_count": 22,
   "id": "3e99b068-a59b-45ed-bd33-d66ffee3513c",
   "metadata": {},
   "outputs": [],
   "source": [
    "nrow = 481\n",
    "ncol = 601\n",
    "m = nrow*ncol"
   ]
  },
  {
   "cell_type": "code",
   "execution_count": 23,
   "id": "314c125c-0618-4758-b462-bfee2c983a29",
   "metadata": {},
   "outputs": [
    {
     "data": {
      "text/plain": [
       "(datetime.datetime(2018, 1, 1, 1, 0), datetime.datetime(2018, 1, 4, 23, 0))"
      ]
     },
     "execution_count": 23,
     "metadata": {},
     "output_type": "execute_result"
    }
   ],
   "source": [
    "m_start = start_time-datetime.timedelta(hours=71)\n",
    "m_end = end_time-datetime.timedelta(hours=1)\n",
    "date_range = pd.date_range(start=m_start, end=m_end, freq='1h')\n",
    "time_dict = {}\n",
    "for idx, value in enumerate(date_range):\n",
    "    time_dict[value] = idx\n",
    "m_start, m_end"
   ]
  },
  {
   "cell_type": "code",
   "execution_count": 24,
   "id": "e0bbbf89-6af6-466f-87fd-363f91bbd0e1",
   "metadata": {},
   "outputs": [],
   "source": [
    "model_error = {\n",
    "    0:3,\n",
    "    1:3,\n",
    "    2:3,\n",
    "    3:3,\n",
    "    4:3,\n",
    "    5:3,\n",
    "    6:4,\n",
    "    7:5,\n",
    "    8:8,\n",
    "    9:6,\n",
    "    10:4,\n",
    "    11:2,\n",
    "    12:1,\n",
    "    13:1,\n",
    "    14:1,\n",
    "    15:1,\n",
    "    16:2,\n",
    "    17:4,\n",
    "    18:6,\n",
    "    19:8,\n",
    "    20:6,\n",
    "    21:4,\n",
    "    22:3,\n",
    "    23:3,\n",
    "}"
   ]
  },
  {
   "cell_type": "code",
   "execution_count": 25,
   "id": "df87f7a4-a7b5-42f0-8a84-f12a422e4ea3",
   "metadata": {},
   "outputs": [],
   "source": [
    "global H, Y, So_d, observation_dict\n",
    "H = np.zeros((len(domain_foot_files), date_range.shape[0]*m), dtype=np.float32)\n",
    "Y = np.zeros((len(domain_foot_files), 1), dtype=np.float32)\n",
    "So_d = np.zeros((len(domain_foot_files), 1), dtype=np.float32)\n",
    "observation_dict = {}"
   ]
  },
  {
   "cell_type": "code",
   "execution_count": 26,
   "id": "c8cc8926-bf58-45fe-af85-bab2a94a0042",
   "metadata": {},
   "outputs": [],
   "source": [
    "def flatten_2d_column(foot):\n",
    "    sub_foot = np.zeros((foot.shape[0]*foot.shape[1]))\n",
    "    for idx in range(foot.shape[1]):\n",
    "        sub_foot[idx*foot.shape[0]:(idx+1)*foot.shape[0]] = foot[:, idx]\n",
    "    return sub_foot"
   ]
  },
  {
   "cell_type": "code",
   "execution_count": 27,
   "id": "6e5cb554-8190-4459-8ead-b9327ef81a58",
   "metadata": {
    "scrolled": true,
    "tags": []
   },
   "outputs": [
    {
     "name": "stderr",
     "output_type": "stream",
     "text": [
      "[Parallel(n_jobs=-1)]: Using backend ThreadingBackend with 64 concurrent workers.\n",
      "[Parallel(n_jobs=-1)]: Done  17 tasks      | elapsed:  1.1min\n",
      "[Parallel(n_jobs=-1)]: Done  34 tasks      | elapsed:  1.2min\n",
      "[Parallel(n_jobs=-1)]: Done  53 tasks      | elapsed:  1.3min\n",
      "[Parallel(n_jobs=-1)]: Done  72 tasks      | elapsed:  1.4min\n",
      "[Parallel(n_jobs=-1)]: Done  93 tasks      | elapsed:  1.9min\n",
      "[Parallel(n_jobs=-1)]: Done 114 tasks      | elapsed:  2.0min\n",
      "[Parallel(n_jobs=-1)]: Done 137 tasks      | elapsed:  2.2min\n",
      "[Parallel(n_jobs=-1)]: Done 160 tasks      | elapsed:  2.5min\n",
      "[Parallel(n_jobs=-1)]: Done 185 tasks      | elapsed:  2.6min\n",
      "[Parallel(n_jobs=-1)]: Done 210 tasks      | elapsed:  2.8min\n",
      "[Parallel(n_jobs=-1)]: Done 237 tasks      | elapsed:  2.9min\n",
      "[Parallel(n_jobs=-1)]: Done 264 tasks      | elapsed:  3.1min\n",
      "[Parallel(n_jobs=-1)]: Done 293 tasks      | elapsed:  3.2min\n",
      "[Parallel(n_jobs=-1)]: Done 322 tasks      | elapsed:  3.3min\n",
      "[Parallel(n_jobs=-1)]: Done 372 out of 453 | elapsed:  3.5min remaining:   45.6s\n",
      "[Parallel(n_jobs=-1)]: Done 418 out of 453 | elapsed:  3.6min remaining:   18.1s\n",
      "[Parallel(n_jobs=-1)]: Done 453 out of 453 | elapsed:  3.6min finished\n"
     ]
    }
   ],
   "source": [
    "observation_dict = {}\n",
    "def fill_h(idx, foot_file):\n",
    "    global H, Y, So_d, observation_dict\n",
    "    [__, timestamp, receptor_lon, receptor_lat, receptor_agl] = foot_file.replace('.nc', '').split(\"_\")\n",
    "    year = int(timestamp[0:4])\n",
    "    month = int(timestamp[4:6])\n",
    "    day = int(timestamp[6:8])\n",
    "    hour = int(timestamp[8:])\n",
    "    time_foot = datetime.datetime(year, month, day, hour)\n",
    "    index = time_dict[time_foot]\n",
    "    observation_dict[idx] = {\n",
    "        \"time\":time_foot,\n",
    "        \"lon\":float(receptor_lon),\n",
    "        \"lat\":float(receptor_lat),\n",
    "        \"agl\":float(receptor_agl)\n",
    "    }\n",
    "    # print(H[idx, index*m:(index+1)*m].shape, 481*601)\n",
    "    \n",
    "    foot_data = nc.Dataset(foot_file)\n",
    "    foot = np.array(foot_data['foot'])\n",
    "    Y[idx, 0] = np.float32(np.array(foot_data['co2'])[0] - np.array(foot_data['bkg_co2_NOAA'])[0])\n",
    "    obs_error = np.float32(np.array(foot_data['co2_err'])[0])\n",
    "    bkg_error = np.float32(np.array(foot_data['bkg_err_NOAA'])[0])\n",
    "    mod_error = model_error[time_foot.hour]\n",
    "    So_d[idx, 0] = obs_error**2+bkg_error**2+mod_error**2\n",
    "    # return_foot = np.zeros((1, date_range.shape[0]*m))\n",
    "    resolved_time_list = date_range[date_range<=time_foot][-foot.shape[0]:]\n",
    "    for jdx, time_hour in enumerate(resolved_time_list):\n",
    "        m_index = time_dict[time_hour]\n",
    "        # print(m_index, time_hour, jdx)\n",
    "        H[idx, m_index*m:(m_index+1)*m] = flatten_2d_column(foot[jdx, :, :])\n",
    "    return\n",
    "\n",
    "def fill_h_parallel():\n",
    "    # print(\"filling H ...\")\n",
    "    # H = np.zeros((len(domain_foot_files), date_range.shape[0]*m))\n",
    "    OUTPUT = Parallel(n_jobs=-1, verbose=10, backend='threading')(delayed(fill_h)(idx, foot_file) for idx, foot_file in enumerate(domain_foot_files))\n",
    "    # for value in OUTPUT:\n",
    "    #     index = value[1]\n",
    "    #     data = value[0]\n",
    "    #     H[index, :] = data\n",
    "    # return H\n",
    "fill_h_parallel()"
   ]
  },
  {
   "cell_type": "code",
   "execution_count": 28,
   "id": "ba136792-ff74-4ba0-a568-8c3628992065",
   "metadata": {},
   "outputs": [],
   "source": [
    "def get_len(coords_1, coords_2):\n",
    "    lat1 = coords_1[0]*np.pi/180\n",
    "    lon1 = coords_1[1]*np.pi/180\n",
    "    lat2 = coords_2[0]*np.pi/180\n",
    "    lon2 = coords_2[1]*np.pi/180\n",
    "    R = 6371e3\n",
    "    # a = sin²(Δφ/2) + cos φ1 ⋅ cos φ2 ⋅ sin²(Δλ/2)\n",
    "    # c = 2 ⋅ atan2( √a, √(1−a) )\n",
    "    # d = R ⋅ c\n",
    "    a = np.sin((lat1-lat2)/2)**2 + np.cos(lat1)*np.cos(lat2)*(np.sin((lon1-lon2)/2)**2)\n",
    "    c = 2*np.arctan2(np.sqrt(a), np.sqrt(1-a))\n",
    "    return R*c/1000 #km"
   ]
  },
  {
   "cell_type": "code",
   "execution_count": 29,
   "id": "07569830-cd83-4cd7-9f77-1babb525df0a",
   "metadata": {
    "scrolled": true,
    "tags": []
   },
   "outputs": [
    {
     "name": "stderr",
     "output_type": "stream",
     "text": [
      "100%|██████████████████████████████████████████████████████████████████████████████████████████████████████████████| 453/453 [00:01<00:00, 316.68it/s]\n"
     ]
    }
   ],
   "source": [
    "nObs = So_d.shape[0]\n",
    "lowBound = 1e-5\n",
    "tau_time, tau_space = 1, 2 # hour, km\n",
    "So = np.zeros((nObs, nObs), dtype=np.float32)\n",
    "for i in range(So_d.shape[0]):\n",
    "    So[i,i] = So_d[i,0]\n",
    "for i in tqdm(range(nObs)):\n",
    "    time_val_i = observation_dict[i]['time']\n",
    "    coord_i = (observation_dict[i]['lat'], observation_dict[i]['lon'])\n",
    "    for j in range(i+1, nObs):\n",
    "        coord_j = (observation_dict[j]['lat'], observation_dict[j]['lon'])\n",
    "        time_val = (observation_dict[j]['time']-time_val_i).seconds/3600\n",
    "        dist_val = get_len(coord_i, coord_j)\n",
    "        time_decay = np.exp(-abs(time_val)/tau_time)\n",
    "        dist_decay = np.exp(-abs(dist_val)/tau_space)\n",
    "        sig_val = time_decay*dist_decay*np.sqrt(So_d[i]*So_d[j])\n",
    "        if time_decay*dist_decay > lowBound:\n",
    "            So[i, j] = sig_val\n",
    "            So[j, i] = sig_val"
   ]
  },
  {
   "cell_type": "code",
   "execution_count": 30,
   "id": "7f243a33-4141-42a7-8c13-c2f29f99d5b7",
   "metadata": {},
   "outputs": [
    {
     "data": {
      "text/plain": [
       "<matplotlib.image.AxesImage at 0x1476f6788a00>"
      ]
     },
     "execution_count": 30,
     "metadata": {},
     "output_type": "execute_result"
    },
    {
     "data": {
      "image/png": "[encoded data removed]",
      "text/plain": [
       "<Figure size 432x288 with 1 Axes>"
      ]
     },
     "metadata": {
      "needs_background": "light"
     },
     "output_type": "display_data"
    }
   ],
   "source": [
    "plt.spy(So)"
   ]
  },
  {
   "cell_type": "code",
   "execution_count": 31,
   "id": "791f1197-eac0-4d14-b1bb-2853b50eebd1",
   "metadata": {},
   "outputs": [
    {
     "data": {
      "text/plain": [
       "108457"
      ]
     },
     "execution_count": 31,
     "metadata": {},
     "output_type": "execute_result"
    }
   ],
   "source": [
    "count = 0\n",
    "for idx in range(H.shape[0]):\n",
    "    for val in H[375, :]:\n",
    "        if val!=0:\n",
    "            count += 1\n",
    "    break\n",
    "count"
   ]
  },
  {
   "cell_type": "code",
   "execution_count": 32,
   "id": "22ea45a7-581f-41d0-bb57-fe39b90eba8d",
   "metadata": {},
   "outputs": [
    {
     "name": "stderr",
     "output_type": "stream",
     "text": [
      "100%|█████████████████████████████████████████████████████████████████████████████████████████████████████████████████| 95/95 [00:03<00:00, 28.59it/s]\n"
     ]
    }
   ],
   "source": [
    "X = np.zeros((date_range.shape[0]*m, 1))\n",
    "for ems_file in tqdm(emission_filtered_files):\n",
    "    trimmed_file = ems_file.split(\"/\")[-1].replace(\"_\", \"x\")\n",
    "    [_, year, month, day, hour] = trimmed_file.replace('.ncdf', '').split(\"x\")\n",
    "    year = int(year)\n",
    "    month = int(month)\n",
    "    day = int(day)\n",
    "    hour = int(hour)\n",
    "    timestamp = datetime.datetime(year, month, day, hour)\n",
    "    ems_data = np.array(nc.Dataset(ems_file)['flx_total'])\n",
    "    ems_flattened = flatten_2d_column(ems_data)\n",
    "    index = time_dict[timestamp]\n",
    "    X[index*m:(index+1)*m, 0] = ems_flattened"
   ]
  },
  {
   "cell_type": "code",
   "execution_count": 33,
   "id": "4ae0d63e-06c8-44dd-b1e6-b4f65ff2ea2d",
   "metadata": {},
   "outputs": [],
   "source": [
    "diag_prior = True\n",
    "ems_uncert = 50/100\n",
    "minUncert = 1.0\n",
    "x_pri = X\n",
    "Sa_d = (ems_uncert*x_pri)**2\n",
    "Sa_d[Sa_d<minUncert**2]=minUncert**2 #diagonal of Sa matrix"
   ]
  },
  {
   "cell_type": "code",
   "execution_count": null,
   "id": "bfe6e3b1-29ee-4feb-a341-8b2973cbaebc",
   "metadata": {},
   "outputs": [],
   "source": []
  },
  {
   "cell_type": "code",
   "execution_count": 34,
   "id": "563159de-54b8-489a-b9f6-733ece40a622",
   "metadata": {},
   "outputs": [],
   "source": [
    "row = np.array([i for i in range(X.shape[0])])"
   ]
  },
  {
   "cell_type": "code",
   "execution_count": 34,
   "id": "19aa1e99-d3b6-48e8-b038-285a1cff7122",
   "metadata": {},
   "outputs": [],
   "source": [
    "Sa = csr_matrix((Sa_d[:, 0], (row, row)), \n",
    "                          shape = (X.shape[0], X.shape[0]))"
   ]
  },
  {
   "cell_type": "code",
   "execution_count": 35,
   "id": "efd50647-4d8b-44fd-8c27-70d15ff40579",
   "metadata": {},
   "outputs": [],
   "source": [
    "H_sparse = csr_matrix(H)"
   ]
  },
  {
   "cell_type": "code",
   "execution_count": 36,
   "id": "979ebbfb-b3d8-4213-b97d-730d15249530",
   "metadata": {},
   "outputs": [],
   "source": [
    "Y_sparse = csr_matrix(Y)\n",
    "X_sparse = csr_matrix(X)"
   ]
  },
  {
   "cell_type": "code",
   "execution_count": 48,
   "id": "4d4cbd9f-1979-49a4-9ddb-212f032c4d05",
   "metadata": {},
   "outputs": [
    {
     "data": {
      "text/plain": [
       "(301, 27462695)"
      ]
     },
     "execution_count": 48,
     "metadata": {},
     "output_type": "execute_result"
    }
   ],
   "source": [
    "H_sparse.shape"
   ]
  },
  {
   "cell_type": "code",
   "execution_count": 41,
   "id": "7ed4eae3-b3cd-4058-957a-702a3c437022",
   "metadata": {},
   "outputs": [],
   "source": [
    "So_row = np.array([i for i in range(Y.shape[0])])\n",
    "So = csr_matrix((So_d[:, 0], (So_row, So_row)), \n",
    "                          shape = (Y.shape[0], Y.shape[0]))"
   ]
  },
  {
   "cell_type": "code",
   "execution_count": 42,
   "id": "d2af6749-a68b-4067-928d-91ca2644c456",
   "metadata": {},
   "outputs": [
    {
     "data": {
      "text/plain": [
       "(301, 301)"
      ]
     },
     "execution_count": 42,
     "metadata": {},
     "output_type": "execute_result"
    }
   ],
   "source": [
    "So.shape"
   ]
  },
  {
   "cell_type": "code",
   "execution_count": 43,
   "id": "f3162e55-57b9-4d66-b9cc-044b509f7c8c",
   "metadata": {},
   "outputs": [],
   "source": [
    "mismatch = Y_sparse - csr_matrix.dot(H_sparse, X_sparse)"
   ]
  },
  {
   "cell_type": "markdown",
   "id": "84fd30af-62ef-4a8d-8e46-ba893f1a68e1",
   "metadata": {},
   "source": [
    "# KSa* Sa;                   Base.GC.gc() #matrix multiplication K_mat:nxm and Sa:mxm(diagonal values non zero)\n",
    "#    G        = KSa * transpose(K_mat) + So;  Base.GC.gc()\n",
    "#    mismatch = G \\ mismatch;                 Base.GC.gc()\n",
    "#    x_dif    = transpose(KSa) * mismatch;    Base.GC.gc()\n",
    "#    x_hat    = x_pri + x_dif;                Base.GC.gc()"
   ]
  },
  {
   "cell_type": "code",
   "execution_count": 44,
   "id": "5c31e190-94b2-405a-a8eb-4adeddf54e97",
   "metadata": {},
   "outputs": [],
   "source": [
    "KSa = csr_matrix.dot(H_sparse, Sa)"
   ]
  },
  {
   "cell_type": "code",
   "execution_count": 45,
   "id": "01449d14-e33e-491d-b05c-2cdee2fadb8b",
   "metadata": {},
   "outputs": [],
   "source": [
    "G = csr_matrix.dot(KSa, H_sparse.T) + So"
   ]
  },
  {
   "cell_type": "code",
   "execution_count": 46,
   "id": "931f13d8-8632-4f84-b30e-9382045f358a",
   "metadata": {},
   "outputs": [
    {
     "name": "stderr",
     "output_type": "stream",
     "text": [
      "/home/disk/p/nd349/anaconda3/envs/stilt/lib/python3.8/site-packages/scipy/sparse/linalg/_dsolve/linsolve.py:322: SparseEfficiencyWarning: splu requires CSC matrix format\n",
      "  warn('splu requires CSC matrix format', SparseEfficiencyWarning)\n",
      "/home/disk/p/nd349/anaconda3/envs/stilt/lib/python3.8/site-packages/scipy/sparse/linalg/_dsolve/linsolve.py:215: SparseEfficiencyWarning: spsolve is more efficient when sparse b is in the CSC matrix format\n",
      "  warn('spsolve is more efficient when sparse b '\n"
     ]
    }
   ],
   "source": [
    "# mismatch = G\\mismatch\n",
    "mismatch1 = csr_matrix.dot(inv(G), mismatch)"
   ]
  },
  {
   "cell_type": "code",
   "execution_count": 47,
   "id": "40e7f23f-4483-4ae3-865e-2ffbc97dcbce",
   "metadata": {},
   "outputs": [],
   "source": [
    "x_dif = csr_matrix.dot(KSa.T, mismatch1)"
   ]
  },
  {
   "cell_type": "code",
   "execution_count": 48,
   "id": "2d780439-aa23-4557-9ddf-24f144b62e21",
   "metadata": {},
   "outputs": [],
   "source": [
    "X_hat = X_sparse + x_dif"
   ]
  },
  {
   "cell_type": "code",
   "execution_count": 49,
   "id": "89e85a51-aadc-47be-9ffd-93905f8719de",
   "metadata": {},
   "outputs": [],
   "source": [
    "X_hat = csr_matrix.toarray(X_hat)"
   ]
  },
  {
   "cell_type": "code",
   "execution_count": 65,
   "id": "1b137a85-5180-43e3-964b-1d1c10f4f642",
   "metadata": {},
   "outputs": [],
   "source": [
    "def make_grid_2d_column(X, nrow, ncol):\n",
    "    X1 = np.zeros((nrow, ncol))\n",
    "    # import pdb; pdb.set_trace()\n",
    "    for idx in range(ncol):\n",
    "        X1[:, idx] = X[idx*nrow:(idx+1)*nrow, 0]\n",
    "    return X1"
   ]
  },
  {
   "cell_type": "code",
   "execution_count": 52,
   "id": "89414604-a4e1-48f0-b18f-eb58e81093de",
   "metadata": {},
   "outputs": [],
   "source": [
    "X_hat_grid = np.zeros((int(X.shape[0]/m), nrow, ncol))"
   ]
  },
  {
   "cell_type": "code",
   "execution_count": 58,
   "id": "d898dc60-3157-436a-b6eb-ada03d5e8e3f",
   "metadata": {},
   "outputs": [
    {
     "data": {
      "text/plain": [
       "((95, 481, 601), (95, 481, 601))"
      ]
     },
     "execution_count": 58,
     "metadata": {},
     "output_type": "execute_result"
    }
   ],
   "source": [
    "X_prior = np.zeros((int(X.shape[0]/m), nrow, ncol))\n",
    "X_prior.shape, X_hat_grid.shape"
   ]
  },
  {
   "cell_type": "code",
   "execution_count": 59,
   "id": "eff70beb-b36a-4539-9073-91dcacc1893d",
   "metadata": {},
   "outputs": [],
   "source": [
    "for idx in range(X_hat_grid.shape[0]):\n",
    "    X_hat_grid[idx, :, :] = make_grid_2d_column(X_hat[idx*m:(idx+1)*m], nrow, ncol)\n",
    "    X_prior[idx, :, :] = make_grid_2d_column(X[idx*m:(idx+1)*m], nrow, ncol)"
   ]
  },
  {
   "cell_type": "code",
   "execution_count": 60,
   "id": "15775a4f-4380-4089-9ef2-79797fbe5d01",
   "metadata": {},
   "outputs": [
    {
     "data": {
      "text/plain": [
       "((95, 481, 601), (95, 481, 601))"
      ]
     },
     "execution_count": 60,
     "metadata": {},
     "output_type": "execute_result"
    }
   ],
   "source": [
    "X_hat_grid.shape, X_prior.shape"
   ]
  },
  {
   "cell_type": "code",
   "execution_count": 70,
   "id": "fabefeb9-444f-48c4-a4db-38f25f93f334",
   "metadata": {},
   "outputs": [
    {
     "data": {
      "text/plain": [
       "<matplotlib.colorbar.Colorbar at 0x1507815c0610>"
      ]
     },
     "execution_count": 70,
     "metadata": {},
     "output_type": "execute_result"
    },
    {
     "data": {
      "image/png": "[encoded data removed]",
      "text/plain": [
       "<Figure size 432x288 with 2 Axes>"
      ]
     },
     "metadata": {
      "needs_background": "light"
     },
     "output_type": "display_data"
    }
   ],
   "source": [
    "h = plt.pcolor(lons, lats, X_hat_grid[74], vmin=0, vmax=10, cmap='RdBu_r')\n",
    "plt.colorbar(h)"
   ]
  },
  {
   "cell_type": "code",
   "execution_count": 69,
   "id": "0f32a141-a293-4586-ab09-34961d9d9e62",
   "metadata": {},
   "outputs": [
    {
     "data": {
      "text/plain": [
       "<matplotlib.colorbar.Colorbar at 0x15078c200790>"
      ]
     },
     "execution_count": 69,
     "metadata": {},
     "output_type": "execute_result"
    },
    {
     "data": {
      "image/png": "[encoded data removed]",
      "text/plain": [
       "<Figure size 432x288 with 2 Axes>"
      ]
     },
     "metadata": {
      "needs_background": "light"
     },
     "output_type": "display_data"
    }
   ],
   "source": [
    "h = plt.pcolor(lons, lats, X_hat_grid[74]-X_prior[74], vmin=-0.01, vmax=0.01, cmap='RdBu_r')\n",
    "plt.colorbar(h)"
   ]
  },
  {
   "cell_type": "code",
   "execution_count": 122,
   "id": "32e50b8d-31a1-4801-815b-335cea54b4f9",
   "metadata": {},
   "outputs": [
    {
     "data": {
      "text/plain": [
       "(110012.06797817477, 127887.15907691667)"
      ]
     },
     "execution_count": 122,
     "metadata": {},
     "output_type": "execute_result"
    }
   ],
   "source": [
    "np.sum(X_hat_grid[74]), np.sum(X_hat_grid[90])"
   ]
  },
  {
   "cell_type": "code",
   "execution_count": 71,
   "id": "af9ec219-3f61-4def-bcef-19019a26b505",
   "metadata": {},
   "outputs": [
    {
     "data": {
      "text/plain": [
       "<matplotlib.image.AxesImage at 0x1507a19bb4f0>"
      ]
     },
     "execution_count": 71,
     "metadata": {},
     "output_type": "execute_result"
    },
    {
     "data": {
      "image/png": "[encoded data removed]",
      "text/plain": [
       "<Figure size 432x288 with 1 Axes>"
      ]
     },
     "metadata": {
      "needs_background": "light"
     },
     "output_type": "display_data"
    }
   ],
   "source": [
    "plt.spy(X_hat_grid[90])"
   ]
  },
  {
   "cell_type": "code",
   "execution_count": 112,
   "id": "e22fb8b5-2a1a-4c81-89c8-a8d30a166b1d",
   "metadata": {},
   "outputs": [
    {
     "data": {
      "text/plain": [
       "(95, 481, 601)"
      ]
     },
     "execution_count": 112,
     "metadata": {},
     "output_type": "execute_result"
    }
   ],
   "source": [
    "X_hat_grid.shape"
   ]
  },
  {
   "cell_type": "markdown",
   "id": "ac88f867-9f5d-4748-838f-8752929d3365",
   "metadata": {},
   "source": [
    "# Time Integrated"
   ]
  },
  {
   "cell_type": "code",
   "execution_count": 29,
   "id": "ba5f7e30-058e-4c14-9d6d-f5ccff17d756",
   "metadata": {},
   "outputs": [],
   "source": [
    "date_range_integrated = pd.date_range(start=m_start, end=m_end, freq='1h')\n",
    "emission_filtered_files, emission_files_df = filter_emissions(emission_files, [m_start, end_time])"
   ]
  },
  {
   "cell_type": "code",
   "execution_count": 30,
   "id": "73dd4ac0-4675-4f1f-b26e-0b3e05d008ad",
   "metadata": {},
   "outputs": [],
   "source": [
    "global H_integrated, Y_integrated, So_d_integrated"
   ]
  },
  {
   "cell_type": "code",
   "execution_count": 31,
   "id": "003e1c4d-3e3d-47f5-82c1-72e35db13081",
   "metadata": {},
   "outputs": [],
   "source": [
    "time_dict_integrated = {}\n",
    "for idx, time in enumerate(date_range_integrated):\n",
    "    time_dict_integrated[time] = idx"
   ]
  },
  {
   "cell_type": "code",
   "execution_count": 32,
   "id": "afec91c5-1085-4e6e-9d69-5c1c4effe6e2",
   "metadata": {},
   "outputs": [],
   "source": [
    "H_integrated = np.zeros((len(domain_foot_files), date_range_integrated.shape[0]*m), dtype=np.float32)\n",
    "Y_integrated = np.zeros((len(domain_foot_files), 1), dtype=np.float32)\n",
    "So_d_integrated = np.zeros((len(domain_foot_files), 1), dtype=np.float32)"
   ]
  },
  {
   "cell_type": "code",
   "execution_count": 33,
   "id": "f87f905e-2cda-4e08-8cf0-6a8393eeca82",
   "metadata": {
    "scrolled": true,
    "tags": []
   },
   "outputs": [
    {
     "name": "stderr",
     "output_type": "stream",
     "text": [
      "[Parallel(n_jobs=-1)]: Using backend ThreadingBackend with 64 concurrent workers.\n",
      "[Parallel(n_jobs=-1)]: Done  17 tasks      | elapsed:   19.1s\n",
      "[Parallel(n_jobs=-1)]: Done  34 tasks      | elapsed:   20.4s\n",
      "[Parallel(n_jobs=-1)]: Done  53 tasks      | elapsed:   21.7s\n",
      "[Parallel(n_jobs=-1)]: Done  72 tasks      | elapsed:   31.0s\n",
      "[Parallel(n_jobs=-1)]: Done  93 tasks      | elapsed:   35.6s\n",
      "[Parallel(n_jobs=-1)]: Done 114 tasks      | elapsed:   38.2s\n",
      "[Parallel(n_jobs=-1)]: Done 137 tasks      | elapsed:   43.3s\n",
      "[Parallel(n_jobs=-1)]: Done 160 tasks      | elapsed:   48.4s\n",
      "[Parallel(n_jobs=-1)]: Done 185 tasks      | elapsed:   51.2s\n",
      "[Parallel(n_jobs=-1)]: Done 210 tasks      | elapsed:   55.2s\n",
      "[Parallel(n_jobs=-1)]: Done 237 tasks      | elapsed:   59.0s\n",
      "[Parallel(n_jobs=-1)]: Done 264 tasks      | elapsed:  1.1min\n",
      "[Parallel(n_jobs=-1)]: Done 293 tasks      | elapsed:  1.1min\n",
      "[Parallel(n_jobs=-1)]: Done 322 tasks      | elapsed:  1.2min\n",
      "[Parallel(n_jobs=-1)]: Done 372 out of 453 | elapsed:  1.2min remaining:   16.3s\n",
      "[Parallel(n_jobs=-1)]: Done 418 out of 453 | elapsed:  1.3min remaining:    6.4s\n",
      "[Parallel(n_jobs=-1)]: Done 453 out of 453 | elapsed:  1.3min finished\n"
     ]
    }
   ],
   "source": [
    "def fill_h_integrated(idx, foot_file):\n",
    "    global H_integrated, Y_integrated, So_d_integrated\n",
    "    [__, timestamp, receptor_lon, receptor_lat, receptor_agl] = foot_file.replace('.nc', '').split(\"_\")\n",
    "    year = int(timestamp[0:4])\n",
    "    month = int(timestamp[4:6])\n",
    "    day = int(timestamp[6:8])\n",
    "    hour = int(timestamp[8:])\n",
    "    time_foot = datetime.datetime(year, month, day, hour)\n",
    "    index = time_dict_integrated[time_foot]\n",
    "    # print(H[idx, index*m:(index+1)*m].shape, 481*601)\n",
    "    \n",
    "    foot_data = nc.Dataset(foot_file)\n",
    "    foot = np.nansum(np.array(foot_data['foot']), axis=0)\n",
    "    Y_integrated[idx, 0] = np.array(foot_data['co2'])[0] - np.array(foot_data['bkg_co2_NOAA'])[0]\n",
    "    obs_error = np.array(foot_data['co2_err'])[0]\n",
    "    bkg_error = np.array(foot_data['bkg_err_NOAA'])[0]\n",
    "    mod_error = model_error[time_foot.hour]\n",
    "    So_d_integrated[idx, 0] = obs_error**2+bkg_error**2+mod_error**2\n",
    "    H_integrated[idx, index*m:(index+1)*m] = flatten_2d_column(foot)\n",
    "\n",
    "def fill_h_integrated_parallel():\n",
    "    # print(\"filling H ...\")\n",
    "    # H = np.zeros((len(domain_foot_files), date_range.shape[0]*m))\n",
    "    OUTPUT = Parallel(n_jobs=-1, verbose=10, backend='threading')(delayed(fill_h_integrated)(idx, foot_file) for idx, foot_file in enumerate(domain_foot_files))\n",
    "fill_h_integrated_parallel()"
   ]
  },
  {
   "cell_type": "code",
   "execution_count": 34,
   "id": "2af76822-ed19-4c4d-8fbc-3ae72ec63510",
   "metadata": {},
   "outputs": [
    {
     "data": {
      "text/plain": [
       "130393"
      ]
     },
     "execution_count": 34,
     "metadata": {},
     "output_type": "execute_result"
    }
   ],
   "source": [
    "count = 0\n",
    "for idx in range(H_integrated.shape[0]):\n",
    "    for val in H_integrated[25, :]:\n",
    "        if val!=0:\n",
    "            count += 1\n",
    "    break\n",
    "count"
   ]
  },
  {
   "cell_type": "code",
   "execution_count": 37,
   "id": "7378cc1c-456c-4a5e-8bd3-ac0ef3fd7de0",
   "metadata": {},
   "outputs": [
    {
     "name": "stderr",
     "output_type": "stream",
     "text": [
      "100%|█████████████████████████████████████████████████████████████████████████████████████████████████████████████████| 95/95 [00:01<00:00, 74.76it/s]\n"
     ]
    }
   ],
   "source": [
    "X_integrated = np.zeros((date_range_integrated.shape[0]*m, 1))\n",
    "for ems_file in tqdm(emission_filtered_files):\n",
    "    trimmed_file = ems_file.split(\"/\")[-1].replace(\"_\", \"x\")\n",
    "    [_, year, month, day, hour] = trimmed_file.replace('.ncdf', '').split(\"x\")\n",
    "    year = int(year)\n",
    "    month = int(month)\n",
    "    day = int(day)\n",
    "    hour = int(hour)\n",
    "    timestamp = datetime.datetime(year, month, day, hour)\n",
    "    ems_data = np.array(nc.Dataset(ems_file)['flx_total'])\n",
    "    ems_flattened = flatten_2d_column(ems_data)\n",
    "    index = time_dict_integrated[timestamp]\n",
    "    X_integrated[index*m:(index+1)*m, 0] = ems_flattened"
   ]
  },
  {
   "cell_type": "code",
   "execution_count": 38,
   "id": "89880fec-ba1c-45bc-af2b-142b83d9294d",
   "metadata": {},
   "outputs": [],
   "source": [
    "diag_prior = True\n",
    "ems_uncert = 50/100\n",
    "minUncert = 1.0\n",
    "x_pri_integrated = X_integrated\n",
    "Sa_d_integrated = (ems_uncert*x_pri_integrated)**2\n",
    "Sa_d_integrated[Sa_d_integrated<minUncert**2]=minUncert**2 #diagonal of Sa matrix"
   ]
  },
  {
   "cell_type": "code",
   "execution_count": 39,
   "id": "ba514916-bbc1-4cc3-8448-c9ccfe675857",
   "metadata": {},
   "outputs": [],
   "source": [
    "row_integrated = np.array([i for i in range(X_integrated.shape[0])])\n",
    "Sa_integrated = csr_matrix((Sa_d_integrated[:, 0], (row_integrated, row_integrated)), \n",
    "                          shape = (X_integrated.shape[0], X_integrated.shape[0]))"
   ]
  },
  {
   "cell_type": "code",
   "execution_count": 40,
   "id": "536ca23f-75a4-46fa-aec6-85dbe148c26c",
   "metadata": {},
   "outputs": [],
   "source": [
    "H_integrated_sparse = csr_matrix(H_integrated)\n",
    "Y_integrated_sparse = csr_matrix(Y_integrated)\n",
    "X_integrated_sparse = csr_matrix(X_integrated)"
   ]
  },
  {
   "cell_type": "code",
   "execution_count": 41,
   "id": "6fc27866-e822-457f-88fc-b589a782020e",
   "metadata": {},
   "outputs": [],
   "source": [
    "So_row_integrated = np.array([i for i in range(Y_integrated.shape[0])])\n",
    "So_integrated = csr_matrix((So_d_integrated[:, 0], (So_row_integrated, So_row_integrated)), \n",
    "                          shape = (Y_integrated.shape[0], Y_integrated.shape[0]))"
   ]
  },
  {
   "cell_type": "code",
   "execution_count": 42,
   "id": "970cb7de-bcf9-43c4-b543-9cbda410f7dc",
   "metadata": {},
   "outputs": [],
   "source": [
    "import time"
   ]
  },
  {
   "cell_type": "code",
   "execution_count": 43,
   "id": "dc7bb156-c627-4d97-af2a-aa9e684d32b5",
   "metadata": {},
   "outputs": [
    {
     "name": "stderr",
     "output_type": "stream",
     "text": [
      "/home/disk/p/nd349/anaconda3/envs/stilt/lib/python3.8/site-packages/scipy/sparse/linalg/_dsolve/linsolve.py:322: SparseEfficiencyWarning: splu requires CSC matrix format\n",
      "  warn('splu requires CSC matrix format', SparseEfficiencyWarning)\n",
      "/home/disk/p/nd349/anaconda3/envs/stilt/lib/python3.8/site-packages/scipy/sparse/linalg/_dsolve/linsolve.py:215: SparseEfficiencyWarning: spsolve is more efficient when sparse b is in the CSC matrix format\n",
      "  warn('spsolve is more efficient when sparse b '\n"
     ]
    },
    {
     "name": "stdout",
     "output_type": "stream",
     "text": [
      "time taken: 3.114410877227783\n"
     ]
    }
   ],
   "source": [
    "start = time.time()\n",
    "\n",
    "mismatch_integrated = Y_integrated_sparse - csr_matrix.dot(H_integrated_sparse, X_integrated_sparse)\n",
    "KSa_integrated = csr_matrix.dot(H_integrated_sparse, Sa_integrated)\n",
    "G_integrated = csr_matrix.dot(KSa_integrated, H_integrated_sparse.T) + So_integrated\n",
    "mismatch1_integrated = csr_matrix.dot(inv(G_integrated), mismatch_integrated)\n",
    "x_dif_integrated = csr_matrix.dot(KSa_integrated.T, mismatch1_integrated)\n",
    "X_hat_integrated = X_integrated_sparse + x_dif_integrated\n",
    "\n",
    "print(\"time taken:\", (time.time()-start))"
   ]
  },
  {
   "cell_type": "code",
   "execution_count": 44,
   "id": "6b11c3a5-3213-444e-9643-303a6c8888ef",
   "metadata": {},
   "outputs": [
    {
     "data": {
      "text/plain": [
       "(27462695, 1)"
      ]
     },
     "execution_count": 44,
     "metadata": {},
     "output_type": "execute_result"
    }
   ],
   "source": [
    "X_hat_integrated.shape"
   ]
  },
  {
   "cell_type": "code",
   "execution_count": 95,
   "id": "7bbb20f8-2e31-4c89-ac2c-d91d33519524",
   "metadata": {},
   "outputs": [],
   "source": [
    "X_hat_integrated_grid = np.zeros((int(X_integrated.shape[0]/m), nrow, ncol))"
   ]
  },
  {
   "cell_type": "code",
   "execution_count": null,
   "id": "93d7329e-150a-41d0-9cac-84f7947ad3aa",
   "metadata": {},
   "outputs": [],
   "source": [
    "for idx in range(X_hat_integrated_grid.shape[0]):\n",
    "    X_hat_integrated_grid[idx, :, :] = make_grid_2d_column(X_hat_integrated[idx*m:(idx+1)*m], nrow, ncol)"
   ]
  },
  {
   "cell_type": "markdown",
   "id": "df6c69fc-b648-45c4-a2a3-d5b549d0cde5",
   "metadata": {},
   "source": [
    "# Yadav and Michalak"
   ]
  },
  {
   "cell_type": "code",
   "execution_count": 37,
   "id": "4efd8a69-3121-46b1-ad30-cc25ac0a6af2",
   "metadata": {},
   "outputs": [],
   "source": [
    "import time"
   ]
  },
  {
   "cell_type": "code",
   "execution_count": 109,
   "id": "ddac0b8c-6969-4e77-bbf1-ea3cc40de6d6",
   "metadata": {},
   "outputs": [],
   "source": [
    "p = 100\n",
    "q = 100\n",
    "r = 100\n",
    "t = 100\n",
    "n = 500\n",
    "m1 = p*r;"
   ]
  },
  {
   "cell_type": "code",
   "execution_count": 35,
   "id": "1d60055a-e99f-4c57-94f2-e841314c3b52",
   "metadata": {},
   "outputs": [],
   "source": [
    "D = 0 + np.random.randn(p, q)\n",
    "E = 0 + np.random.randn(r,t)\n",
    "Q = np.kron(D,E)\n",
    "# H = np.random.rand(n,m1)"
   ]
  },
  {
   "cell_type": "code",
   "execution_count": 36,
   "id": "e2e25a8b-763f-4740-adb9-d0222cb10b36",
   "metadata": {},
   "outputs": [
    {
     "name": "stdout",
     "output_type": "stream",
     "text": [
      "HQ DIRECT time: 0.13344073295593262\n"
     ]
    }
   ],
   "source": [
    "# HQ_DIRECT\n",
    "start = time.time()\n",
    "HQ_DIRECT = np.dot(H, Q)\n",
    "print(\"HQ DIRECT time:\", time.time()-start)"
   ]
  },
  {
   "cell_type": "code",
   "execution_count": 37,
   "id": "e20be5e6-d78b-48b3-bc26-7882d35468ec",
   "metadata": {},
   "outputs": [
    {
     "name": "stdout",
     "output_type": "stream",
     "text": [
      "HQHT DIRECT time: 0.18117833137512207\n"
     ]
    }
   ],
   "source": [
    "# HQHT_DIRECT\n",
    "start = time.time()\n",
    "HQHT_DIRECT = np.dot(H, np.dot(Q, H.T))\n",
    "print(\"HQHT DIRECT time:\", time.time()-start)"
   ]
  },
  {
   "cell_type": "code",
   "execution_count": 38,
   "id": "49c032f8-eba3-4dbb-87dc-65716fe4c355",
   "metadata": {},
   "outputs": [
    {
     "name": "stdout",
     "output_type": "stream",
     "text": [
      "HQ_INDIRECT time: 1.512671709060669\n"
     ]
    }
   ],
   "source": [
    "# HQ_INDIRECT\n",
    "start = time.time()\n",
    "HQ_INDIRECT = np.zeros((n, q*t))\n",
    "counter = t\n",
    "for i in range(q):\n",
    "    temp = (i+1)*t\n",
    "    HQsum = np.zeros((n, r))\n",
    "    for j in range(p):\n",
    "        if D[j, i] != 0 and D[j,i] != 1:\n",
    "            HQsum +=  H[:,(j)*r:(j+1)*r]*D[j,i]\n",
    "        elif D[i, j] == 1:\n",
    "            HQsum += H[:,j*r:(j+1)*r]\n",
    "    HQ_INDIRECT[:, temp-counter:temp] = np.dot(HQsum, E)\n",
    "print (\"HQ_INDIRECT time:\", time.time()-start)"
   ]
  },
  {
   "cell_type": "code",
   "execution_count": 174,
   "id": "b1979f79-4e21-43a2-8e4c-244f6b784b24",
   "metadata": {},
   "outputs": [],
   "source": [
    "def hq(H, D, E):\n",
    "    n = H.shape[0]\n",
    "    p, q = D.shape\n",
    "    r, t = E.shape\n",
    "    HQ = np.zeros((n, q*t), dtype=np.float32)\n",
    "    counter = t\n",
    "    for i in tqdm(range(q)):\n",
    "        temp = (i+1)*t\n",
    "        HQsum = np.zeros((n, r), dtype=np.float32)\n",
    "        for j in range(p):\n",
    "            if D[j, i] != 0 and D[j, i] != 1:\n",
    "                HQsum += H[:, (j)*r:(j+1)*r]*D[j, i]\n",
    "            elif D[j, i] == 1:\n",
    "                HQsum += H[:, j*r:(j+1)*r]\n",
    "        # HQsum = coo_matrix(HQsum)\n",
    "        HQ[:, temp-counter:temp] = csc_matrix.dot(csc_matrix(HQsum), csc_matrix(E)).toarray()\n",
    "    return HQ\n",
    "\n",
    "def hqht(HQ, H, D, E):\n",
    "    n = H.shape[0]\n",
    "    p, q = D.shape\n",
    "    r, t = E.shape\n",
    "    HQHT = np.zeros((n, n), dtype=np.float32)\n",
    "    counter = t\n",
    "    for i in range(q):\n",
    "        temp = (i+1)*t\n",
    "        HQHT += np.dot(HQ[:, temp-counter:temp], H[:, (i)*r:(i+1)*r].T)\n",
    "    return HQHT"
   ]
  },
  {
   "cell_type": "code",
   "execution_count": 87,
   "id": "bac38b9f-7d44-4712-98b9-1b0775f807bc",
   "metadata": {},
   "outputs": [
    {
     "name": "stderr",
     "output_type": "stream",
     "text": [
      "  0%|                                                                                                                          | 0/95 [00:37<?, ?it/s]\n"
     ]
    },
    {
     "ename": "KeyboardInterrupt",
     "evalue": "",
     "output_type": "error",
     "traceback": [
      "\u001b[0;31m---------------------------------------------------------------------------\u001b[0m",
      "\u001b[0;31mKeyboardInterrupt\u001b[0m                         Traceback (most recent call last)",
      "Input \u001b[0;32mIn [87]\u001b[0m, in \u001b[0;36m<cell line: 1>\u001b[0;34m()\u001b[0m\n\u001b[0;32m----> 1\u001b[0m HQ \u001b[38;5;241m=\u001b[39m \u001b[43mhq\u001b[49m\u001b[43m(\u001b[49m\u001b[43mH\u001b[49m\u001b[43m,\u001b[49m\u001b[43m \u001b[49m\u001b[43mSa_t\u001b[49m\u001b[38;5;241;43m.\u001b[39;49m\u001b[43mtoarray\u001b[49m\u001b[43m(\u001b[49m\u001b[43m)\u001b[49m\u001b[43m,\u001b[49m\u001b[43m \u001b[49m\u001b[43mSa_xy\u001b[49m\u001b[43m)\u001b[49m\n",
      "Input \u001b[0;32mIn [86]\u001b[0m, in \u001b[0;36mhq\u001b[0;34m(H, D, E)\u001b[0m\n\u001b[1;32m     10\u001b[0m \u001b[38;5;28;01mfor\u001b[39;00m j \u001b[38;5;129;01min\u001b[39;00m \u001b[38;5;28mrange\u001b[39m(p):\n\u001b[1;32m     11\u001b[0m     \u001b[38;5;28;01mif\u001b[39;00m D[j, i] \u001b[38;5;241m!=\u001b[39m \u001b[38;5;241m0\u001b[39m \u001b[38;5;129;01mand\u001b[39;00m D[j, i] \u001b[38;5;241m!=\u001b[39m \u001b[38;5;241m1\u001b[39m:\n\u001b[0;32m---> 12\u001b[0m         HQsum \u001b[38;5;241m+\u001b[39m\u001b[38;5;241m=\u001b[39m \u001b[43mH\u001b[49m\u001b[43m[\u001b[49m\u001b[43m:\u001b[49m\u001b[43m,\u001b[49m\u001b[43m \u001b[49m\u001b[43m(\u001b[49m\u001b[43mj\u001b[49m\u001b[43m)\u001b[49m\u001b[38;5;241;43m*\u001b[39;49m\u001b[43mr\u001b[49m\u001b[43m:\u001b[49m\u001b[43m(\u001b[49m\u001b[43mj\u001b[49m\u001b[38;5;241;43m+\u001b[39;49m\u001b[38;5;241;43m1\u001b[39;49m\u001b[43m)\u001b[49m\u001b[38;5;241;43m*\u001b[39;49m\u001b[43mr\u001b[49m\u001b[43m]\u001b[49m\u001b[38;5;241;43m*\u001b[39;49m\u001b[43mD\u001b[49m\u001b[43m[\u001b[49m\u001b[43mj\u001b[49m\u001b[43m,\u001b[49m\u001b[43m \u001b[49m\u001b[43mi\u001b[49m\u001b[43m]\u001b[49m\n\u001b[1;32m     13\u001b[0m     \u001b[38;5;28;01melif\u001b[39;00m D[j, i] \u001b[38;5;241m==\u001b[39m \u001b[38;5;241m1\u001b[39m:\n\u001b[1;32m     14\u001b[0m         HQsum \u001b[38;5;241m+\u001b[39m\u001b[38;5;241m=\u001b[39m H[:, j\u001b[38;5;241m*\u001b[39mr:(j\u001b[38;5;241m+\u001b[39m\u001b[38;5;241m1\u001b[39m)\u001b[38;5;241m*\u001b[39mr]\n",
      "\u001b[0;31mKeyboardInterrupt\u001b[0m: "
     ]
    }
   ],
   "source": [
    "HQ = hq(H, Sa_t.toarray(), Sa_xy)"
   ]
  },
  {
   "cell_type": "code",
   "execution_count": 106,
   "id": "baebdd8d-1da2-48b6-9ea4-98e57bb87358",
   "metadata": {},
   "outputs": [],
   "source": [
    "from scipy import stats"
   ]
  },
  {
   "cell_type": "code",
   "execution_count": 165,
   "id": "e3a1171a-86a7-457a-9a37-8521f46126c1",
   "metadata": {},
   "outputs": [],
   "source": [
    "D = coo_matrix(sparse.random(p, q,density=0.5,))\n",
    "E = coo_matrix(sparse.random(r, t,density=0.5,))\n",
    "H = coo_matrix(sparse.random(n, p*r,density=0.5,))\n",
    "Q = coo_matrix(np.kron(D.toarray(), E.toarray()))"
   ]
  },
  {
   "cell_type": "code",
   "execution_count": 175,
   "id": "6f179c6e-c096-40b2-a8a0-c8ffbe622b0a",
   "metadata": {},
   "outputs": [
    {
     "name": "stderr",
     "output_type": "stream",
     "text": [
      "100%|███████████████████████████████████████████████████████████████████████████████████████████████████████████████| 100/100 [00:01<00:00, 78.99it/s]\n"
     ]
    },
    {
     "data": {
      "text/plain": [
       "array([[137.92209 , 149.51245 , 126.278694, ..., 149.91931 , 153.38965 ,\n",
       "         99.83067 ],\n",
       "       [145.70987 , 152.89586 , 136.54782 , ..., 145.00456 , 157.53809 ,\n",
       "        113.17639 ],\n",
       "       [144.41847 , 148.00017 , 136.03836 , ..., 138.76358 , 143.93102 ,\n",
       "        105.82088 ],\n",
       "       ...,\n",
       "       [141.52357 , 141.94861 , 141.37094 , ..., 149.00362 , 150.238   ,\n",
       "        104.88002 ],\n",
       "       [146.32506 , 148.14868 , 132.11938 , ..., 141.79012 , 157.15887 ,\n",
       "        115.64371 ],\n",
       "       [155.73187 , 163.27332 , 140.50737 , ..., 144.43742 , 142.20847 ,\n",
       "        112.78688 ]], dtype=float32)"
      ]
     },
     "execution_count": 175,
     "metadata": {},
     "output_type": "execute_result"
    }
   ],
   "source": [
    "hq(H.toarray(), D.toarray(), E)"
   ]
  },
  {
   "cell_type": "code",
   "execution_count": 176,
   "id": "cc2341f0-d4d2-4ae0-9dd0-2da2c9551154",
   "metadata": {},
   "outputs": [
    {
     "data": {
      "text/plain": [
       "array([[137.92208294, 149.51244561, 126.27869617, ..., 149.91930746,\n",
       "        153.38964905,  99.83067277],\n",
       "       [145.70986718, 152.89585077, 136.54781739, ..., 145.0045643 ,\n",
       "        157.53808425, 113.17638971],\n",
       "       [144.41848122, 148.00017371, 136.03836109, ..., 138.76358018,\n",
       "        143.93101275, 105.8208789 ],\n",
       "       ...,\n",
       "       [141.52358205, 141.94860104, 141.37094508, ..., 149.00361531,\n",
       "        150.23800886, 104.88001509],\n",
       "       [146.32505999, 148.14867761, 132.1193922 , ..., 141.79010827,\n",
       "        157.1588766 , 115.64370716],\n",
       "       [155.73187425, 163.27331083, 140.50737104, ..., 144.43742167,\n",
       "        142.20847426, 112.78687923]])"
      ]
     },
     "execution_count": 176,
     "metadata": {},
     "output_type": "execute_result"
    }
   ],
   "source": [
    "np.dot(H.toarray(), Q.toarray())"
   ]
  },
  {
   "cell_type": "code",
   "execution_count": 168,
   "id": "9cdc071b-15e0-48ec-91b3-65523cc04ff7",
   "metadata": {},
   "outputs": [],
   "source": [
    "n = H.shape[0]\n",
    "p, q = Sa_t.shape\n",
    "r, t = Sa_xy.shape\n",
    "HQ = csr_matrix(coo_matrix((n, q*t), dtype=np.float32))\n",
    "Sa_t = coo_matrix(Sa_t)\n",
    "row = Sa_t.row\n",
    "col = Sa_t.col\n",
    "data = Sa_t.data"
   ]
  },
  {
   "cell_type": "code",
   "execution_count": 146,
   "id": "4afde123-7ffa-473d-a676-b052c408a385",
   "metadata": {
    "scrolled": true,
    "tags": []
   },
   "outputs": [
    {
     "name": "stderr",
     "output_type": "stream",
     "text": [
      "100%|███████████████████████████████████████████████████████████████████████████████████████████████████████████| 5000/5000 [00:03<00:00, 1486.87it/s]\n"
     ]
    },
    {
     "data": {
      "text/plain": [
       "array([[ 4.0742064,  2.4943316,  4.542903 , ...,  4.7789445,  6.008483 ,\n",
       "         4.453984 ],\n",
       "       [ 5.1712556,  2.2798665,  5.292713 , ...,  5.411652 ,  8.99013  ,\n",
       "         8.194243 ],\n",
       "       [ 4.8650656,  2.7365577,  4.384255 , ...,  7.8261733, 10.81261  ,\n",
       "         8.471225 ],\n",
       "       ...,\n",
       "       [ 5.2380047,  3.0656154,  4.072258 , ...,  5.4828644,  8.231447 ,\n",
       "         4.042005 ],\n",
       "       [ 5.9049554,  2.6502352,  5.4747267, ...,  5.615504 ,  7.216447 ,\n",
       "         6.376104 ],\n",
       "       [ 4.241249 ,  3.0610693,  2.9993768, ...,  4.3457785,  6.7244453,\n",
       "         6.2012005]], dtype=float32)"
      ]
     },
     "execution_count": 146,
     "metadata": {},
     "output_type": "execute_result"
    }
   ],
   "source": [
    "# Sa_t = csr_matrix\n",
    "def hq_sparse(H, D, E):\n",
    "    H = csc_matrix(H).toarray()\n",
    "    E = csc_matrix(E).toarray()\n",
    "    row = D.row\n",
    "    col = D.col\n",
    "    data = D.data\n",
    "    counter = t\n",
    "    HQ = csc_matrix(coo_matrix((n, q*t), dtype=np.float32)).toarray()\n",
    "    for i in tqdm(col):\n",
    "        temp = (i+1)*t\n",
    "        HQsum = csc_matrix(coo_matrix((n, r), dtype=np.float32))\n",
    "        j = row[i]\n",
    "        # for j in row:\n",
    "        if data[i] !=1:\n",
    "            HQsum += H[:, (j)*r:(j+1)*r]*data[i]\n",
    "        elif data[i] == 1:\n",
    "            HQsum += H[:, j*r:(j+1)*r]\n",
    "        # import pdb; pdb.set_trace()\n",
    "        HQ[:, temp-counter:temp] = np.dot(HQsum, E)\n",
    "    return HQ\n",
    "hq_sparse(H, D, E)"
   ]
  },
  {
   "cell_type": "code",
   "execution_count": 151,
   "id": "e90bfd41-46ad-4ebc-b8ce-caf2847e7ae8",
   "metadata": {},
   "outputs": [
    {
     "data": {
      "text/plain": [
       "((500, 10000), (100, 100))"
      ]
     },
     "execution_count": 151,
     "metadata": {},
     "output_type": "execute_result"
    }
   ],
   "source": [
    "H.shape, Q.shape"
   ]
  },
  {
   "cell_type": "code",
   "execution_count": 44,
   "id": "2cd2d9f8-08eb-4ad6-ba16-89505c4ae3a5",
   "metadata": {},
   "outputs": [
    {
     "name": "stdout",
     "output_type": "stream",
     "text": [
      "HQHT_INDIRECT time: 0.10469818115234375\n"
     ]
    }
   ],
   "source": [
    "# HQHT_INDIRECT\n",
    "start = time.time()\n",
    "HQHT_INDIRECT = np.zeros((n, n))\n",
    "counter = t\n",
    "for i in range(q):\n",
    "    temp = (i+1)*t\n",
    "    # HQHT_out = HQHT_out + HQ[:,i*t-t+1:i*t]*H[:,(i-1)*r+1:i*r]'\n",
    "    HQHT_INDIRECT += np.dot(HQ_INDIRECT[:, temp-counter:temp], H[:, (i)*r:(i+1)*r].T)\n",
    "print(\"HQHT_INDIRECT time:\", time.time()-start)"
   ]
  },
  {
   "cell_type": "code",
   "execution_count": 48,
   "id": "df8fc950-2612-440c-a8f4-c9ed24cf138f",
   "metadata": {},
   "outputs": [
    {
     "data": {
      "text/plain": [
       "array([[-22.59253421, -28.87949075, -33.51452714, ..., -10.89889572,\n",
       "        -27.36057758,  -9.15326202],\n",
       "       [-11.45939375, -57.61746166, -29.95831407, ...,  26.44944432,\n",
       "        -32.80428826, -21.58777215],\n",
       "       [-13.77911118, -75.26767807,   5.7101124 , ...,  -9.39800685,\n",
       "        -14.87791977, -39.44090128],\n",
       "       ...,\n",
       "       [ -0.36674996,  16.09313001, -35.58861221, ..., -23.90715003,\n",
       "         -1.86018547, -48.67666315],\n",
       "       [-40.69941388,  -7.62591007, -36.33488626, ...,   1.73859306,\n",
       "        -63.44742   ,  -8.66943072],\n",
       "       [  6.46357135, -16.09062908, -38.62276925, ..., -18.2378549 ,\n",
       "         23.84310549, -50.16482336]])"
      ]
     },
     "execution_count": 48,
     "metadata": {},
     "output_type": "execute_result"
    }
   ],
   "source": [
    "HQ_INDIRECT"
   ]
  },
  {
   "cell_type": "code",
   "execution_count": 50,
   "id": "ac5a5caf-9c72-46b0-ac71-b8e83db342fd",
   "metadata": {},
   "outputs": [
    {
     "data": {
      "text/plain": [
       "array([[-22.592533  , -28.879496  , -33.514523  , ..., -10.898898  ,\n",
       "        -27.360577  ,  -9.153266  ],\n",
       "       [-11.459393  , -57.617462  , -29.958313  , ...,  26.449436  ,\n",
       "        -32.80429   , -21.58777   ],\n",
       "       [-13.7790985 , -75.26767   ,   5.710125  , ...,  -9.398004  ,\n",
       "        -14.877923  , -39.440903  ],\n",
       "       ...,\n",
       "       [ -0.36675718,  16.093143  , -35.58861   , ..., -23.907148  ,\n",
       "         -1.8601846 , -48.676662  ],\n",
       "       [-40.699406  ,  -7.625911  , -36.33489   , ...,   1.7385901 ,\n",
       "        -63.44742   ,  -8.669434  ],\n",
       "       [  6.4635754 , -16.090649  , -38.62276   , ..., -18.23785   ,\n",
       "         23.8431    , -50.16482   ]], dtype=float32)"
      ]
     },
     "execution_count": 50,
     "metadata": {},
     "output_type": "execute_result"
    }
   ],
   "source": [
    "hq_func"
   ]
  },
  {
   "cell_type": "markdown",
   "id": "2297c828-7dcd-4da6-b428-c84527a61d43",
   "metadata": {},
   "source": [
    "# Full Covariance Matrix"
   ]
  },
  {
   "cell_type": "code",
   "execution_count": 41,
   "id": "0e91f2b3-5a9e-4920-80c9-0af0fb5f0838",
   "metadata": {},
   "outputs": [],
   "source": [
    "ems_uncert = 50/100\n",
    "minUncert = 1.0\n",
    "tau_day = 1\n",
    "tau_hr = 5\n",
    "mVal = minUncert/ems_uncert\n",
    "lowBound = 1e-5\n",
    "nEms = int(X.shape[0]/m)"
   ]
  },
  {
   "cell_type": "markdown",
   "id": "6dbd5429-ed27-42e0-a4a6-f49807c09e47",
   "metadata": {},
   "source": [
    "# temporal"
   ]
  },
  {
   "cell_type": "code",
   "execution_count": 69,
   "id": "bc9ff14c-2385-418c-a27d-9e96fd9d9bdb",
   "metadata": {
    "scrolled": true,
    "tags": []
   },
   "outputs": [],
   "source": [
    "def build_temporal(tau_day, tau_hr, x_pri, m):\n",
    "    nEms = int(x_pri.shape[0]/m)\n",
    "    nG = m\n",
    "    tempA = np.zeros((nG))\n",
    "    tempB = np.zeros((nG))\n",
    "    Sa_t = np.zeros((nEms, nEms))\n",
    "    variance_temporal = np.zeros((nEms, 1), dtype=np.float32)\n",
    "    for i in range(nEms):\n",
    "        tempA = x_pri[i*m:(i+1)*m]\n",
    "        variance_temporal[i,0] = np.var(tempA)\n",
    "        for j in range(i, nEms):\n",
    "            tempB = x_pri[j*m:(j+1)*m]\n",
    "            hours_apart = j-i\n",
    "            days_apart = hours_apart/24\n",
    "            hours_apart = 12   - abs(12   - np.mod(hours_apart,24))\n",
    "            temp_hours = np.exp(-abs(hours_apart)/tau_hr)\n",
    "            temp_days = np.exp(-abs(days_apart)/tau_day)\n",
    "            # print(temp_hours, temp_days)\n",
    "            cor = np.corrcoef(tempA[:, 0], tempB[:, 0])[0,1]\n",
    "            # print(i, j, hours_apart, days_apart, temp_hours, temp_days, tempA.shape, tempB.shape, cor)\n",
    "            sig_val = cor*temp_hours*temp_days\n",
    "            if sig_val > lowBound:\n",
    "                Sa_t[i, j] = sig_val\n",
    "                Sa_t[j, i] = sig_val\n",
    "            # else:\n",
    "            #     Sa_t[i, j] = 10**-7\n",
    "            #     Sa_t[j, i] = 10**-7\n",
    "    return Sa_t, variance_temporal # need to convert this to covariance"
   ]
  },
  {
   "cell_type": "code",
   "execution_count": 70,
   "id": "e8633286-2651-4f1e-9229-ac3124119dc1",
   "metadata": {},
   "outputs": [],
   "source": [
    "Sa_t, variance_temporal = build_temporal(tau_day, tau_hr, X, m)"
   ]
  },
  {
   "cell_type": "code",
   "execution_count": null,
   "id": "08a625c3-474d-4242-943c-8b3814ad4bbc",
   "metadata": {},
   "outputs": [],
   "source": [
    "Sa_t[np.where(Sa_t==0)] = 10**-20"
   ]
  },
  {
   "cell_type": "code",
   "execution_count": 71,
   "id": "9f63abed-3c74-4d5c-8512-210c9274d043",
   "metadata": {},
   "outputs": [
    {
     "data": {
      "text/plain": [
       "array([227.4433 , 227.00209, 226.63367, 226.23125, 225.8128 , 225.48804,\n",
       "       225.2675 , 225.17941, 225.16643, 225.22145, 225.4844 , 226.277  ,\n",
       "       227.51387, 228.63338, 228.41113, 228.01225, 227.96533, 228.13264,\n",
       "       228.29448, 228.4446 , 228.8383 , 229.2706 , 229.46825, 229.28125,\n",
       "       227.94637, 226.84204, 226.33755, 226.06613, 225.71867, 225.44702,\n",
       "       225.27792, 225.1889 , 225.17728, 225.23686, 225.51448, 226.34502,\n",
       "       227.64053, 228.80203, 228.57677, 228.16289, 228.10481, 228.26842,\n",
       "       228.42772, 228.57372, 228.97066, 229.40099, 229.59233, 229.39946,\n",
       "       228.03404, 226.89915, 226.38109, 226.10344, 225.74583, 225.46579,\n",
       "       225.28094, 225.1905 , 225.17851, 225.23856, 225.51964, 226.3633 ,\n",
       "       227.68176, 228.86609, 228.63428, 228.21039, 228.1509 , 228.3181 ,\n",
       "       228.48141, 228.63158, 229.03833, 229.48038, 229.6785 , 229.4833 ,\n",
       "       228.08922, 226.9313 , 226.40317, 226.1203 , 225.75624, 225.47144,\n",
       "       225.2926 , 225.19728, 225.18408, 225.2457 , 225.5375 , 226.41924,\n",
       "       227.80098, 229.0486 , 228.8051 , 228.36299, 228.30746, 228.48964,\n",
       "       228.66556, 228.82727, 229.25911, 229.73021, 229.94182],\n",
       "      dtype=float32)"
      ]
     },
     "execution_count": 71,
     "metadata": {},
     "output_type": "execute_result"
    }
   ],
   "source": [
    "variance_temporal[:,0]"
   ]
  },
  {
   "cell_type": "code",
   "execution_count": 58,
   "id": "f223f1f5-4daa-44ba-8a7e-92ca73e935f3",
   "metadata": {},
   "outputs": [
    {
     "data": {
      "text/plain": [
       "<matplotlib.colorbar.Colorbar at 0x152f8d9b5b80>"
      ]
     },
     "execution_count": 58,
     "metadata": {},
     "output_type": "execute_result"
    },
    {
     "data": {
      "image/png": "[encoded data removed]",
      "text/plain": [
       "<Figure size 432x288 with 2 Axes>"
      ]
     },
     "metadata": {
      "needs_background": "light"
     },
     "output_type": "display_data"
    }
   ],
   "source": [
    "index = [i for i in range(nEms)]\n",
    "h = plt.pcolor(index, index, Sa_t)\n",
    "plt.colorbar(h)"
   ]
  },
  {
   "cell_type": "code",
   "execution_count": 36,
   "id": "71d43360-211f-4073-b875-3b28d0eb4191",
   "metadata": {},
   "outputs": [],
   "source": [
    "plt.plot(Sa_t[0, :])"
   ]
  },
  {
   "cell_type": "code",
   "execution_count": 37,
   "id": "0933b3f6-c565-47ef-8d75-8882cadef8f8",
   "metadata": {},
   "outputs": [
    {
     "data": {
      "text/plain": [
       "(27462695, 1)"
      ]
     },
     "execution_count": 37,
     "metadata": {},
     "output_type": "execute_result"
    }
   ],
   "source": [
    "X.shape"
   ]
  },
  {
   "cell_type": "markdown",
   "id": "60f5e44d-e7b6-4396-87d6-edd5871189b2",
   "metadata": {},
   "source": [
    "# Spatial"
   ]
  },
  {
   "cell_type": "code",
   "execution_count": 39,
   "id": "2d6fb948-6b62-4f1f-ad41-837c0818436b",
   "metadata": {},
   "outputs": [
    {
     "data": {
      "text/plain": [
       "(95,)"
      ]
     },
     "execution_count": 39,
     "metadata": {},
     "output_type": "execute_result"
    }
   ],
   "source": [
    "np.array([X[j*m:(j+1)*m, 0][i] for j in range(nEms)]).shape"
   ]
  },
  {
   "cell_type": "code",
   "execution_count": 38,
   "id": "8eabb67d-d247-4037-b127-2490f699c05b",
   "metadata": {},
   "outputs": [
    {
     "ename": "KeyboardInterrupt",
     "evalue": "",
     "output_type": "error",
     "traceback": [
      "\u001b[0;31m---------------------------------------------------------------------------\u001b[0m",
      "\u001b[0;31mKeyboardInterrupt\u001b[0m                         Traceback (most recent call last)",
      "Input \u001b[0;32mIn [38]\u001b[0m, in \u001b[0;36m<cell line: 45>\u001b[0;34m()\u001b[0m\n\u001b[1;32m     45\u001b[0m \u001b[38;5;28;01mfor\u001b[39;00m i \u001b[38;5;129;01min\u001b[39;00m \u001b[38;5;28mrange\u001b[39m(nG):\n\u001b[1;32m     46\u001b[0m     emsAll[:, i] \u001b[38;5;241m=\u001b[39m np\u001b[38;5;241m.\u001b[39marray([X[j\u001b[38;5;241m*\u001b[39mm:(j\u001b[38;5;241m+\u001b[39m\u001b[38;5;241m1\u001b[39m)\u001b[38;5;241m*\u001b[39mm, \u001b[38;5;241m0\u001b[39m][i] \u001b[38;5;28;01mfor\u001b[39;00m j \u001b[38;5;129;01min\u001b[39;00m \u001b[38;5;28mrange\u001b[39m(nEms)])\n\u001b[0;32m---> 47\u001b[0m     variance_spatial[i, \u001b[38;5;241m0\u001b[39m] \u001b[38;5;241m=\u001b[39m \u001b[43mnp\u001b[49m\u001b[38;5;241;43m.\u001b[39;49m\u001b[43mvar\u001b[49m\u001b[43m(\u001b[49m\u001b[43memsAll\u001b[49m\u001b[43m[\u001b[49m\u001b[43m:\u001b[49m\u001b[43m,\u001b[49m\u001b[43m \u001b[49m\u001b[43mi\u001b[49m\u001b[43m]\u001b[49m\u001b[43m)\u001b[49m\n\u001b[1;32m     48\u001b[0m     \u001b[38;5;28;01mif\u001b[39;00m if_ocean(emsAll[:, i]):\n\u001b[1;32m     49\u001b[0m         ocean[i] \u001b[38;5;241m=\u001b[39m \u001b[38;5;241m1\u001b[39m\n",
      "File \u001b[0;32m<__array_function__ internals>:5\u001b[0m, in \u001b[0;36mvar\u001b[0;34m(*args, **kwargs)\u001b[0m\n",
      "File \u001b[0;32m~/anaconda3/envs/stilt/lib/python3.8/site-packages/numpy/core/fromnumeric.py:3723\u001b[0m, in \u001b[0;36mvar\u001b[0;34m(a, axis, dtype, out, ddof, keepdims, where)\u001b[0m\n\u001b[1;32m   3720\u001b[0m     \u001b[38;5;28;01melse\u001b[39;00m:\n\u001b[1;32m   3721\u001b[0m         \u001b[38;5;28;01mreturn\u001b[39;00m var(axis\u001b[38;5;241m=\u001b[39maxis, dtype\u001b[38;5;241m=\u001b[39mdtype, out\u001b[38;5;241m=\u001b[39mout, ddof\u001b[38;5;241m=\u001b[39mddof, \u001b[38;5;241m*\u001b[39m\u001b[38;5;241m*\u001b[39mkwargs)\n\u001b[0;32m-> 3723\u001b[0m \u001b[38;5;28;01mreturn\u001b[39;00m \u001b[43m_methods\u001b[49m\u001b[38;5;241;43m.\u001b[39;49m\u001b[43m_var\u001b[49m\u001b[43m(\u001b[49m\u001b[43ma\u001b[49m\u001b[43m,\u001b[49m\u001b[43m \u001b[49m\u001b[43maxis\u001b[49m\u001b[38;5;241;43m=\u001b[39;49m\u001b[43maxis\u001b[49m\u001b[43m,\u001b[49m\u001b[43m \u001b[49m\u001b[43mdtype\u001b[49m\u001b[38;5;241;43m=\u001b[39;49m\u001b[43mdtype\u001b[49m\u001b[43m,\u001b[49m\u001b[43m \u001b[49m\u001b[43mout\u001b[49m\u001b[38;5;241;43m=\u001b[39;49m\u001b[43mout\u001b[49m\u001b[43m,\u001b[49m\u001b[43m \u001b[49m\u001b[43mddof\u001b[49m\u001b[38;5;241;43m=\u001b[39;49m\u001b[43mddof\u001b[49m\u001b[43m,\u001b[49m\n\u001b[1;32m   3724\u001b[0m \u001b[43m                     \u001b[49m\u001b[38;5;241;43m*\u001b[39;49m\u001b[38;5;241;43m*\u001b[39;49m\u001b[43mkwargs\u001b[49m\u001b[43m)\u001b[49m\n",
      "File \u001b[0;32m~/anaconda3/envs/stilt/lib/python3.8/site-packages/numpy/core/_methods.py:232\u001b[0m, in \u001b[0;36m_var\u001b[0;34m(a, axis, dtype, out, ddof, keepdims, where)\u001b[0m\n\u001b[1;32m    227\u001b[0m \u001b[38;5;66;03m# Compute sum of squared deviations from mean\u001b[39;00m\n\u001b[1;32m    228\u001b[0m \u001b[38;5;66;03m# Note that x may not be inexact and that we need it to be an array,\u001b[39;00m\n\u001b[1;32m    229\u001b[0m \u001b[38;5;66;03m# not a scalar.\u001b[39;00m\n\u001b[1;32m    230\u001b[0m x \u001b[38;5;241m=\u001b[39m asanyarray(arr \u001b[38;5;241m-\u001b[39m arrmean)\n\u001b[0;32m--> 232\u001b[0m \u001b[38;5;28;01mif\u001b[39;00m \u001b[38;5;28;43missubclass\u001b[39;49m\u001b[43m(\u001b[49m\u001b[43marr\u001b[49m\u001b[38;5;241;43m.\u001b[39;49m\u001b[43mdtype\u001b[49m\u001b[38;5;241;43m.\u001b[39;49m\u001b[43mtype\u001b[49m\u001b[43m,\u001b[49m\u001b[43m \u001b[49m\u001b[43m(\u001b[49m\u001b[43mnt\u001b[49m\u001b[38;5;241;43m.\u001b[39;49m\u001b[43mfloating\u001b[49m\u001b[43m,\u001b[49m\u001b[43m \u001b[49m\u001b[43mnt\u001b[49m\u001b[38;5;241;43m.\u001b[39;49m\u001b[43minteger\u001b[49m\u001b[43m)\u001b[49m\u001b[43m)\u001b[49m:\n\u001b[1;32m    233\u001b[0m     x \u001b[38;5;241m=\u001b[39m um\u001b[38;5;241m.\u001b[39mmultiply(x, x, out\u001b[38;5;241m=\u001b[39mx)\n\u001b[1;32m    234\u001b[0m \u001b[38;5;66;03m# Fast-paths for built-in complex types\u001b[39;00m\n",
      "\u001b[0;31mKeyboardInterrupt\u001b[0m: "
     ]
    }
   ],
   "source": [
    "def if_ocean(column):\n",
    "    if not np.any(column):\n",
    "        return True\n",
    "    else:\n",
    "        return False\n",
    "\n",
    "tau_len = 5\n",
    "\n",
    "def get_distance(coords_1, coords_2):\n",
    "    return geopy.distance.geodesic(coords_1, coords_2).km\n",
    "\n",
    "def get_len(coords_1, coords_2):\n",
    "    lat1 = coords_1[0]*np.pi/180\n",
    "    lon1 = coords_1[1]*np.pi/180\n",
    "    lat2 = coords_2[0]*np.pi/180\n",
    "    lon2 = coords_2[1]*np.pi/180\n",
    "    R = 6371e3\n",
    "    # a = sin²(Δφ/2) + cos φ1 ⋅ cos φ2 ⋅ sin²(Δλ/2)\n",
    "    # c = 2 ⋅ atan2( √a, √(1−a) )\n",
    "    # d = R ⋅ c\n",
    "    a = np.sin((lat1-lat2)/2)**2 + np.cos(lat1)*np.cos(lat2)*(np.sin((lon1-lon2)/2)**2)\n",
    "    c = 2*np.arctan2(np.sqrt(a), np.sqrt(1-a))\n",
    "    return R*c/1000 #km\n",
    "\n",
    "# grid_flattened_1 = []\n",
    "# for lon in lons:\n",
    "#     for lat in lats:\n",
    "#         grid_flattened_1.append((lat, lon))\n",
    "\n",
    "grid_flattened = [(lat, lon) for lon in lons for lat in lats]\n",
    "\n",
    "# def build_xy(tau_len, x_pri):\n",
    "\n",
    "nEms = int(X.shape[0]/m)\n",
    "nG = m\n",
    "min_distance = 30\n",
    "\n",
    "emsAll = np.zeros((nEms, nG))\n",
    "# dist_mat = np.zeros((nG, nG))\n",
    "# dist_mat = csr_matrix()\n",
    "ocean = np.zeros((nG))\n",
    "variance_spatial = np.zeros((nG, 1), dtype=np.float32)\n",
    "# Sa_xy = np.zeros((nG, nG))\n",
    "\n",
    "for i in range(nG):\n",
    "    emsAll[:, i] = np.array([X[j*m:(j+1)*m, 0][i] for j in range(nEms)])\n",
    "    variance_spatial[i, 0] = np.var(emsAll[:, i])\n",
    "    if if_ocean(emsAll[:, i]):\n",
    "        ocean[i] = 1\n",
    "\n",
    "variance_xy_rows = [i for i in range(nG)]\n",
    "variance_xy = csr_matrix((variance_spatial[:, 0], (variance_xy_rows, variance_xy_rows)), shape = (nG, nG), dtype=np.float32)"
   ]
  },
  {
   "cell_type": "code",
   "execution_count": 53,
   "id": "7698061a-c81b-491b-9d2f-bb450f718190",
   "metadata": {},
   "outputs": [
    {
     "name": "stdout",
     "output_type": "stream",
     "text": [
      "Forming spatial covariance\n"
     ]
    },
    {
     "name": "stderr",
     "output_type": "stream",
     "text": [
      "100%|██████████████████████████████████████████████████████████████████████████████████████████████████████| 289081/289081 [00:16<00:00, 17369.71it/s]\n"
     ]
    }
   ],
   "source": [
    "# import pdb; pdb.set_trace()\n",
    "print (\"Forming spatial covariance\")\n",
    "Sa_xy_file = \"data/Sa_xy_corrcoef.pkl\"\n",
    "\n",
    "def load_Sa_xy(file):\n",
    "\twith open(file, 'rb') as open_file:\n",
    "\t\tSa_xy = pickle.load(open_file)\n",
    "\treturn Sa_xy\n",
    "Sa_xy = load_Sa_xy(Sa_xy_file)\n",
    "\n",
    "nEms = int(X.shape[0]/m)\n",
    "nG = m\n",
    "emsAll = np.zeros((nEms, nG), dtype=np.float32)\n",
    "variance_xy = np.zeros((nG, nG), dtype=np.float32)\n",
    "for i in tqdm(range(nG)):\n",
    "    emsAll[:, i] = np.array([X[j*m:(j+1)*m, 0][i] for j in range(nEms)])\n",
    "    variance_xy[i, i] = np.var(emsAll[:, i])\n",
    "\n",
    "\n",
    "# Sa_xy = np.sqrt(self.fsigma)*(csr_matrix.dot(csr_matrix.sqrt(variance_xy), csr_matrix.dot(Sa_xy), csr_matrix.sqrt(variance_xy)))"
   ]
  },
  {
   "cell_type": "code",
   "execution_count": 54,
   "id": "5e658098-9021-40b9-9d9e-8c4a5a88aefd",
   "metadata": {},
   "outputs": [],
   "source": [
    "variance_xy = csr_matrix(variance_xy)\n",
    "variance_xy_sqrt = csr_matrix.sqrt(variance_xy)"
   ]
  },
  {
   "cell_type": "code",
   "execution_count": null,
   "id": "7bbc932c-3c70-4970-8570-4498c31456a3",
   "metadata": {},
   "outputs": [],
   "source": []
  },
  {
   "cell_type": "markdown",
   "id": "b1ec3caa-9a1a-4b95-9766-44874f6a37c9",
   "metadata": {},
   "source": [
    "Loading Sa_xy"
   ]
  },
  {
   "cell_type": "code",
   "execution_count": 46,
   "id": "db569fbd-59ba-4d5d-9942-c229b75bcf43",
   "metadata": {},
   "outputs": [],
   "source": [
    "with open(\"data/Sa_xy_corrcoef.pkl\", \"rb\") as file:\n",
    "    Sa_xy = pickle.load(file)"
   ]
  },
  {
   "cell_type": "code",
   "execution_count": 229,
   "id": "1ee99f08-d17c-4d0f-9a94-8ecc88f45368",
   "metadata": {
    "tags": []
   },
   "outputs": [
    {
     "name": "stdout",
     "output_type": "stream",
     "text": [
      "233 318\n"
     ]
    }
   ],
   "source": [
    "idx = (np.abs(lats - 37.943)).argmin()\n",
    "jdx = (np.abs(lons - -122.347)).argmin()\n",
    "print(idx, jdx)"
   ]
  },
  {
   "cell_type": "code",
   "execution_count": 230,
   "id": "f76254bd-453a-4e7b-8095-e85c083a4700",
   "metadata": {},
   "outputs": [
    {
     "data": {
      "text/plain": [
       "153191"
      ]
     },
     "execution_count": 230,
     "metadata": {},
     "output_type": "execute_result"
    }
   ],
   "source": [
    "index = jdx*481+idx\n",
    "index"
   ]
  },
  {
   "cell_type": "code",
   "execution_count": 231,
   "id": "c7aa47c3-676d-4591-b11f-8d2ebf58b967",
   "metadata": {},
   "outputs": [],
   "source": [
    "cov_array = Sa_xy[index, :].toarray().reshape(481, 601, order='F')"
   ]
  },
  {
   "cell_type": "code",
   "execution_count": 232,
   "id": "48a4ce0a-feec-449d-9390-69fa201ea006",
   "metadata": {},
   "outputs": [
    {
     "data": {
      "text/plain": [
       "(481, 601)"
      ]
     },
     "execution_count": 232,
     "metadata": {},
     "output_type": "execute_result"
    }
   ],
   "source": [
    "cov_array.shape"
   ]
  },
  {
   "cell_type": "code",
   "execution_count": 235,
   "id": "1f01447d-f290-42cf-8d6d-33a6cad6fb88",
   "metadata": {},
   "outputs": [
    {
     "data": {
      "text/plain": [
       "<matplotlib.colorbar.Colorbar at 0x14bc95650c10>"
      ]
     },
     "execution_count": 235,
     "metadata": {},
     "output_type": "execute_result"
    },
    {
     "data": {
      "image/png": "[encoded data removed]",
      "text/plain": [
       "<Figure size 432x288 with 2 Axes>"
      ]
     },
     "metadata": {
      "needs_background": "light"
     },
     "output_type": "display_data"
    }
   ],
   "source": [
    "h = plt.pcolor(lons, lats, cov_array, vmin=0, vmax=1000)\n",
    "plt.colorbar(h)"
   ]
  },
  {
   "cell_type": "code",
   "execution_count": null,
   "id": "c725ab64-7aef-4940-9440-b9d65a5f0963",
   "metadata": {},
   "outputs": [],
   "source": [
    "144420, 202260"
   ]
  },
  {
   "cell_type": "code",
   "execution_count": 78,
   "id": "416f01bc-3244-4290-9759-d94ab5a2a838",
   "metadata": {},
   "outputs": [],
   "source": [
    "a = np.array([[1, 2, 3], [4, 5, 6], [7, 8, 9]])"
   ]
  },
  {
   "cell_type": "code",
   "execution_count": 116,
   "id": "9f698342-59b2-4349-b6a7-32b690868ac8",
   "metadata": {},
   "outputs": [],
   "source": [
    "def getUSCoastLine():\n",
    "    ''' Return US coastline data '''\n",
    "    # https://www.dropbox.com/s/2ko30nyprpd8dmt/NOS80k.csv\n",
    "    nos_df = pd.read_csv(\"../../data/NOS80k.csv\", names=[\"lon\", \"lat\"])\n",
    "    for idx in range(nos_df.shape[0]):\n",
    "        if nos_df['lon'][idx] <=-9999:\n",
    "            nos_df['lon'][idx] = np.nan\n",
    "            nos_df['lat'][idx] = np.nan\n",
    "    return nos_df\n",
    "nos_df = getUSCoastLine()"
   ]
  },
  {
   "cell_type": "code",
   "execution_count": 87,
   "id": "2092a93f-b9ca-4a4c-8cc5-70d101abb028",
   "metadata": {},
   "outputs": [
    {
     "data": {
      "text/plain": [
       "array([[1, 2, 3],\n",
       "       [4, 5, 6],\n",
       "       [7, 8, 9]])"
      ]
     },
     "execution_count": 87,
     "metadata": {},
     "output_type": "execute_result"
    }
   ],
   "source": [
    "a.reshape(9, 1, order='F').reshape(3, 3, order='F')"
   ]
  },
  {
   "cell_type": "code",
   "execution_count": 221,
   "id": "371535ec-86d0-45ea-a15e-a3d4d1dd8659",
   "metadata": {
    "scrolled": true,
    "tags": []
   },
   "outputs": [
    {
     "name": "stderr",
     "output_type": "stream",
     "text": [
      "100%|█████████████████████████████████████████████████████████████████████████████████████████████████████████████████| 58/58 [02:05<00:00,  2.16s/it]\n"
     ]
    }
   ],
   "source": [
    "for index in tqdm(np.arange(144420, 202260, 1000)):\n",
    "    cov_array = Sa_xy[index, :].toarray().reshape(481, 601, order='F')\n",
    "    h = plt.pcolor(lons, lats, cov_array, vmin=0, vmax=1)\n",
    "    plt.colorbar(h)\n",
    "    h2 = plt.plot(nos_df['lon'], nos_df['lat'], 'k',)\n",
    "    plt.xlim(-125, -120)\n",
    "    plt.ylim(36, 40)\n",
    "    plt.title(f\"Spatial Covariance Matrix column:{index}\")\n",
    "    # plt.show()\n",
    "    plt.savefig(f\"plots/spatial_cov/spatial_cov_matrix_column{index}.png\")\n",
    "    plt.close()"
   ]
  },
  {
   "cell_type": "code",
   "execution_count": 222,
   "id": "d16d6189-75ae-4b22-a4e2-4c9e549fac4c",
   "metadata": {},
   "outputs": [],
   "source": [
    "import imageio, os, re\n",
    "\n",
    "def getGIF_singleLoc(gifname, saveLocation='', drop=False):\n",
    "    ''' Create gif for the footprints '''\n",
    "    filenames = get_files(saveLocation, \".png\")\n",
    "    with imageio.get_writer(gifname, mode='I') as writer:\n",
    "        for filename in filenames:\n",
    "            image = imageio.imread(filename)\n",
    "            for idx in range(5):\n",
    "                writer.append_data(image)\n",
    "    print(f'GIF: {gifname} has been saved!')\n",
    "    if drop:\n",
    "        # Remove files\n",
    "        for filename in set(filenames):\n",
    "            os.remove(filename)\n",
    "    return"
   ]
  },
  {
   "cell_type": "code",
   "execution_count": 223,
   "id": "3a1e9e50-bb8a-4309-a8a7-6907d321183c",
   "metadata": {},
   "outputs": [
    {
     "name": "stdout",
     "output_type": "stream",
     "text": [
      "GIF: plots/spatial_cov.gif has been saved!\n"
     ]
    }
   ],
   "source": [
    "getGIF_singleLoc(\"plots/spatial_cov.gif\", saveLocation=\"plots/spatial_cov/\")"
   ]
  },
  {
   "cell_type": "code",
   "execution_count": 224,
   "id": "7e032f18-3b3f-47dc-919e-a8dce6278767",
   "metadata": {},
   "outputs": [
    {
     "data": {
      "text/plain": [
       "289081"
      ]
     },
     "execution_count": 224,
     "metadata": {},
     "output_type": "execute_result"
    }
   ],
   "source": [
    "nG"
   ]
  },
  {
   "cell_type": "code",
   "execution_count": 228,
   "id": "92fa88c0-bb54-49b3-a5b1-8063785ee0da",
   "metadata": {},
   "outputs": [
    {
     "data": {
      "text/plain": [
       "array([[0., 0., 0., ..., 0., 0., 0.],\n",
       "       [0., 0., 0., ..., 0., 0., 0.],\n",
       "       [0., 0., 0., ..., 0., 0., 0.],\n",
       "       ...,\n",
       "       [0., 0., 0., ..., 0., 0., 0.],\n",
       "       [0., 0., 0., ..., 0., 0., 0.],\n",
       "       [0., 0., 0., ..., 0., 0., 0.]], dtype=float32)"
      ]
     },
     "execution_count": 228,
     "metadata": {},
     "output_type": "execute_result"
    }
   ],
   "source": [
    "np.zeros((nG, nG), dtype=np.float32)"
   ]
  },
  {
   "cell_type": "markdown",
   "id": "6f86d8f3-ff1c-4c8f-9fc9-4cc9385d441e",
   "metadata": {},
   "source": [
    "# Python Inversion Module test"
   ]
  },
  {
   "cell_type": "code",
   "execution_count": 2,
   "id": "a8bc8a95-099d-474b-a8a9-b7ecd5cf860f",
   "metadata": {},
   "outputs": [],
   "source": [
    "from diagPrior.time_resolved_diag_prior import InversionDiagPrior\n",
    "from Utils.getData import *\n",
    "from config import *\n",
    "invert = InversionDiagPrior(H, X, Y, So_d)"
   ]
  },
  {
   "cell_type": "code",
   "execution_count": 31,
   "id": "03e3396d-cd66-4257-9256-15143f3d85e2",
   "metadata": {},
   "outputs": [
    {
     "data": {
      "text/plain": [
       "300313"
      ]
     },
     "execution_count": 31,
     "metadata": {},
     "output_type": "execute_result"
    }
   ],
   "source": [
    "count = 0\n",
    "for idx in range(H.shape[0]):\n",
    "    for val in H[250, :]:\n",
    "        if val!=0:\n",
    "            count += 1\n",
    "    break\n",
    "count"
   ]
  },
  {
   "cell_type": "code",
   "execution_count": 7,
   "id": "65e854c0-b72d-41c2-b33c-f8f0a1f4e9d9",
   "metadata": {},
   "outputs": [
    {
     "data": {
      "text/plain": [
       "(453, 27462695)"
      ]
     },
     "execution_count": 7,
     "metadata": {},
     "output_type": "execute_result"
    }
   ],
   "source": [
    "H.shape"
   ]
  },
  {
   "cell_type": "code",
   "execution_count": 74,
   "id": "0dcfd356-931e-435c-87db-1bc941df2656",
   "metadata": {},
   "outputs": [
    {
     "data": {
      "image/png": "[encoded data removed]",
      "text/plain": [
       "<Figure size 432x288 with 1 Axes>"
      ]
     },
     "metadata": {
      "needs_background": "light"
     },
     "output_type": "display_data"
    }
   ],
   "source": [
    "index = 0\n",
    "for j in range(69, date_range.shape[0]):\n",
    "    value = H[index,j*m:(j+1)*m].reshape(nrow, ncol, order='F')\n",
    "    plt.spy(value)\n",
    "    break"
   ]
  },
  {
   "cell_type": "code",
   "execution_count": 36,
   "id": "762c473b-f6e5-41de-bb95-a14d7c975ca0",
   "metadata": {},
   "outputs": [
    {
     "data": {
      "text/plain": [
       "array([[0., 0., 0., ..., 0., 0., 0.],\n",
       "       [0., 0., 0., ..., 0., 0., 0.],\n",
       "       [0., 0., 0., ..., 0., 0., 0.],\n",
       "       ...,\n",
       "       [0., 0., 0., ..., 0., 0., 0.],\n",
       "       [0., 0., 0., ..., 0., 0., 0.],\n",
       "       [0., 0., 0., ..., 0., 0., 0.]], dtype=float32)"
      ]
     },
     "execution_count": 36,
     "metadata": {},
     "output_type": "execute_result"
    }
   ],
   "source": [
    "H"
   ]
  },
  {
   "cell_type": "markdown",
   "id": "88f4bfb7-10fa-4691-8b67-88e24a7190ba",
   "metadata": {},
   "source": [
    "# FullCovariance Computation"
   ]
  },
  {
   "cell_type": "code",
   "execution_count": null,
   "id": "bee46e70-e38b-4736-8f63-d9500082f76d",
   "metadata": {},
   "outputs": [],
   "source": [
    "KSa = hq(H_sparse, csr_matrix(Sa_t), csr_matrix(Sa_xy))"
   ]
  },
  {
   "cell_type": "code",
   "execution_count": 1,
   "id": "a8ce5c4f-a309-42ab-a00a-bcdbe3224909",
   "metadata": {
    "scrolled": true,
    "tags": []
   },
   "outputs": [
    {
     "name": "stdout",
     "output_type": "stream",
     "text": [
      "sys.argv: ['-f', '/home/disk/p/nd349/.local/share/jupyter/runtime/kernel-41968e17-4e29-4a3f-a34f-a57495a5ffdb.json']\n",
      "job field is empty: ['-f', '/home/disk/p/nd349/.local/share/jupyter/runtime/kernel-41968e17-4e29-4a3f-a34f-a57495a5ffdb.json']\n",
      "Location: \n",
      "Mode: integrated_decayed\n",
      "Device: cpu\n",
      "Start date: 2018-01-04 00:00:00\n",
      "End date: 2018-01-05 00:00:00\n",
      "Inversion grid: ([-123.1, -121.8], [37.35, 38.4])\n",
      "Posterior solutions output location: /home/disk/p/nd349/nikhil.dadheech/pointSources/Inversion/BEACON_Inv_python/data/inversion/posterior2018-01-02_12:00:00_2018-01-06_11:00:00_integrated_decayed_cpu.nc\n",
      "Output directory: /home/disk/hermes/nd349/data/inversion/integrated_decayed_BEACON/\n",
      "\n",
      "Reading observation data ....\n"
     ]
    },
    {
     "name": "stderr",
     "output_type": "stream",
     "text": [
      "0it [00:00, ?it/s]"
     ]
    },
    {
     "name": "stdout",
     "output_type": "stream",
     "text": [
      "Loop: integrated_decayed\n",
      "Loop: integrated_decayed\n",
      "Loop: integrated_decayed\n",
      "Loop: integrated_decayed\n",
      "Loop: integrated_decayed\n"
     ]
    },
    {
     "name": "stderr",
     "output_type": "stream",
     "text": [
      "128it [00:03, 41.15it/s]"
     ]
    },
    {
     "name": "stdout",
     "output_type": "stream",
     "text": [
      "Loop: integrated_decayed\n",
      "Loop: Loop: integrated_decayed\n",
      "integrated_decayedLoop: integrated_decayed\n",
      "\n",
      "Loop: integrated_decayed\n",
      "Loop: integrated_decayed\n",
      "Loop: integrated_decayedLoop: integrated_decayed\n",
      "\n",
      "Loop: integrated_decayed\n",
      "Loop: integrated_decayed\n",
      "Loop: integrated_decayed\n",
      "Loop: integrated_decayed\n",
      "Loop:Loop: integrated_decayed\n",
      " integrated_decayed\n",
      "Loop: integrated_decayed\n",
      "Loop: integrated_decayed\n",
      "Loop: integrated_decayed\n",
      "Loop: integrated_decayed\n",
      "Loop: integrated_decayed\n",
      "Loop: integrated_decayed\n",
      "Loop: integrated_decayed\n",
      "Loop: integrated_decayed\n",
      "Loop: integrated_decayed\n",
      "Loop: integrated_decayed\n",
      "Loop: integrated_decayed\n",
      "Loop: integrated_decayed\n",
      "Loop: integrated_decayed\n",
      "Loop: integrated_decayed\n",
      "Loop: integrated_decayed\n",
      "Loop: integrated_decayed\n",
      "Loop: integrated_decayed\n",
      "Loop: integrated_decayed\n",
      "Loop: integrated_decayed\n",
      "Loop: integrated_decayed\n",
      "Loop: integrated_decayed\n",
      "Loop: integrated_decayed\n",
      "Loop: integrated_decayed\n",
      "Loop: integrated_decayed\n",
      "Loop: integrated_decayed\n",
      "Loop: integrated_decayed\n",
      "Loop: integrated_decayed\n",
      "Loop: integrated_decayed\n",
      "Loop: integrated_decayed\n",
      "Loop: integrated_decayed\n",
      "Loop: integrated_decayedLoop: integrated_decayed\n",
      "Loop: integrated_decayed\n",
      "Loop: integrated_decayed\n",
      "\n",
      "Loop: integrated_decayed\n",
      "Loop: integrated_decayed\n",
      "Loop: integrated_decayed\n",
      "Loop: integrated_decayed\n",
      "Loop: integrated_decayed\n"
     ]
    },
    {
     "name": "stderr",
     "output_type": "stream",
     "text": [
      "\n",
      "KeyboardInterrupt\n",
      "\n"
     ]
    }
   ],
   "source": [
    "from Utils.getData import *\n",
    "from config import *\n",
    "import matplotlib.pyplot as plt"
   ]
  },
  {
   "cell_type": "code",
   "execution_count": 2,
   "id": "7fabab8f-7ef7-4279-ba80-19330e8febbd",
   "metadata": {},
   "outputs": [
    {
     "data": {
      "text/plain": [
       "(96.0, 96.0)"
      ]
     },
     "execution_count": 2,
     "metadata": {},
     "output_type": "execute_result"
    }
   ],
   "source": [
    "H.shape[1]/m, H_check.shape[1]/m"
   ]
  },
  {
   "cell_type": "code",
   "execution_count": 3,
   "id": "d2f19ae0-0752-4493-8970-11929cdcfc85",
   "metadata": {
    "scrolled": true,
    "tags": []
   },
   "outputs": [
    {
     "name": "stdout",
     "output_type": "stream",
     "text": [
      "0 37\n",
      "1 37\n",
      "2 37\n",
      "3 37\n",
      "4 37\n",
      "5 37\n",
      "6 37\n",
      "7 37\n",
      "8 37\n",
      "9 37\n",
      "10 37\n",
      "11 37\n",
      "12 37\n",
      "13 37\n",
      "14 37\n",
      "15 37\n",
      "16 37\n",
      "17 37\n",
      "18 37\n",
      "19 37\n",
      "20 37\n",
      "21 37\n",
      "22 37\n",
      "23 37\n",
      "24 37\n",
      "25 37\n",
      "26 37\n",
      "27 37\n",
      "28 37\n",
      "29 37\n",
      "30 37\n",
      "31 37\n",
      "32 37\n",
      "33 37\n",
      "34 37\n",
      "35 37\n",
      "36 37\n",
      "37 37\n",
      "38 37\n",
      "39 37\n",
      "40 37\n",
      "41 37\n",
      "42 37\n",
      "43 37\n",
      "44 37\n",
      "45 37\n",
      "46 37\n",
      "47 37\n",
      "48 37\n",
      "49 37\n",
      "50 37\n",
      "51 37\n",
      "52 37\n",
      "53 37\n",
      "54 37\n",
      "55 37\n",
      "56 37\n",
      "57 37\n",
      "58 37\n",
      "59 37\n",
      "60 37\n",
      "61 37\n",
      "62 37\n",
      "63 37\n",
      "64 37\n",
      "65 37\n",
      "66 37\n",
      "67 37\n",
      "68 37\n",
      "69 37\n",
      "70 37\n",
      "71 37\n",
      "72 37\n",
      "73 37\n",
      "74 37\n",
      "75 37\n",
      "76 37\n",
      "77 37\n",
      "78 37\n",
      "79 37\n",
      "80 37\n",
      "81 37\n",
      "82 37\n",
      "83 37\n",
      "84 37\n",
      "85 37\n",
      "86 37\n",
      "87 37\n",
      "88 37\n",
      "89 37\n",
      "90 37\n",
      "91 37\n",
      "92 37\n",
      "93 37\n",
      "94 37\n",
      "95 37\n",
      "96 37\n",
      "97 37\n",
      "98 37\n",
      "99 37\n",
      "100 37\n",
      "101 37\n",
      "102 37\n",
      "103 37\n",
      "104 37\n",
      "105 37\n",
      "106 37\n",
      "107 37\n",
      "108 37\n",
      "109 37\n",
      "110 37\n",
      "111 37\n",
      "112 37\n",
      "113 37\n",
      "114 37\n",
      "115 37\n",
      "116 37\n",
      "117 37\n",
      "118 37\n",
      "119 37\n",
      "120 37\n",
      "121 37\n",
      "122 37\n",
      "123 37\n",
      "124 37\n",
      "125 37\n",
      "126 37\n",
      "127 37\n",
      "128 37\n",
      "129 37\n",
      "130 37\n",
      "131 37\n",
      "132 37\n",
      "133 37\n",
      "134 37\n",
      "135 37\n",
      "136 37\n",
      "137 37\n",
      "138 37\n",
      "139 37\n",
      "140 37\n",
      "141 37\n",
      "142 37\n",
      "143 37\n",
      "144 37\n",
      "145 37\n",
      "146 37\n",
      "147 37\n",
      "148 37\n",
      "149 37\n",
      "150 37\n",
      "151 37\n",
      "152 37\n",
      "153 37\n",
      "154 37\n",
      "155 37\n",
      "156 37\n",
      "157 37\n",
      "158 37\n",
      "159 37\n",
      "160 37\n",
      "161 37\n",
      "162 37\n",
      "163 37\n",
      "164 37\n",
      "165 37\n",
      "166 37\n",
      "167 37\n",
      "168 37\n",
      "169 37\n",
      "170 37\n",
      "171 37\n",
      "172 37\n",
      "173 37\n",
      "174 37\n",
      "175 37\n",
      "176 37\n",
      "177 37\n",
      "178 37\n",
      "179 37\n",
      "180 37\n",
      "181 37\n",
      "182 37\n",
      "183 37\n",
      "184 37\n",
      "185 37\n",
      "186 37\n",
      "187 37\n",
      "188 37\n",
      "189 37\n",
      "190 37\n",
      "191 37\n",
      "192 37\n",
      "193 37\n",
      "194 37\n",
      "195 37\n",
      "196 37\n",
      "197 37\n",
      "198 37\n",
      "199 37\n",
      "200 37\n",
      "201 37\n",
      "202 37\n",
      "203 37\n",
      "204 37\n",
      "205 37\n",
      "206 37\n",
      "207 37\n",
      "208 37\n",
      "209 37\n",
      "210 37\n",
      "211 37\n",
      "212 37\n",
      "213 37\n",
      "214 37\n",
      "215 37\n",
      "216 37\n",
      "217 37\n",
      "218 37\n",
      "219 37\n",
      "220 37\n",
      "221 37\n",
      "222 37\n",
      "223 37\n",
      "224 37\n",
      "225 37\n",
      "226 37\n",
      "227 37\n",
      "228 37\n",
      "229 37\n",
      "230 37\n",
      "231 37\n",
      "232 37\n",
      "233 37\n",
      "234 37\n",
      "235 37\n",
      "236 37\n",
      "237 37\n",
      "238 37\n",
      "239 37\n",
      "240 37\n",
      "241 37\n",
      "242 37\n",
      "243 37\n",
      "244 37\n",
      "245 37\n",
      "246 37\n",
      "247 37\n",
      "248 37\n",
      "249 37\n",
      "250 37\n",
      "251 37\n",
      "252 37\n",
      "253 37\n",
      "254 37\n",
      "255 37\n",
      "256 37\n",
      "257 37\n",
      "258 37\n",
      "259 37\n",
      "260 37\n",
      "261 37\n",
      "262 37\n",
      "263 37\n",
      "264 37\n",
      "265 37\n",
      "266 37\n",
      "267 37\n",
      "268 37\n",
      "269 37\n",
      "270 37\n",
      "271 37\n",
      "272 37\n",
      "273 37\n",
      "274 37\n",
      "275 37\n",
      "276 37\n",
      "277 37\n",
      "278 37\n",
      "279 37\n",
      "280 37\n",
      "281 37\n",
      "282 37\n",
      "283 37\n",
      "284 37\n",
      "285 37\n",
      "286 37\n",
      "287 37\n",
      "288 37\n",
      "289 37\n",
      "290 37\n",
      "291 37\n",
      "292 37\n",
      "293 37\n",
      "294 37\n",
      "295 37\n",
      "296 37\n",
      "297 37\n",
      "298 37\n",
      "299 37\n",
      "300 37\n",
      "301 37\n",
      "302 37\n",
      "303 37\n",
      "304 37\n",
      "305 37\n",
      "306 37\n",
      "307 37\n",
      "308 37\n",
      "309 37\n",
      "310 37\n",
      "311 37\n",
      "312 37\n",
      "313 37\n",
      "314 37\n",
      "315 37\n",
      "316 37\n",
      "317 37\n",
      "318 37\n",
      "319 37\n",
      "320 37\n",
      "321 37\n",
      "322 37\n",
      "323 37\n",
      "324 37\n",
      "325 37\n",
      "326 37\n",
      "327 37\n",
      "328 37\n",
      "329 37\n",
      "330 37\n",
      "331 37\n",
      "332 37\n",
      "333 37\n",
      "334 37\n",
      "335 37\n",
      "336 37\n",
      "337 37\n",
      "338 37\n",
      "339 37\n",
      "340 37\n",
      "341 37\n",
      "342 37\n",
      "343 37\n",
      "344 37\n",
      "345 37\n",
      "346 37\n",
      "347 37\n",
      "348 37\n",
      "349 37\n",
      "350 37\n",
      "351 37\n",
      "352 37\n",
      "353 37\n",
      "354 37\n",
      "355 37\n",
      "356 37\n",
      "357 37\n",
      "358 37\n",
      "359 37\n",
      "360 37\n",
      "361 37\n",
      "362 37\n",
      "363 37\n",
      "364 37\n",
      "365 37\n",
      "366 37\n",
      "367 37\n",
      "368 37\n",
      "369 37\n",
      "370 37\n",
      "371 37\n",
      "372 37\n",
      "373 37\n",
      "374 37\n",
      "375 37\n",
      "376 37\n",
      "377 37\n",
      "378 37\n",
      "379 37\n",
      "380 37\n",
      "381 37\n",
      "382 37\n",
      "383 37\n",
      "384 37\n",
      "385 37\n",
      "386 37\n",
      "387 37\n",
      "388 37\n",
      "389 37\n",
      "390 37\n",
      "391 37\n",
      "392 37\n",
      "393 37\n",
      "394 37\n",
      "395 37\n",
      "396 37\n",
      "397 37\n",
      "398 37\n",
      "399 37\n",
      "400 37\n",
      "401 37\n",
      "402 37\n",
      "403 37\n",
      "404 37\n",
      "405 37\n",
      "406 37\n",
      "407 37\n",
      "408 37\n",
      "409 37\n",
      "410 37\n",
      "411 37\n",
      "412 37\n",
      "413 37\n",
      "414 37\n",
      "415 37\n",
      "416 37\n",
      "417 37\n",
      "418 37\n",
      "419 37\n",
      "420 37\n",
      "421 37\n",
      "422 37\n",
      "423 37\n",
      "424 37\n",
      "425 37\n",
      "426 37\n",
      "427 37\n",
      "428 37\n",
      "429 37\n",
      "430 37\n",
      "431 37\n",
      "432 37\n",
      "433 37\n",
      "434 37\n",
      "435 37\n",
      "436 37\n",
      "437 37\n",
      "438 37\n",
      "439 37\n",
      "440 37\n",
      "441 37\n",
      "442 37\n",
      "443 37\n",
      "444 37\n",
      "445 37\n",
      "446 37\n",
      "447 37\n",
      "448 37\n",
      "449 37\n",
      "450 37\n",
      "451 37\n",
      "452 37\n",
      "37\n"
     ]
    }
   ],
   "source": [
    "count = 0\n",
    "for idx in range(H.shape[0]):\n",
    "    count = 0\n",
    "    for jdx in range(int(H.shape[1]/m)):\n",
    "        value = H[idx, jdx*m:(jdx+1)*m]\n",
    "        if np.sum(value)>0:\n",
    "            count += 1\n",
    "    print(idx, count)\n",
    "print(count)"
   ]
  },
  {
   "cell_type": "code",
   "execution_count": 4,
   "id": "252fb071-ebd4-4b03-a8fd-5faec9cc3612",
   "metadata": {},
   "outputs": [
    {
     "data": {
      "text/plain": [
       "3.0997944"
      ]
     },
     "execution_count": 4,
     "metadata": {},
     "output_type": "execute_result"
    }
   ],
   "source": [
    "index = 0\n",
    "np.sum(H[index, :], axis=0)"
   ]
  },
  {
   "cell_type": "code",
   "execution_count": 11,
   "id": "66b21084-1aac-4804-8088-cd3d060da747",
   "metadata": {},
   "outputs": [
    {
     "data": {
      "text/plain": [
       "3.099794387794829"
      ]
     },
     "execution_count": 11,
     "metadata": {},
     "output_type": "execute_result"
    }
   ],
   "source": [
    "sum([np.sum(H[index, key*m:(key+1)*m], axis=0) for key in range(37)])"
   ]
  },
  {
   "cell_type": "code",
   "execution_count": 21,
   "id": "2d5f31ac-f202-4047-9932-9c2827b7acf2",
   "metadata": {},
   "outputs": [
    {
     "data": {
      "text/plain": [
       "(0.19373714923858643, 0.19373715)"
      ]
     },
     "execution_count": 21,
     "metadata": {},
     "output_type": "execute_result"
    }
   ],
   "source": [
    "np.sum(H_check[index, 36*m:37*m])/16, np.sum(H[index, 33*m:34*m])"
   ]
  },
  {
   "cell_type": "code",
   "execution_count": 22,
   "id": "9851a30b-6929-4c3a-aef2-faad98d05405",
   "metadata": {},
   "outputs": [],
   "source": [
    "from fullCovariance.InversionFullCovariance import InversionFullPrior"
   ]
  },
  {
   "cell_type": "code",
   "execution_count": 23,
   "id": "d8755701-f892-4cf6-89f6-2858360e3ffe",
   "metadata": {},
   "outputs": [
    {
     "name": "stdout",
     "output_type": "stream",
     "text": [
      "Forming sparse matrices ....\n"
     ]
    },
    {
     "name": "stderr",
     "output_type": "stream",
     "text": [
      "100%|███████████████████████████████████████████████| 96/96 [00:08<00:00, 11.01it/s]\n"
     ]
    },
    {
     "name": "stdout",
     "output_type": "stream",
     "text": [
      "Forming spatial covariance\n"
     ]
    },
    {
     "name": "stderr",
     "output_type": "stream",
     "text": [
      "100%|████████████████████████████████████| 289081/289081 [00:16<00:00, 17179.85it/s]\n"
     ]
    },
    {
     "name": "stdout",
     "output_type": "stream",
     "text": [
      "Converting variance into sparse\n",
      "Computing covariance matrix\n"
     ]
    }
   ],
   "source": [
    "inversion = InversionFullPrior(H, X, Y, So)"
   ]
  },
  {
   "cell_type": "code",
   "execution_count": null,
   "id": "ba51acfa-c3b7-4aeb-94a9-ab0747e5bd74",
   "metadata": {},
   "outputs": [
    {
     "name": "stdout",
     "output_type": "stream",
     "text": [
      "Inversion is starting .....\n",
      "Size of H: (453, 27751776)\n",
      "Size of X prior: (27751776, 1)\n",
      "Size of Y: (453, 1)\n",
      "Size of So: (453, 453)\n",
      "Size of Sa_t: (96, 96)\n",
      "Size of Sa_xy: (289081, 289081)\n",
      "computing mismatch ....\n",
      "computing HQ ....\n"
     ]
    },
    {
     "name": "stderr",
     "output_type": "stream",
     "text": [
      " 12%|█████▉                                         | 12/96 [07:27<51:58, 37.12s/it]"
     ]
    }
   ],
   "source": [
    "X_hat = inversion.invert()"
   ]
  },
  {
   "cell_type": "code",
   "execution_count": 26,
   "id": "5bb5783d-ef8d-4d28-8ec4-2befcef4e6b7",
   "metadata": {},
   "outputs": [
    {
     "data": {
      "text/plain": [
       "numpy.matrix"
      ]
     },
     "execution_count": 26,
     "metadata": {},
     "output_type": "execute_result"
    }
   ],
   "source": [
    "type(X_hat)"
   ]
  },
  {
   "cell_type": "code",
   "execution_count": 60,
   "id": "b05fa2e1-71ec-4964-ac81-d7a290537177",
   "metadata": {},
   "outputs": [
    {
     "data": {
      "text/plain": [
       "<matplotlib.image.AxesImage at 0x1476ec96e9a0>"
      ]
     },
     "execution_count": 60,
     "metadata": {},
     "output_type": "execute_result"
    },
    {
     "data": {
      "image/png": "[encoded data removed]",
      "text/plain": [
       "<Figure size 432x288 with 1 Axes>"
      ]
     },
     "metadata": {
      "needs_background": "light"
     },
     "output_type": "display_data"
    }
   ],
   "source": [
    "plt.spy(So.toarray())"
   ]
  },
  {
   "cell_type": "code",
   "execution_count": 94,
   "id": "8041b34a-4f48-47c4-b09d-ce0ceeebc331",
   "metadata": {},
   "outputs": [],
   "source": [
    "def flatten_2d_column(foot):\n",
    "    sub_foot = np.zeros((foot.shape[0]*foot.shape[1]))\n",
    "    for idx in range(foot.shape[1]):\n",
    "        sub_foot[idx*foot.shape[0]:(idx+1)*foot.shape[0]] = foot[:, idx]\n",
    "    return sub_foot\n",
    "\n",
    "def make_grid_2d_column(X, nrow, ncol):\n",
    "    X1 = np.zeros((nrow, ncol))\n",
    "    import pdb; pdb.set_trace()\n",
    "    for idx in range(ncol):\n",
    "        X1[:, idx] = X[idx*nrow:(idx+1)*nrow, 0]\n",
    "    return X1"
   ]
  },
  {
   "cell_type": "code",
   "execution_count": 72,
   "id": "408bd55b-d9e3-464d-813f-4bf40d65dc15",
   "metadata": {},
   "outputs": [
    {
     "data": {
      "text/plain": [
       "array([1., 4., 7., 2., 5., 8., 3., 6., 9.])"
      ]
     },
     "execution_count": 72,
     "metadata": {},
     "output_type": "execute_result"
    }
   ],
   "source": [
    "a = np.array([[1, 2, 3],\n",
    "             [4, 5, 6],\n",
    "             [7, 8, 9]])\n",
    "flatten_2d_column(a)"
   ]
  },
  {
   "cell_type": "code",
   "execution_count": 136,
   "id": "72b12301-4a9a-49c9-a4c9-fffd804c5fa5",
   "metadata": {},
   "outputs": [
    {
     "data": {
      "text/plain": [
       "(24.0, (24,))"
      ]
     },
     "execution_count": 136,
     "metadata": {},
     "output_type": "execute_result"
    }
   ],
   "source": [
    "X_hat.shape[0]/m, solution_date_range.shape"
   ]
  },
  {
   "cell_type": "code",
   "execution_count": 82,
   "id": "be90e056-ae0e-43e0-9a6f-5010a2ff88f7",
   "metadata": {},
   "outputs": [
    {
     "data": {
      "text/plain": [
       "array([[1., 2., 3.],\n",
       "       [4., 5., 6.],\n",
       "       [7., 8., 9.]])"
      ]
     },
     "execution_count": 82,
     "metadata": {},
     "output_type": "execute_result"
    }
   ],
   "source": [
    "flatten_2d_column(a).reshape(3, 3, order='F')"
   ]
  },
  {
   "cell_type": "code",
   "execution_count": 142,
   "id": "8cac8a63-157c-404c-9c79-85315bd7fcfe",
   "metadata": {},
   "outputs": [],
   "source": [
    "location = 'BEACON'\n",
    "output_directory = \"/home/disk/p/nd349/nikhil.dadheech/pointSources/Inversion/BEACON_Inv_python/data/inversion/\""
   ]
  },
  {
   "cell_type": "code",
   "execution_count": 149,
   "id": "e0505b29-232e-47d8-ac7d-6a5c69b8ad4f",
   "metadata": {},
   "outputs": [
    {
     "name": "stderr",
     "output_type": "stream",
     "text": [
      "0it [00:00, ?it/s]"
     ]
    },
    {
     "name": "stdout",
     "output_type": "stream",
     "text": [
      "/home/disk/p/nd349/nikhil.dadheech/pointSources/Inversion/BEACON_Inv_python/data/inversion/BEACON_2018x01x04x00.ncdf\n"
     ]
    },
    {
     "name": "stderr",
     "output_type": "stream",
     "text": [
      "1it [00:00,  2.01it/s]"
     ]
    },
    {
     "name": "stdout",
     "output_type": "stream",
     "text": [
      "/home/disk/p/nd349/nikhil.dadheech/pointSources/Inversion/BEACON_Inv_python/data/inversion/BEACON_2018x01x04x01.ncdf\n"
     ]
    },
    {
     "name": "stderr",
     "output_type": "stream",
     "text": [
      "4it [00:00,  6.29it/s]"
     ]
    },
    {
     "name": "stdout",
     "output_type": "stream",
     "text": [
      "/home/disk/p/nd349/nikhil.dadheech/pointSources/Inversion/BEACON_Inv_python/data/inversion/BEACON_2018x01x04x02.ncdf\n",
      "/home/disk/p/nd349/nikhil.dadheech/pointSources/Inversion/BEACON_Inv_python/data/inversion/BEACON_2018x01x04x03.ncdf\n",
      "/home/disk/p/nd349/nikhil.dadheech/pointSources/Inversion/BEACON_Inv_python/data/inversion/BEACON_2018x01x04x04.ncdf\n",
      "/home/disk/p/nd349/nikhil.dadheech/pointSources/Inversion/BEACON_Inv_python/data/inversion/BEACON_2018x01x04x05.ncdf\n",
      "/home/disk/p/nd349/nikhil.dadheech/pointSources/Inversion/BEACON_Inv_python/data/inversion/BEACON_2018x01x04x06.ncdf\n"
     ]
    },
    {
     "name": "stderr",
     "output_type": "stream",
     "text": [
      "10it [00:01, 14.94it/s]"
     ]
    },
    {
     "name": "stdout",
     "output_type": "stream",
     "text": [
      "/home/disk/p/nd349/nikhil.dadheech/pointSources/Inversion/BEACON_Inv_python/data/inversion/BEACON_2018x01x04x07.ncdf\n",
      "/home/disk/p/nd349/nikhil.dadheech/pointSources/Inversion/BEACON_Inv_python/data/inversion/BEACON_2018x01x04x08.ncdf\n",
      "/home/disk/p/nd349/nikhil.dadheech/pointSources/Inversion/BEACON_Inv_python/data/inversion/BEACON_2018x01x04x09.ncdf\n",
      "/home/disk/p/nd349/nikhil.dadheech/pointSources/Inversion/BEACON_Inv_python/data/inversion/BEACON_2018x01x04x10.ncdf\n",
      "/home/disk/p/nd349/nikhil.dadheech/pointSources/Inversion/BEACON_Inv_python/data/inversion/BEACON_2018x01x04x11.ncdf\n",
      "/home/disk/p/nd349/nikhil.dadheech/pointSources/Inversion/BEACON_Inv_python/data/inversion/BEACON_2018x01x04x12.ncdf\n"
     ]
    },
    {
     "name": "stderr",
     "output_type": "stream",
     "text": [
      "16it [00:01, 19.26it/s]"
     ]
    },
    {
     "name": "stdout",
     "output_type": "stream",
     "text": [
      "/home/disk/p/nd349/nikhil.dadheech/pointSources/Inversion/BEACON_Inv_python/data/inversion/BEACON_2018x01x04x13.ncdf\n",
      "/home/disk/p/nd349/nikhil.dadheech/pointSources/Inversion/BEACON_Inv_python/data/inversion/BEACON_2018x01x04x14.ncdf\n",
      "/home/disk/p/nd349/nikhil.dadheech/pointSources/Inversion/BEACON_Inv_python/data/inversion/BEACON_2018x01x04x15.ncdf\n",
      "/home/disk/p/nd349/nikhil.dadheech/pointSources/Inversion/BEACON_Inv_python/data/inversion/BEACON_2018x01x04x16.ncdf\n",
      "/home/disk/p/nd349/nikhil.dadheech/pointSources/Inversion/BEACON_Inv_python/data/inversion/BEACON_2018x01x04x17.ncdf\n"
     ]
    },
    {
     "name": "stderr",
     "output_type": "stream",
     "text": [
      "19it [00:01, 17.52it/s]"
     ]
    },
    {
     "name": "stdout",
     "output_type": "stream",
     "text": [
      "/home/disk/p/nd349/nikhil.dadheech/pointSources/Inversion/BEACON_Inv_python/data/inversion/BEACON_2018x01x04x18.ncdf\n",
      "/home/disk/p/nd349/nikhil.dadheech/pointSources/Inversion/BEACON_Inv_python/data/inversion/BEACON_2018x01x04x19.ncdf\n",
      "/home/disk/p/nd349/nikhil.dadheech/pointSources/Inversion/BEACON_Inv_python/data/inversion/BEACON_2018x01x04x20.ncdf\n",
      "/home/disk/p/nd349/nikhil.dadheech/pointSources/Inversion/BEACON_Inv_python/data/inversion/BEACON_2018x01x04x21.ncdf\n"
     ]
    },
    {
     "name": "stderr",
     "output_type": "stream",
     "text": [
      "24it [00:01, 13.81it/s]"
     ]
    },
    {
     "name": "stdout",
     "output_type": "stream",
     "text": [
      "/home/disk/p/nd349/nikhil.dadheech/pointSources/Inversion/BEACON_Inv_python/data/inversion/BEACON_2018x01x04x22.ncdf\n",
      "/home/disk/p/nd349/nikhil.dadheech/pointSources/Inversion/BEACON_Inv_python/data/inversion/BEACON_2018x01x04x23.ncdf\n"
     ]
    },
    {
     "name": "stderr",
     "output_type": "stream",
     "text": [
      "\n"
     ]
    }
   ],
   "source": [
    "def save_solution(X_hat):\n",
    "    # X_hat = self.X_hat\n",
    "    X_hat_grid = np.zeros((int(X_hat.shape[0]/m), nrow, ncol))\n",
    "    for idx in range(X_hat_grid.shape[0]):\n",
    "        # X_hat_grid[idx, :, :] = make_grid_2d_column(X_hat[idx*m:(idx+1)*m, 0], nrow, ncol)\n",
    "        X_hat_grid[idx, :, :] = X_hat[idx*m:(idx+1)*m, 0].reshape(nrow, ncol, order='F')\n",
    "    solution_date_range = pd.date_range(start=start_time, end=end_time-datetime.timedelta(hours=1), freq='1h')\n",
    "    for idx, timestamp in tqdm(enumerate(solution_date_range)):\n",
    "        year = str(timestamp.year)\n",
    "        month = str(timestamp.month)\n",
    "        day = str(timestamp.day)\n",
    "        hour = str(timestamp.hour)\n",
    "        if len(month)==1:\n",
    "            month = '0'+month\n",
    "        if len(day) == 1:\n",
    "            day = '0'+day\n",
    "        if len(hour) == 1:\n",
    "            hour = '0'+hour\n",
    "        timestamp = f\"{year}{month}{day}{hour}\"\n",
    "        file = f\"{output_directory}{location}_{year}x{month}x{day}x{hour}.ncdf\"\n",
    "        flux = X_hat_grid[idx, :, :]\n",
    "        print(file)\n",
    "        \n",
    "    \n",
    "        out_nc = nc.Dataset(file, \"w\", format='NETCDF4')\n",
    "        out_nc.createDimension(\"lat\", nrow)\n",
    "        out_nc.createDimension(\"lon\", ncol)\n",
    "        out_nc.createDimension(\"info\", 1)\n",
    "        lat = out_nc.createVariable(\"lat\", \"f8\", (\"lat\",))\n",
    "        lon = out_nc.createVariable(\"lon\", \"f8\", (\"lon\",))\n",
    "\n",
    "        lat[:] = lats\n",
    "        lon[:] = lons\n",
    "        # out_nc.createVariable(\"timestamp\", \"f8\", (\"info\"))[:] = int(timestamp)\n",
    "        # timesteps[:] = out_nc.stringtochar(np.array([message], 'S'))\n",
    "        soln = out_nc.createVariable(\"flux\", \"f8\", (\"lat\", \"lon\"))\n",
    "        soln[:,:] = flux\n",
    "        out_nc.close()\n",
    "\n",
    "save_solution(X_hat)"
   ]
  },
  {
   "cell_type": "code",
   "execution_count": 179,
   "id": "f428324f-69ab-4d76-92b4-02d50a4692e7",
   "metadata": {},
   "outputs": [
    {
     "data": {
      "text/plain": [
       "<class 'netCDF4._netCDF4.Dataset'>\n",
       "root group (NETCDF4 data model, file format HDF5):\n",
       "    dimensions(sizes): lat(481), lon(601), info(1)\n",
       "    variables(dimensions): float64 lat(lat), float64 lon(lon), float64 flux(lat, lon)\n",
       "    groups: "
      ]
     },
     "execution_count": 179,
     "metadata": {},
     "output_type": "execute_result"
    }
   ],
   "source": [
    "data = nc.Dataset(\"/home/disk/hermes/nd349/data/inversion/BEACON/BEACON_2018x01x04x05.ncdf\")\n",
    "data"
   ]
  },
  {
   "cell_type": "code",
   "execution_count": 181,
   "id": "6d560230-27db-4bc9-b31f-c8cd5c19baa7",
   "metadata": {},
   "outputs": [
    {
     "data": {
      "text/plain": [
       "<matplotlib.colorbar.Colorbar at 0x1474eaa8d250>"
      ]
     },
     "execution_count": 181,
     "metadata": {},
     "output_type": "execute_result"
    },
    {
     "data": {
      "image/png": "[encoded data removed]",
      "text/plain": [
       "<Figure size 432x288 with 2 Axes>"
      ]
     },
     "metadata": {
      "needs_background": "light"
     },
     "output_type": "display_data"
    }
   ],
   "source": [
    "h = plt.pcolor(np.array(data['lon']), np.array(data['lat']), np.array(data['flux']), vmin=0, vmax=10)\n",
    "plt.colorbar(h)"
   ]
  },
  {
   "cell_type": "code",
   "execution_count": 162,
   "id": "5e7bfedf-7b4d-4fa8-a925-bf3033a38afd",
   "metadata": {},
   "outputs": [
    {
     "data": {
      "text/plain": [
       "<matplotlib.image.AxesImage at 0x1475523aa7c0>"
      ]
     },
     "execution_count": 162,
     "metadata": {},
     "output_type": "execute_result"
    },
    {
     "data": {
      "image/png": "[encoded data removed]",
      "text/plain": [
       "<Figure size 432x288 with 1 Axes>"
      ]
     },
     "metadata": {
      "needs_background": "light"
     },
     "output_type": "display_data"
    }
   ],
   "source": [
    "plt.spy(np.array(data['flux']))"
   ]
  },
  {
   "cell_type": "code",
   "execution_count": 129,
   "id": "e16e7735-d830-4173-9754-fa6ccc1b1e30",
   "metadata": {},
   "outputs": [
    {
     "data": {
      "text/plain": [
       "array([[b'2', b'0', b'1', b'8', b'-', b'0', b'1', b'-', b'0', b'4', b' ',\n",
       "        b'0', b'0', b':', b'0', b'0', b':', b'0', b'0'],\n",
       "       [b'2', b'0', b'1', b'8', b'-', b'0', b'1', b'-', b'0', b'4', b' ',\n",
       "        b'0', b'1', b':', b'0', b'0', b':', b'0', b'0'],\n",
       "       [b'2', b'0', b'1', b'8', b'-', b'0', b'1', b'-', b'0', b'4', b' ',\n",
       "        b'0', b'2', b':', b'0', b'0', b':', b'0', b'0'],\n",
       "       [b'2', b'0', b'1', b'8', b'-', b'0', b'1', b'-', b'0', b'4', b' ',\n",
       "        b'0', b'3', b':', b'0', b'0', b':', b'0', b'0'],\n",
       "       [b'2', b'0', b'1', b'8', b'-', b'0', b'1', b'-', b'0', b'4', b' ',\n",
       "        b'0', b'4', b':', b'0', b'0', b':', b'0', b'0'],\n",
       "       [b'2', b'0', b'1', b'8', b'-', b'0', b'1', b'-', b'0', b'4', b' ',\n",
       "        b'0', b'5', b':', b'0', b'0', b':', b'0', b'0'],\n",
       "       [b'2', b'0', b'1', b'8', b'-', b'0', b'1', b'-', b'0', b'4', b' ',\n",
       "        b'0', b'6', b':', b'0', b'0', b':', b'0', b'0'],\n",
       "       [b'2', b'0', b'1', b'8', b'-', b'0', b'1', b'-', b'0', b'4', b' ',\n",
       "        b'0', b'7', b':', b'0', b'0', b':', b'0', b'0'],\n",
       "       [b'2', b'0', b'1', b'8', b'-', b'0', b'1', b'-', b'0', b'4', b' ',\n",
       "        b'0', b'8', b':', b'0', b'0', b':', b'0', b'0'],\n",
       "       [b'2', b'0', b'1', b'8', b'-', b'0', b'1', b'-', b'0', b'4', b' ',\n",
       "        b'0', b'9', b':', b'0', b'0', b':', b'0', b'0'],\n",
       "       [b'2', b'0', b'1', b'8', b'-', b'0', b'1', b'-', b'0', b'4', b' ',\n",
       "        b'1', b'0', b':', b'0', b'0', b':', b'0', b'0'],\n",
       "       [b'2', b'0', b'1', b'8', b'-', b'0', b'1', b'-', b'0', b'4', b' ',\n",
       "        b'1', b'1', b':', b'0', b'0', b':', b'0', b'0'],\n",
       "       [b'2', b'0', b'1', b'8', b'-', b'0', b'1', b'-', b'0', b'4', b' ',\n",
       "        b'1', b'2', b':', b'0', b'0', b':', b'0', b'0'],\n",
       "       [b'2', b'0', b'1', b'8', b'-', b'0', b'1', b'-', b'0', b'4', b' ',\n",
       "        b'1', b'3', b':', b'0', b'0', b':', b'0', b'0'],\n",
       "       [b'2', b'0', b'1', b'8', b'-', b'0', b'1', b'-', b'0', b'4', b' ',\n",
       "        b'1', b'4', b':', b'0', b'0', b':', b'0', b'0'],\n",
       "       [b'2', b'0', b'1', b'8', b'-', b'0', b'1', b'-', b'0', b'4', b' ',\n",
       "        b'1', b'5', b':', b'0', b'0', b':', b'0', b'0'],\n",
       "       [b'2', b'0', b'1', b'8', b'-', b'0', b'1', b'-', b'0', b'4', b' ',\n",
       "        b'1', b'6', b':', b'0', b'0', b':', b'0', b'0'],\n",
       "       [b'2', b'0', b'1', b'8', b'-', b'0', b'1', b'-', b'0', b'4', b' ',\n",
       "        b'1', b'7', b':', b'0', b'0', b':', b'0', b'0'],\n",
       "       [b'2', b'0', b'1', b'8', b'-', b'0', b'1', b'-', b'0', b'4', b' ',\n",
       "        b'1', b'8', b':', b'0', b'0', b':', b'0', b'0'],\n",
       "       [b'2', b'0', b'1', b'8', b'-', b'0', b'1', b'-', b'0', b'4', b' ',\n",
       "        b'1', b'9', b':', b'0', b'0', b':', b'0', b'0'],\n",
       "       [b'2', b'0', b'1', b'8', b'-', b'0', b'1', b'-', b'0', b'4', b' ',\n",
       "        b'2', b'0', b':', b'0', b'0', b':', b'0', b'0'],\n",
       "       [b'2', b'0', b'1', b'8', b'-', b'0', b'1', b'-', b'0', b'4', b' ',\n",
       "        b'2', b'1', b':', b'0', b'0', b':', b'0', b'0'],\n",
       "       [b'2', b'0', b'1', b'8', b'-', b'0', b'1', b'-', b'0', b'4', b' ',\n",
       "        b'2', b'2', b':', b'0', b'0', b':', b'0', b'0'],\n",
       "       [b'2', b'0', b'1', b'8', b'-', b'0', b'1', b'-', b'0', b'4', b' ',\n",
       "        b'2', b'3', b':', b'0', b'0', b':', b'0', b'0'],\n",
       "       [b'2', b'0', b'1', b'8', b'-', b'0', b'1', b'-', b'0', b'5', b' ',\n",
       "        b'0', b'0', b':', b'0', b'0', b':', b'0', b'0']], dtype='|S1')"
      ]
     },
     "execution_count": 129,
     "metadata": {},
     "output_type": "execute_result"
    }
   ],
   "source": [
    "# nc.stringtochar(np.array([str(element) for element in solution_date_range], 'S19'))"
   ]
  },
  {
   "cell_type": "code",
   "execution_count": 135,
   "id": "028b00ee-0856-4909-a46c-a4e709a86c27",
   "metadata": {},
   "outputs": [],
   "source": [
    "solution_date_range = pd.date_range(start=start_time, end=end_time-datetime.timedelta(hours=1), freq='1h')"
   ]
  },
  {
   "cell_type": "code",
   "execution_count": null,
   "id": "c9a069c6-f84e-403e-aca5-81e903df91e8",
   "metadata": {},
   "outputs": [],
   "source": [
    "data = nc.Dataset"
   ]
  },
  {
   "cell_type": "code",
   "execution_count": 2,
   "id": "1615f157-1c3f-402d-a574-51bc889a88d3",
   "metadata": {},
   "outputs": [],
   "source": [
    "import datetime # ; import time\n",
    "import numpy as np\n",
    "import pandas as pd\n"
   ]
  },
  {
   "cell_type": "code",
   "execution_count": 26,
   "id": "c27d3074-5e6a-4349-b468-985a26c08c4f",
   "metadata": {},
   "outputs": [],
   "source": [
    "start = datetime.datetime(2018, 1, 4, 0, 0)\n",
    "end = datetime.datetime(2018, 1, 10, 0, 0)\n",
    "hours_interval = 24 # hours\n",
    "difference = (end-start).total_seconds()/3600 # hours"
   ]
  },
  {
   "cell_type": "code",
   "execution_count": 36,
   "id": "a43a4be2-bb9a-4dd1-8309-db02638cfca2",
   "metadata": {},
   "outputs": [
    {
     "name": "stdout",
     "output_type": "stream",
     "text": [
      "2018-01-04 00:00:00\n",
      "2018-01-05 00:00:00\n",
      "0\n",
      "2018-01-05 00:00:00\n",
      "2018-01-06 00:00:00\n",
      "1\n",
      "2018-01-06 00:00:00\n",
      "2018-01-07 00:00:00\n",
      "2\n",
      "2018-01-07 00:00:00\n",
      "2018-01-08 00:00:00\n",
      "3\n",
      "2018-01-08 00:00:00\n",
      "2018-01-09 00:00:00\n",
      "4\n",
      "2018-01-09 00:00:00\n",
      "2018-01-10 00:00:00\n",
      "5\n"
     ]
    }
   ],
   "source": [
    "iteration = int(difference/hours_interval)\n",
    "\n",
    "for idx in range(iteration):\n",
    "    print(start+datetime.timedelta(hours=hours_interval*(idx)))\n",
    "    print(start+datetime.timedelta(hours=hours_interval*(idx+1)))\n",
    "    print(idx)"
   ]
  },
  {
   "cell_type": "markdown",
   "id": "aec40799-3b0d-46c5-90dd-ba4a61eeef3b",
   "metadata": {},
   "source": [
    "# Slurm Job Script"
   ]
  },
  {
   "cell_type": "code",
   "execution_count": 200,
   "id": "ee2a67eb-7867-43f1-b409-df9dbfcb832a",
   "metadata": {},
   "outputs": [],
   "source": [
    "start = '2018010400'\n",
    "end = '2018010500'\n",
    "location = 'BEACON'\n",
    "jobname = f'BEACON_{start}'\n",
    "\n",
    "with open('job.sh', 'w') as file:\n",
    "    file.writelines(\"#!/bin/bash\\n\")\n",
    "    file.writelines(\"\\n\")\n",
    "    file.writelines(\"#SBATCH\\n\")\n",
    "    file.writelines(f\"#SBATCH --job-name={jobname}\\n\")\n",
    "    file.writelines(\"#SBATCH -N 1      # nodes requested\\n\")\n",
    "    file.writelines(\"#SBATCH -n 1      # tasks requested\\n\")\n",
    "    file.writelines(\"#SBATCH -c 32      # cores requested\\n\")\n",
    "    file.writelines(\"#SBATCH --mem=102400  # memory in Mb\\n\")\n",
    "    file.writelines(\"#SBATCH -o slurm_output_%j.out  # send stdout to outfile\\n\")\n",
    "    file.writelines(\"#SBATCH -e slurm_errfile_%j.out  # send stderr to errfile\\n\")\n",
    "    file.writelines(\"#SBATCH -t 96:00:00  # time requested in hour:minute:second\\n\")\n",
    "    file.writelines(\"\\n\\n\\n\")\n",
    "    \n",
    "    file.writelines(\"cd /home/disk/p/nd349/nikhil.dadheech/pointSources/Inversion/BEACON_Inv_python\\n\")\n",
    "    file.writelines(\"source /home/disk/p/nd349/anaconda3/etc/profile.d/conda.sh\\n\")\n",
    "    file.writelines(\"\\n\\n\\n\")\n",
    "    file.writelines(\"conda activate stilt\\n\")\n",
    "    file.writelines(\"time python template.py $1 $2 $3\")\n",
    "file.close()"
   ]
  },
  {
   "cell_type": "code",
   "execution_count": 9,
   "id": "d82d86c6-e59e-4fdc-97cd-ab05091c0578",
   "metadata": {},
   "outputs": [],
   "source": [
    "directory = \"/home/disk/hermes/nd349/data/inversion/integrated_decayed_BEACON\""
   ]
  },
  {
   "cell_type": "code",
   "execution_count": 10,
   "id": "6d476c29-a46e-495f-ac38-e5b719600f72",
   "metadata": {},
   "outputs": [],
   "source": [
    "files = get_files(directory, extension='ncdf')\n",
    "files.sort()"
   ]
  },
  {
   "cell_type": "code",
   "execution_count": null,
   "id": "5f42f30d-e9dc-44e1-8846-5457a60adacb",
   "metadata": {},
   "outputs": [],
   "source": [
    "missed_dates = ['20200305','20200306', '20200310', '20200312', '20200408', '20200410', '20200411']"
   ]
  },
  {
   "cell_type": "code",
   "execution_count": 12,
   "id": "6a7d7ce3-32e0-4b9b-8f62-aa66c7edf5ad",
   "metadata": {
    "scrolled": true,
    "tags": []
   },
   "outputs": [
    {
     "data": {
      "text/plain": [
       "['20200202',\n",
       " '20200203',\n",
       " '20200204',\n",
       " '20200205',\n",
       " '20200206',\n",
       " '20200207',\n",
       " '20200208',\n",
       " '20200209',\n",
       " '20200210',\n",
       " '20200211',\n",
       " '20200212',\n",
       " '20200213',\n",
       " '20200214',\n",
       " '20200215',\n",
       " '20200216',\n",
       " '20200217',\n",
       " '20200218',\n",
       " '20200219',\n",
       " '20200220',\n",
       " '20200221',\n",
       " '20200222',\n",
       " '20200223',\n",
       " '20200224',\n",
       " '20200225',\n",
       " '20200226',\n",
       " '20200227',\n",
       " '20200228',\n",
       " '20200229',\n",
       " '20200301',\n",
       " '20200302',\n",
       " '20200303',\n",
       " '20200304',\n",
       " '20200307',\n",
       " '20200308',\n",
       " '20200309',\n",
       " '20200311',\n",
       " '20200313',\n",
       " '20200314',\n",
       " '20200322',\n",
       " '20200323',\n",
       " '20200324',\n",
       " '20200325',\n",
       " '20200326',\n",
       " '20200327',\n",
       " '20200328',\n",
       " '20200329',\n",
       " '20200330',\n",
       " '20200331',\n",
       " '20200401',\n",
       " '20200402',\n",
       " '20200403',\n",
       " '20200404',\n",
       " '20200405',\n",
       " '20200406',\n",
       " '20200407',\n",
       " '20200409',\n",
       " '20200411',\n",
       " '20200412',\n",
       " '20200413',\n",
       " '20200414',\n",
       " '20200415',\n",
       " '20200416',\n",
       " '20200417',\n",
       " '20200418',\n",
       " '20200419',\n",
       " '20200420',\n",
       " '20200421',\n",
       " '20200422',\n",
       " '20200423',\n",
       " '20200424',\n",
       " '20200425',\n",
       " '20200426',\n",
       " '20200427',\n",
       " '20200428',\n",
       " '20200429',\n",
       " '20200430',\n",
       " '20200501',\n",
       " '20200502']"
      ]
     },
     "execution_count": 12,
     "metadata": {},
     "output_type": "execute_result"
    }
   ],
   "source": [
    "timeseries = []\n",
    "for file in files:\n",
    "    term = file.replace(\".ncdf\", \"\").split(\"_\")[-1]\n",
    "    date = term.replace(\"x\", \"\")[:-2]\n",
    "    if date not in timeseries:\n",
    "        timeseries.append(date)\n",
    "timeseries"
   ]
  },
  {
   "cell_type": "markdown",
   "id": "cf75dee3-bc00-4094-8e42-6a39c580a829",
   "metadata": {},
   "source": [
    "# integrated decayed weights H"
   ]
  },
  {
   "cell_type": "code",
   "execution_count": 27,
   "id": "622511e7-4793-43d6-80e5-24a676302a75",
   "metadata": {},
   "outputs": [],
   "source": [
    "x = 1\n",
    "r = 1/np.e\n",
    "n = 36\n",
    "a = x*(1-r)/(1-r**n)\n",
    "weight_list = []\n",
    "weight_list.append(a)\n",
    "term = a\n",
    "for idx in range(n-1):\n",
    "    term = term*r\n",
    "    weight_list.append(term)"
   ]
  },
  {
   "cell_type": "code",
   "execution_count": 26,
   "id": "1c6124d8-3b59-4813-87ac-6ee1a3e9c82b",
   "metadata": {},
   "outputs": [
    {
     "data": {
      "text/plain": [
       "0.36787944117144233"
      ]
     },
     "execution_count": 26,
     "metadata": {},
     "output_type": "execute_result"
    }
   ],
   "source": [
    "1/np.e"
   ]
  },
  {
   "cell_type": "code",
   "execution_count": 28,
   "id": "a95c07b2-c407-4ade-8e50-0e8ee5517b27",
   "metadata": {},
   "outputs": [
    {
     "data": {
      "text/plain": [
       "[0.6321205588285578,\n",
       " 0.2325441579348297,\n",
       " 0.08554821486874878,\n",
       " 0.03147142947912977,\n",
       " 0.011577691889648717,\n",
       " 0.00425919482241911,\n",
       " 0.0015668702111118428,\n",
       " 0.0005764193376520046,\n",
       " 0.00021205282381583237,\n",
       " 7.800987432419473e-05,\n",
       " 2.8698228972239205e-05,\n",
       " 1.0557488436917455e-05,\n",
       " 3.883882946347158e-06,\n",
       " 1.4288006878774874e-06,\n",
       " 5.256263986017425e-07,\n",
       " 1.9336714578256684e-07,\n",
       " 7.113579753140751e-08,\n",
       " 2.6169397443139062e-08,\n",
       " 9.62718330717537e-09,\n",
       " 3.541642815098713e-09,\n",
       " 1.3028975796473685e-09,\n",
       " 4.793092335042987e-10,\n",
       " 1.7632801296987378e-10,\n",
       " 6.4867450874228e-11,\n",
       " 2.3863401577826985e-11,\n",
       " 8.778854836900707e-12,\n",
       " 3.2295602115242455e-12,\n",
       " 1.1880888058450646e-12,\n",
       " 4.370734459563286e-13,\n",
       " 1.6079033504929077e-13,\n",
       " 5.915145860370207e-14,\n",
       " 2.176060553560562e-14,\n",
       " 8.00527940399079e-15,\n",
       " 2.944977713561389e-15,\n",
       " 1.0833967555273159e-15,\n",
       " 3.985593929903427e-16]"
      ]
     },
     "execution_count": 28,
     "metadata": {},
     "output_type": "execute_result"
    }
   ],
   "source": [
    "weight_list"
   ]
  },
  {
   "cell_type": "code",
   "execution_count": 29,
   "id": "b677ce74-46b4-49d2-842f-dacd5e06f19b",
   "metadata": {},
   "outputs": [
    {
     "data": {
      "text/plain": [
       "[<matplotlib.lines.Line2D at 0x14ca35fdbf70>]"
      ]
     },
     "execution_count": 29,
     "metadata": {},
     "output_type": "execute_result"
    },
    {
     "data": {
      "image/png": "[encoded data removed]",
      "text/plain": [
       "<Figure size 432x288 with 1 Axes>"
      ]
     },
     "metadata": {
      "needs_background": "light"
     },
     "output_type": "display_data"
    }
   ],
   "source": [
    "axis = [i for i in range(len(weight_list))]\n",
    "plt.plot(axis, weight_list)"
   ]
  },
  {
   "cell_type": "code",
   "execution_count": 30,
   "id": "f86434cb-058a-4765-8492-e5b99319e8b4",
   "metadata": {},
   "outputs": [
    {
     "data": {
      "text/plain": [
       "0.9999999999999999"
      ]
     },
     "execution_count": 30,
     "metadata": {},
     "output_type": "execute_result"
    }
   ],
   "source": [
    "sum(weight_list)"
   ]
  },
  {
   "cell_type": "code",
   "execution_count": null,
   "id": "c044dbc8-a062-4afc-95bf-2dae4858ec3f",
   "metadata": {},
   "outputs": [],
   "source": []
  }
 ],
 "metadata": {
  "kernelspec": {
   "display_name": "Python 3 (ipykernel)",
   "language": "python",
   "name": "python3"
  },
  "language_info": {
   "codemirror_mode": {
    "name": "ipython",
    "version": 3
   },
   "file_extension": ".py",
   "mimetype": "text/x-python",
   "name": "python",
   "nbconvert_exporter": "python",
   "pygments_lexer": "ipython3",
   "version": "3.8.12"
  }
 },
 "nbformat": 4,
 "nbformat_minor": 5
}
